{
 "cells": [
  {
   "cell_type": "markdown",
   "id": "09aa10bd-f50d-4004-9c07-62b21a42bad0",
   "metadata": {},
   "source": [
    "# 练习：计算小明的体重 [容易]\n",
    "\n",
    "小明身高1.75，体重80.5kg。请根据BMI公式（体重除以身高的平方）帮小明计算他的BMI指数，并根据BMI指数：\n",
    "\n",
    "- 低于18.5：过轻\n",
    "- 18.5-25：正常\n",
    "- 25-28：过重\n",
    "- 28-32：肥胖\n",
    "- 高于32：严重肥胖\n",
    "\n",
    "Tips：\n",
    "    用`if-elif`判断并打印结果\n",
    "\n",
    "\n",
    "\n",
    "## 答案\n",
    "\n",
    "定义小明的身高、体重为浮点型变量\n",
    "\n",
    "```python\n",
    "height = 1.75\n",
    "weight = 80.5\n",
    "```\n",
    "\n",
    "计算BMI公式\n",
    "\n",
    "```python\n",
    "BMI = weight/(height*height)\n",
    "print(BMI)\n",
    "```\n",
    "\n",
    "使用if elif else判断语句：\n",
    "\n",
    "```python\n",
    "if BMI < 18.5:\n",
    "    print('BMI指数 过轻!')\n",
    "elif BMI < 25:\n",
    "    print('BMI指数 正常!')\n",
    "elif BMI < 28:\n",
    "    print('BMI指数 过重!')  \n",
    "elif BMI < 32:\n",
    "    print('BMI指数 肥胖!')  \n",
    "else:\n",
    "    print('BMI指数 严重肥胖!')  \n",
    "```\n",
    "\n",
    "\n"
   ]
  },
  {
   "cell_type": "code",
   "execution_count": null,
   "id": "95472aa6-25c4-4a89-ae99-14e1b908a265",
   "metadata": {},
   "outputs": [],
   "source": []
  }
 ],
 "metadata": {
  "kernelspec": {
   "display_name": "Python 3 (ipykernel)",
   "language": "python",
   "name": "python3"
  },
  "language_info": {
   "codemirror_mode": {
    "name": "ipython",
    "version": 3
   },
   "file_extension": ".py",
   "mimetype": "text/x-python",
   "name": "python",
   "nbconvert_exporter": "python",
   "pygments_lexer": "ipython3",
   "version": "3.8.5"
  }
 },
 "nbformat": 4,
 "nbformat_minor": 5
}
