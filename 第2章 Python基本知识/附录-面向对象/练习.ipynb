{
 "cells": [
  {
   "cell_type": "markdown",
   "id": "b4545bf8-1f01-423f-a0ae-40ea712c526f",
   "metadata": {},
   "source": [
    "\n",
    "## 练习：创建个人简历类CV\n",
    "\n",
    "![null-template](image/null-template.jpg)\n",
    "\n",
    "我们创建一个类，名字为CV，它完成个人简历的录入、修改和打印功能。\n",
    "\n",
    "它包含以下属性：\n",
    "\n",
    "- 名字，字符串\n",
    "- 性别，字符串\n",
    "- 年龄，整形\n",
    "- 联系方式，字符串\n",
    "- 毕业院校，列表嵌套了字典，每一条毕业院校包含以下：\"开始日期\",\"结束日期\", \"学校名称\", \"专业\", 学位\"\n",
    "- 技能证书，列表\n",
    "- 兴趣爱好，列表\n",
    "- 工作经历，列表嵌套了字典，每一条工作经历包含以下信息：\"开始日期\",\"结束日期\",\"工作单位\",\"工作描述\"\n",
    "- 荣誉奖励，列表嵌套了字典，每一条荣誉奖励包含以下信息：\"日期\",\"荣誉名称\"\n",
    "\n",
    "它包含以下方法：\n",
    "\n",
    "- 打印个人基本信息 print_basic_info()\n",
    "- 打印学业信息 print_university()\n",
    "- 打印技能证书 print_skills_certificates()\n",
    "\n",
    "以上变量名称建议使用英文单词代替。\n",
    "\n",
    "最后创建一个简历类的实例叫fengkai，并录入以下信息，并打印他的基本信息，学业信息，技能证书\n",
    "![template](image/template.jpg)"
   ]
  },
  {
   "cell_type": "code",
   "execution_count": null,
   "id": "4b1d45ae-811f-4625-8bbb-caba83e4169d",
   "metadata": {},
   "outputs": [],
   "source": [
    "class CV(object):\n",
    "    def __init__(self, name, gender, age):\n",
    "        self.name = name\n",
    "        self.gender = gender\n",
    "        self.age =age\n",
    "        # your code is here^^\n",
    "        \n",
    "        \n",
    "    def print_basic_info(self):\n",
    "        # your code is here^^\n",
    "        return\n",
    "        \n",
    "    \n",
    "    def print_university(self):\n",
    "        # your code is here^^\n",
    "        return\n",
    "\n",
    "\n",
    "    def print_skills_certificates(self):\n",
    "        # your code is here^^\n",
    "        return\n",
    "\n"
   ]
  },
  {
   "cell_type": "markdown",
   "id": "a848597e-e203-4d7d-ac7d-53d0b5994d93",
   "metadata": {},
   "source": [
    "\n",
    "\n",
    "\n",
    "\n",
    "***\n",
    "\n",
    "## 练习：个人简历的set和get方法\n",
    "\n",
    "一名叫Jack的同学，他获得了“普通话二级甲等证书”，属于语言证书类别。请设计一个类完成简历的功能，并实例化：\n",
    "\n",
    "1）调用Jack.set_certificate(“普通话二级甲等证书”)来添加证书；\n",
    "\n",
    "2）调用Jack.get_certificate() 返回一个列表，其中包含“普通话二级甲等证书”。\n"
   ]
  },
  {
   "cell_type": "code",
   "execution_count": null,
   "id": "abb8bcca-aadb-4ea5-9c7c-de0c36abd8a9",
   "metadata": {},
   "outputs": [],
   "source": []
  }
 ],
 "metadata": {
  "kernelspec": {
   "display_name": "Python 3 (ipykernel)",
   "language": "python",
   "name": "python3"
  },
  "language_info": {
   "codemirror_mode": {
    "name": "ipython",
    "version": 3
   },
   "file_extension": ".py",
   "mimetype": "text/x-python",
   "name": "python",
   "nbconvert_exporter": "python",
   "pygments_lexer": "ipython3",
   "version": "3.9.7"
  },
  "widgets": {
   "application/vnd.jupyter.widget-state+json": {
    "state": {},
    "version_major": 2,
    "version_minor": 0
   }
  }
 },
 "nbformat": 4,
 "nbformat_minor": 5
}
