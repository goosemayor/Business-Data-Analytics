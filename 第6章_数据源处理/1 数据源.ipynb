{
 "cells": [
  {
   "cell_type": "markdown",
   "id": "2842ef21-f5ee-48fe-bb9b-0b34e726d989",
   "metadata": {},
   "source": [
    "# 数据源"
   ]
  },
  {
   "cell_type": "markdown",
   "id": "223fe24e-ade8-47e2-9f49-d83bef14b888",
   "metadata": {},
   "source": [
    "## 1. 商业数据的发展"
   ]
  },
  {
   "cell_type": "markdown",
   "id": "6e8af938-2ea9-4cc4-85e8-2bfd0b5d2709",
   "metadata": {},
   "source": [
    "我们从一个应用场景出发，来了解金融数据的发展："
   ]
  },
  {
   "cell_type": "markdown",
   "id": "88ef55c1-c9df-47a5-a006-6ae49ac55a70",
   "metadata": {},
   "source": [
    "预测问题是资产定价的核心。为了给股票定价，投资者必须预测公司未来的现金流。为了找到表现优异的交易策略，投资者会寻找能够预\n",
    "测资产收益率的信号。检验资产定价模型的学者们需寻找能够解释资产收益率（横）截面差异或时序变化的预测变量。信用风险模型需要能够\n",
    "预测违约的变量作为输人。对冲和风险管理模型则需要预测资产收益率之间的共同运动。"
   ]
  },
  {
   "cell_type": "markdown",
   "id": "37d2a6a3-4b33-4afc-aefc-a312df47753f",
   "metadata": {},
   "source": [
    "过去数十年，技术的进步致使投资者和分析师可获得的信息量呈爆发式增长。即使我们只看到其中的一小部分，即从公司财务报告中提取的数据，数据可得性的增长也是惊人的。一百年穆迪手册([Moody's](https://www.moodys.com) manuals)企业财务报告的印刷版年卷代表了公众随时可以获得的大部分数据。"
   ]
  },
  {
   "cell_type": "markdown",
   "id": "a839b0d4-9d65-4f3d-aed0-3852e36e6687",
   "metadata": {},
   "source": [
    "![moody_manuals](image/moody_manuals.png)"
   ]
  },
  {
   "cell_type": "markdown",
   "id": "a5f6c4a1-c397-4bf8-ab89-afa701716a2f",
   "metadata": {},
   "source": [
    "随着电子计算机的出现，像[COMPUSTAT](https://www.spglobal.com/marketintelligence/en/solutions/fundamental-data)这样的数据库(美国标普公司在1962年创建的高质量财务数据库)，\n",
    "如今它是学术界在针对美股进行实证资产定价研究时所使用的重要数据库之一。"
   ]
  },
  {
   "cell_type": "markdown",
   "id": "be19bf1d-b492-4413-b45a-4b5ee736c4cd",
   "metadata": {},
   "source": [
    "![mi-platform](image/mi-platform.png)"
   ]
  },
  {
   "cell_type": "markdown",
   "id": "4dddb7f3-7597-4704-b4ac-0e63bf0fc351",
   "metadata": {},
   "source": [
    "美国证券交易委员会（SEC）的[Edgar](https://www.sec.gov/edgar)数据库包含了TB级的财务报告数据，从这些文件中为每个公司构建出数以百万计的变量。"
   ]
  },
  {
   "cell_type": "markdown",
   "id": "0f51c7c3-8bad-4f03-8e46-da32a18ce02e",
   "metadata": {},
   "source": [
    "![big_data_evo](image/big_data_evo.png)"
   ]
  },
  {
   "cell_type": "markdown",
   "id": "770f51ed-e613-4d67-97c9-c3bfefbb5528",
   "metadata": {},
   "source": [
    "公司财务报告只代表了投资者潜在可获得的一小部分数据。除此之外，\n",
    "1) 记录市场历史价格和交易记录的数据库包含了海量数据；\n",
    "2) 社交媒体中包含了大量投资者情绪数据；\n",
    "3) 客户和员工的在线点评也可能包含有价值的信息；  \n",
    "\n",
    "以及许多其他数据源都有可能和前文提到的预测应用密切相关。"
   ]
  },
  {
   "cell_type": "markdown",
   "id": "dbf73cff-3bf1-4456-b6e5-5478e8461991",
   "metadata": {},
   "source": [
    "### 练习\n",
    "你还能想到在网络上可以获取到哪些其他和金融相关的数据？"
   ]
  },
  {
   "cell_type": "code",
   "execution_count": null,
   "id": "cdaaa317-6a35-424e-9ac0-d072cf7afe42",
   "metadata": {},
   "outputs": [],
   "source": []
  },
  {
   "cell_type": "markdown",
   "id": "aa848750-e919-4e2e-bc75-42f1b4dfa533",
   "metadata": {},
   "source": [
    "## 2.商业数据的来源"
   ]
  },
  {
   "cell_type": "markdown",
   "id": "c9947556-c61f-465e-9359-79607c53bd0e",
   "metadata": {},
   "source": [
    "金融相关的数据，通常包括客户信息、投融资信息、金融舆情信息、市场数据、公开的财务报表、股票、基金、利率等信息。这些数据的提供者来自于政府、信息服务商或者个人。"
   ]
  },
  {
   "cell_type": "markdown",
   "id": "12fa4d57-fec6-47c2-bf1f-d253d368eec6",
   "metadata": {},
   "source": [
    "![gov-china](image/gov-china.png)"
   ]
  },
  {
   "cell_type": "markdown",
   "id": "269e9eda-d2f6-48a3-a184-6fb95a738fca",
   "metadata": {},
   "source": [
    "专业性数据库网站如国家统计局网站、中国人民银行网站、[中国证监会网站](http://www.csrc.gov.cn)、世界银行网站和国际货币基金组织网站等。\n",
    "\n",
    "专业数据公司主要有路透终端、彭博数据库、CSMAR、Wind数据库等。\n",
    "\n",
    "除此之外，一些数据科学社区，如Kaggle，也提供了很多金融和经济的开源数据集。"
   ]
  },
  {
   "cell_type": "markdown",
   "id": "601b3ac9-0a74-4722-bf1a-8cd7a22b85e5",
   "metadata": {},
   "source": [
    "以下有部分数据源的链接：\n",
    "|数据源|链接|数据种类|\n",
    "|---|---|---|\n",
    "|Kaggle|https://www.kaggle.com|综合数据|\n",
    "|datarade|https://datarade.ai/|综合数据|\n",
    "|CSMAR|http://cndata1.csmar.com/|财经数据|"
   ]
  },
  {
   "cell_type": "markdown",
   "id": "c7b39c1b-5468-433b-a2cc-74cd821d90e5",
   "metadata": {},
   "source": [
    "### 练习\n",
    "如果需要查询某上市公司的财务信息数据，应该去哪里寻找？"
   ]
  },
  {
   "cell_type": "code",
   "execution_count": null,
   "id": "cbc94585-308a-44c8-afaa-a0f5f43cfe3c",
   "metadata": {},
   "outputs": [],
   "source": []
  },
  {
   "cell_type": "markdown",
   "id": "ca2b76f0-6c4f-44e8-870b-c08dc63aded4",
   "metadata": {},
   "source": [
    "## 3. 通过API的方式获取数据"
   ]
  },
  {
   "cell_type": "markdown",
   "id": "9c780f9f-bdfe-4f15-ad80-c6e7af9ff6d3",
   "metadata": {},
   "source": [
    "### 3.1 使用pandas_datareader访问雅虎数据库"
   ]
  },
  {
   "cell_type": "markdown",
   "id": "ab238505-cbc0-4430-ba61-d386a46f853d",
   "metadata": {},
   "source": [
    "Python下[pandas_datareader](https://pandas-datareader.readthedocs.io/en/latest/index.html)包可以从不同的数据源获取各种金融数据。包括Yahoo Finance 雅虎金融；Eurostat 欧盟统计局；NASDAQ；OECD 经合组织；Quandl；World Bank。\n",
    "\n",
    "首先我们安装python的pandas_datareader库，点击左上角+号，然后点击**终端(Terminal**)按钮，接着输入以下命令进行安装：\n",
    "```shell\n",
    "pip install pandas_datareader\n",
    "```\n",
    "\n"
   ]
  },
  {
   "cell_type": "markdown",
   "id": "8b4f0a83-2b4f-48c9-8771-0665aee522e9",
   "metadata": {},
   "source": [
    "安装成功后，我们使用pandas_datareader读取Yahoo财经网站的数据，获取Facebook股票2017/1/1到2019/9/26期间的数据："
   ]
  },
  {
   "cell_type": "markdown",
   "id": "70a1dc65-07bc-4334-95f6-598e00a984a7",
   "metadata": {},
   "source": [
    "```python\n",
    "import pandas_datareader.data as webdata\n",
    "import datetime\n",
    "import os\n",
    "start = datetime.datetime(2017, 1, 1)\n",
    "end = datetime.datetime(2019, 9, 26)\n",
    "df = webdata.get_data_yahoo(\"AAPL\", start, end)\n",
    "```"
   ]
  },
  {
   "cell_type": "markdown",
   "id": "b8a5a9e0-39de-497b-a55b-0a129c034197",
   "metadata": {
    "tags": []
   },
   "source": [
    "因为雅虎政策修改的问题，以上代码运行，需要开启科学上网工具，非中国大陆地区IP地址可以正常使用。"
   ]
  },
  {
   "cell_type": "markdown",
   "id": "d3bae3f5-145e-43fd-ab13-f1d440f145bf",
   "metadata": {},
   "source": [
    "### 3.2 国内股票数据接口tushare"
   ]
  },
  {
   "cell_type": "markdown",
   "id": "81a987b9-0793-4e37-9ac1-a50745a12c1f",
   "metadata": {},
   "source": [
    "[Tushare](http://tushare.org)是一个免费、开源的python财经数据接口包。\n",
    "首先我们安装tushare库，点击左上角+号，然后点击**终端(Terminal**)按钮，接着输入以下命令进行安装：\n",
    "```shell\n",
    "pip install tushare\n",
    "```\n"
   ]
  },
  {
   "cell_type": "markdown",
   "id": "3ecfbaa2-ec58-41d6-b276-770f18ca15ed",
   "metadata": {},
   "source": [
    "安装成功后，我们使用tushare读取上证指数（代码为\"sz\"）日行情数据："
   ]
  },
  {
   "cell_type": "code",
   "execution_count": 19,
   "id": "b43ffeec-15ea-43fd-8c58-573331afc314",
   "metadata": {},
   "outputs": [
    {
     "name": "stdout",
     "output_type": "stream",
     "text": [
      "本接口即将停止更新，请尽快使用Pro版接口：https://tushare.pro/document/2\n"
     ]
    },
    {
     "name": "stderr",
     "output_type": "stream",
     "text": [
      "/Users/hans/opt/anaconda3/lib/python3.9/site-packages/tushare/stock/trading.py:706: FutureWarning: The frame.append method is deprecated and will be removed from pandas in a future version. Use pandas.concat instead.\n",
      "  data = data.append(_get_k_data(url, dataflag,\n"
     ]
    },
    {
     "data": {
      "text/html": [
       "<div>\n",
       "<style scoped>\n",
       "    .dataframe tbody tr th:only-of-type {\n",
       "        vertical-align: middle;\n",
       "    }\n",
       "\n",
       "    .dataframe tbody tr th {\n",
       "        vertical-align: top;\n",
       "    }\n",
       "\n",
       "    .dataframe thead th {\n",
       "        text-align: right;\n",
       "    }\n",
       "</style>\n",
       "<table border=\"1\" class=\"dataframe\">\n",
       "  <thead>\n",
       "    <tr style=\"text-align: right;\">\n",
       "      <th></th>\n",
       "      <th>date</th>\n",
       "      <th>open</th>\n",
       "      <th>close</th>\n",
       "      <th>high</th>\n",
       "      <th>low</th>\n",
       "      <th>volume</th>\n",
       "      <th>code</th>\n",
       "    </tr>\n",
       "  </thead>\n",
       "  <tbody>\n",
       "    <tr>\n",
       "      <th>0</th>\n",
       "      <td>2020-01-02</td>\n",
       "      <td>10509.12</td>\n",
       "      <td>10638.82</td>\n",
       "      <td>10663.55</td>\n",
       "      <td>10479.77</td>\n",
       "      <td>392795173.0</td>\n",
       "      <td>sz</td>\n",
       "    </tr>\n",
       "    <tr>\n",
       "      <th>1</th>\n",
       "      <td>2020-01-03</td>\n",
       "      <td>10666.66</td>\n",
       "      <td>10656.41</td>\n",
       "      <td>10689.59</td>\n",
       "      <td>10594.36</td>\n",
       "      <td>373603938.0</td>\n",
       "      <td>sz</td>\n",
       "    </tr>\n",
       "    <tr>\n",
       "      <th>2</th>\n",
       "      <td>2020-01-06</td>\n",
       "      <td>10599.41</td>\n",
       "      <td>10698.27</td>\n",
       "      <td>10799.58</td>\n",
       "      <td>10577.78</td>\n",
       "      <td>438998251.0</td>\n",
       "      <td>sz</td>\n",
       "    </tr>\n",
       "    <tr>\n",
       "      <th>3</th>\n",
       "      <td>2020-01-07</td>\n",
       "      <td>10725.18</td>\n",
       "      <td>10829.04</td>\n",
       "      <td>10829.04</td>\n",
       "      <td>10723.86</td>\n",
       "      <td>414499627.0</td>\n",
       "      <td>sz</td>\n",
       "    </tr>\n",
       "    <tr>\n",
       "      <th>4</th>\n",
       "      <td>2020-01-08</td>\n",
       "      <td>10776.71</td>\n",
       "      <td>10706.87</td>\n",
       "      <td>10851.28</td>\n",
       "      <td>10681.02</td>\n",
       "      <td>462506909.0</td>\n",
       "      <td>sz</td>\n",
       "    </tr>\n",
       "  </tbody>\n",
       "</table>\n",
       "</div>"
      ],
      "text/plain": [
       "         date      open     close      high       low       volume code\n",
       "0  2020-01-02  10509.12  10638.82  10663.55  10479.77  392795173.0   sz\n",
       "1  2020-01-03  10666.66  10656.41  10689.59  10594.36  373603938.0   sz\n",
       "2  2020-01-06  10599.41  10698.27  10799.58  10577.78  438998251.0   sz\n",
       "3  2020-01-07  10725.18  10829.04  10829.04  10723.86  414499627.0   sz\n",
       "4  2020-01-08  10776.71  10706.87  10851.28  10681.02  462506909.0   sz"
      ]
     },
     "execution_count": 19,
     "metadata": {},
     "output_type": "execute_result"
    }
   ],
   "source": [
    "import tushare\n",
    "df = tushare.get_k_data('sz', start='2020-01-01', end='2020-02-01')  #获取某个时间段内的深圳指数\n",
    "df.head()"
   ]
  },
  {
   "cell_type": "markdown",
   "id": "c69b533c-4850-4de9-a90f-733aa4f054ac",
   "metadata": {},
   "source": [
    "### 练习"
   ]
  },
  {
   "cell_type": "markdown",
   "id": "608822bf-3113-48f5-97e8-c06391e98942",
   "metadata": {},
   "source": [
    "1. 通过tushare接口获取到国内的股票，比如要获取上港集团(代码600018)的日线数据，代码为\"600018\"，开始日期为'2010-01-01'，结束日期为\"2023-01-01\" \n",
    "2. 绘制该数据的收盘价'close'的折线图"
   ]
  },
  {
   "cell_type": "code",
   "execution_count": null,
   "id": "5c61880d-e191-4733-af8b-42a37e706c51",
   "metadata": {},
   "outputs": [],
   "source": []
  },
  {
   "cell_type": "markdown",
   "id": "252ecdf0-f158-4f0f-8454-784d2a5babcf",
   "metadata": {},
   "source": [
    "## 参考\n",
    "1.《机器学习与资产定价》Stefan Nagel, 2021"
   ]
  }
 ],
 "metadata": {
  "kernelspec": {
   "display_name": "Python 3 (ipykernel)",
   "language": "python",
   "name": "python3"
  },
  "language_info": {
   "codemirror_mode": {
    "name": "ipython",
    "version": 3
   },
   "file_extension": ".py",
   "mimetype": "text/x-python",
   "name": "python",
   "nbconvert_exporter": "python",
   "pygments_lexer": "ipython3",
   "version": "3.9.13"
  }
 },
 "nbformat": 4,
 "nbformat_minor": 5
}
