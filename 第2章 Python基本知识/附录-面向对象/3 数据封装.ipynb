{
 "cells": [
  {
   "cell_type": "markdown",
   "id": "bc8298ef-d6a6-4a6c-af31-b03261bb1db0",
   "metadata": {},
   "source": [
    "\n",
    "# 数据封装\n",
    "\n",
    "面向对象编程的一个重要特点就是数据封装。在上面的`CV`类中，每个实例就拥有各自的`name`和`age`这些数据。我们可以通过函数来访问这些数据，比如打印一个学生的成绩：\n",
    "\n",
    "```python\n",
    ">>> def print_age(CV):\n",
    "...     print('%s: %s' % (CV.name, CV.age))\n",
    "...\n",
    ">>> print_age(jack_CV)\n",
    "Jack Simpson: 24\n",
    "```\n",
    "\n",
    "但是，既然`CV`实例本身就拥有这些数据，要访问这些数据，就没有必要从外面的函数去访问，可以直接在`CV`类的内部定义访问数据的函数，这样，就把“数据”给封装起来了。这些封装数据的函数是和`CV`类本身是关联起来的，我们称之为类的方法：\n",
    "\n",
    "```python\n",
    "class CV(object):\n",
    "\n",
    "    def __init__(self, name, age):\n",
    "        self.name = name\n",
    "        self.age = age\n",
    "\n",
    "    def print_age(self):\n",
    "        print('%s: %s' % (self.name, self.age))\n",
    "```\n",
    "\n",
    "要定义一个方法，除了第一个参数是`self`外，其他和普通函数一样。要调用一个方法，只需要在实例变量上直接调用，除了`self`不用传递，其他参数正常传入：\n",
    "\n",
    "```python\n",
    ">>> jack_CV.print_age()\n",
    "Jack Simpson: 24\n",
    "```\n",
    "\n",
    "这样一来，我们从外部看`CV`类，就只需要知道，创建实例需要给出`name`和`age`，而如何打印，都是在`CV`类的内部定义的，这些数据和逻辑被“封装”起来了，调用很容易，但却不用知道内部实现的细节。"
   ]
  }
 ],
 "metadata": {
  "kernelspec": {
   "display_name": "Python 3 (ipykernel)",
   "language": "python",
   "name": "python3"
  },
  "language_info": {
   "codemirror_mode": {
    "name": "ipython",
    "version": 3
   },
   "file_extension": ".py",
   "mimetype": "text/x-python",
   "name": "python",
   "nbconvert_exporter": "python",
   "pygments_lexer": "ipython3",
   "version": "3.9.7"
  },
  "widgets": {
   "application/vnd.jupyter.widget-state+json": {
    "state": {},
    "version_major": 2,
    "version_minor": 0
   }
  }
 },
 "nbformat": 4,
 "nbformat_minor": 5
}
