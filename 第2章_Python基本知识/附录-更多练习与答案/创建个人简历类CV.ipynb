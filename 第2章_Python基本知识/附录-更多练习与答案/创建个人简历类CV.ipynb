{
 "cells": [
  {
   "cell_type": "markdown",
   "id": "dc03fa23-667d-4ab4-8acf-7a026242b975",
   "metadata": {},
   "source": [
    "# 练习：创建个人简历类CV[挑战]\n",
    "\n",
    "![cv_template](图片/cv_template.jpg)\n",
    "\n",
    "我们创建一个类，名字为CV，它完成个人简历的录入、修改和打印功能。\n",
    "\n",
    "它包含以下属性：\n",
    "\n",
    "- 名字，字符串\n",
    "- 性别，字符串\n",
    "- 年龄，整形\n",
    "- 联系方式，字符串\n",
    "- 毕业院校，列表嵌套了字典，每一条毕业院校包含以下：\"开始日期\",\"结束日期\", \"学校名称\", \"专业\", 学位\"\n",
    "- 技能证书，列表\n",
    "- 兴趣爱好，列表\n",
    "- 工作经历，列表嵌套了字典，每一条工作经历包含以下信息：\"开始日期\",\"结束日期\",\"工作单位\",\"工作描述\"\n",
    "- 荣誉奖励，列表嵌套了字典，每一条荣誉奖励包含以下信息：\"日期\",\"荣誉名称\"\n",
    "\n",
    "它包含以下方法：\n",
    "\n",
    "- 打印个人基本信息 print_basic_info()\n",
    "- 打印学业信息 print_university()\n",
    "- 打印技能证书 print_skills_certificates()\n",
    "\n",
    "以上变量名称建议使用英文单词代替。\n",
    "\n",
    "最后创建一个简历类的实例叫fengkai，并录入以下信息，并打印他的基本信息，学业信息，技能证书\n",
    "\n",
    "![cv_instance](图片/cv_instance.jpg)\n",
    "\n",
    "\n",
    "\n",
    "```python\n",
    "class CV(Object):\n",
    "    def __init__(self, name, gender, age):\n",
    "        self.name = name\n",
    "      \tself.gender = gender\n",
    "        self.age =age\n",
    "        # your code is here^^\n",
    "        \n",
    "        \n",
    "    def print_basic_info(self):\n",
    "        # your code is here^^\n",
    "        return\n",
    "        \n",
    "    \n",
    "    def print_university(self):\n",
    "        # your code is here^^\n",
    "        return\n",
    "\n",
    "\n",
    "    def print_skills_certificates(self):\n",
    "        # your code is here^^\n",
    "        return\n",
    "\n",
    "```\n",
    "\n",
    "\n"
   ]
  },
  {
   "cell_type": "code",
   "execution_count": null,
   "id": "81eb549b-3e57-45b4-b948-35405839121d",
   "metadata": {},
   "outputs": [],
   "source": []
  }
 ],
 "metadata": {
  "kernelspec": {
   "display_name": "Python 3 (ipykernel)",
   "language": "python",
   "name": "python3"
  },
  "language_info": {
   "codemirror_mode": {
    "name": "ipython",
    "version": 3
   },
   "file_extension": ".py",
   "mimetype": "text/x-python",
   "name": "python",
   "nbconvert_exporter": "python",
   "pygments_lexer": "ipython3",
   "version": "3.9.7"
  },
  "widgets": {
   "application/vnd.jupyter.widget-state+json": {
    "state": {},
    "version_major": 2,
    "version_minor": 0
   }
  }
 },
 "nbformat": 4,
 "nbformat_minor": 5
}
