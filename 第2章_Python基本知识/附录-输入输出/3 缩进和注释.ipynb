{
 "cells": [
  {
   "cell_type": "markdown",
   "id": "7d8722d6-8c2e-49c8-9215-a4f01fd1751b",
   "metadata": {},
   "source": [
    "# 缩进和注释\n",
    "\n",
    "Python是一种计算机编程语言，它和我们日常使用的语言，有很多相似之处。它有语法和语句块，对应我们自然语言的主谓宾，段落等概念。中文的书面语，每段开头的规则是空两格；而Python则是语句块第二行空4格，这就是“缩进”。\n",
    "\n",
    "```python\n",
    "# print absolute value of an integer:\n",
    "a = 100\n",
    "if a >= 0:\n",
    "    print(a)\n",
    "else:\n",
    "    print(-a)\n",
    "```\n",
    "?\n",
    "缩进有利有弊。好处是强迫你写出格式化的代码，但没有规定缩进是几个空格还是Tab。按照约定俗成的惯例，应该始终坚持使用**4个空格**的缩进。\n",
    "\n",
    "![tab4](image/tab4.png)\n",
    "\n",
    "缩进的另一个好处是强迫你写出缩进较少的代码，你会倾向于把一段很长的代码拆分成若干函数，从而得到缩进较少的代码。\n",
    "\n",
    "缩进的坏处就是“复制－粘贴”功能失效了，这是最坑爹的地方。当你重构代码时，粘贴过去的代码必须重新检查缩进是否正确。\n",
    "\n",
    "以`#`开头的语句是注释，注释是给人看的，可以是任意内容，解释器会忽略掉注释。其他每一行都是一个语句，当语句以冒号`:`结尾时，缩进的语句视为代码块。\n",
    "\n",
    "最后，请务必注意，Python程序是大小写敏感的，如果写错了大小写，程序会报错。\n",
    "\n"
   ]
  },
  {
   "cell_type": "code",
   "execution_count": null,
   "id": "520ec087-704a-42b8-aa47-40c414381c57",
   "metadata": {},
   "outputs": [],
   "source": []
  }
 ],
 "metadata": {
  "kernelspec": {
   "display_name": "Python 3 (ipykernel)",
   "language": "python",
   "name": "python3"
  },
  "language_info": {
   "codemirror_mode": {
    "name": "ipython",
    "version": 3
   },
   "file_extension": ".py",
   "mimetype": "text/x-python",
   "name": "python",
   "nbconvert_exporter": "python",
   "pygments_lexer": "ipython3",
   "version": "3.9.13"
  },
  "widgets": {
   "application/vnd.jupyter.widget-state+json": {
    "state": {},
    "version_major": 2,
    "version_minor": 0
   }
  }
 },
 "nbformat": 4,
 "nbformat_minor": 5
}
