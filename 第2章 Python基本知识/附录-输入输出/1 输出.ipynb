{
 "cells": [
  {
   "cell_type": "markdown",
   "id": "2b015350-7aba-4d67-b40c-08c72d3f1f03",
   "metadata": {},
   "source": [
    "# 输出\n",
    "\n",
    "任何计算机程序都是为了执行一个特定的任务，有了输入，用户才能告诉计算机程序所需的信息，有了输出，程序运行后才能告诉用户计算机执行的结果。\n",
    "\n",
    "输入是Input，输出是Output，因此，我们把输入输出统称为Input/Output，或者简写为IO。\n",
    "\n",
    "\n",
    "\n",
    "用`print()`在括号中加上字符串，就可以向屏幕上输出指定的文字。比如输出`'hello, world'`，用代码实现如下：\n",
    "\n",
    "```python\n",
    ">>> print('hello, world')\n",
    "```\n",
    "\n",
    "![image](image/image1.png)\n",
    "\n",
    "\n",
    "`print()`函数也可以接受多个字符串，用逗号“,”隔开，就可以连成一串输出：\n",
    "\n",
    "```python\n",
    ">>> print('The quick brown fox', 'jumps over', 'the lazy dog')\n",
    "The quick brown fox jumps over the lazy dog\n",
    "```\n",
    "\n",
    "`print()`会依次打印每个字符串，遇到逗号“,”会输出一个空格，因此，输出的字符串是这样拼起来的：\n",
    "\n",
    "![image](image/image.png)\n",
    "\n",
    "\n",
    "\n",
    "`print()`也可以打印整数，或者计算结果：\n",
    "\n",
    "```python\n",
    ">>> print(300)\n",
    "300\n",
    ">>> print(100 + 200)\n",
    "300\n",
    "```\n",
    "\n",
    "因此，我们可以把计算`100 + 200`的结果打印得更漂亮一点：\n",
    "\n",
    "```python\n",
    ">>> print('100 + 200 =', 100 + 200)\n",
    "100 + 200 = 300\n",
    "```\n",
    "\n",
    "注意，对于`100 + 200`，Python解释器自动计算出结果`300`，但是，`'100 + 200 ='`是字符串而非数学公式，Python把它视为字符串，请自行解释上述打印结果。\n",
    "\n",
    "\n"
   ]
  },
  {
   "cell_type": "code",
   "execution_count": null,
   "id": "7769431e-ac37-4a6e-821b-2cd44a6f7c83",
   "metadata": {},
   "outputs": [],
   "source": []
  }
 ],
 "metadata": {
  "kernelspec": {
   "display_name": "Python 3 (ipykernel)",
   "language": "python",
   "name": "python3"
  },
  "language_info": {
   "codemirror_mode": {
    "name": "ipython",
    "version": 3
   },
   "file_extension": ".py",
   "mimetype": "text/x-python",
   "name": "python",
   "nbconvert_exporter": "python",
   "pygments_lexer": "ipython3",
   "version": "3.9.13"
  },
  "widgets": {
   "application/vnd.jupyter.widget-state+json": {
    "state": {},
    "version_major": 2,
    "version_minor": 0
   }
  }
 },
 "nbformat": 4,
 "nbformat_minor": 5
}
