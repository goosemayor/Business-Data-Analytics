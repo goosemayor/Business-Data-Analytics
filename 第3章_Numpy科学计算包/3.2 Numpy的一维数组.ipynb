{
 "cells": [
  {
   "cell_type": "markdown",
   "id": "53e7994b-a014-45b4-8c0e-fe2a4f1294b8",
   "metadata": {},
   "source": [
    "# Numpy的一维数组"
   ]
  },
  {
   "cell_type": "markdown",
   "id": "c006d812-6902-43fe-93db-f4b90e8bf2e6",
   "metadata": {},
   "source": [
    "## 1. Numpy的数组介绍"
   ]
  },
  {
   "cell_type": "markdown",
   "id": "5c9935e8-b182-4a32-8b41-04f34b9035ae",
   "metadata": {},
   "source": [
    "在学习python基础编程时，我们已经掌握了列表（Lists）的创建和使用。Numpy中的有一种数据结构叫：数组（Arrays）。它和Lists有什么不同呢？\n",
    "\n",
    "- Numpy 数组比列表运行速度更快，更省计算机资源。\n",
    "- 作为NumPy中主要的数据结构，数组是一些值组成的网格，它包含关于原始数据的信息，以及如何定位元素，意思是可以以各种方式对其进行索引。这些元素都是相同的类型，称为数组dtype。"
   ]
  },
  {
   "cell_type": "markdown",
   "id": "fdb06888-caca-46a5-85f6-bd0c76bf551e",
   "metadata": {},
   "source": [
    "数组可以由非负整数、元组、布尔值、另一个数组组成。数组的形状是一个整数元组，给出了数组的每个维度的大小。"
   ]
  },
  {
   "cell_type": "markdown",
   "id": "bb4216d4-adba-456a-a49d-407c2787ba54",
   "metadata": {},
   "source": [
    "初始化NumPy数组的一种方法是使用Python列表，对二维或高维数据使用嵌套列表。\n",
    "\n",
    "举例，"
   ]
  },
  {
   "cell_type": "code",
   "execution_count": 1,
   "id": "1a11d216-fa5f-46b4-b389-f3a419c05c9c",
   "metadata": {},
   "outputs": [
    {
     "data": {
      "text/plain": [
       "array([1, 2, 3, 4, 5, 6])"
      ]
     },
     "execution_count": 1,
     "metadata": {},
     "output_type": "execute_result"
    }
   ],
   "source": [
    "import numpy as np\n",
    "a = np.array([1, 2, 3, 4, 5, 6])\n",
    "a"
   ]
  },
  {
   "cell_type": "code",
   "execution_count": 2,
   "id": "e0a39a5f-ad46-48ed-9bc4-b2c615422fdc",
   "metadata": {},
   "outputs": [
    {
     "data": {
      "text/plain": [
       "array([[ 1,  2,  3,  4],\n",
       "       [ 5,  6,  7,  8],\n",
       "       [ 9, 10, 11, 12]])"
      ]
     },
     "execution_count": 2,
     "metadata": {},
     "output_type": "execute_result"
    }
   ],
   "source": [
    "a = np.array([[1, 2, 3, 4], [5, 6, 7, 8], [9, 10, 11, 12]])\n",
    "a"
   ]
  },
  {
   "cell_type": "markdown",
   "id": "34178583-5262-408c-a9c2-98d077ea7232",
   "metadata": {
    "tags": []
   },
   "source": [
    "### 1.1 关于数组的更多信息\n",
    "您可能偶尔会听到一个数组被称为“ndarray”，它是“n维数组”的简写，d是单词dimension的缩写。n维数组就是具有任意维数的数组。你可能还听说过一维数组，二维数组，等等。NumPy ndarray用于表示矩阵和向量。向量是一维的数组(行向量和列向量没有区别)，而矩阵是二维的数组。对于三维或更高维度的数组，张量这个术语也常用。"
   ]
  },
  {
   "cell_type": "markdown",
   "id": "811c06a7-1a75-4292-b2b8-2f9f8671c26d",
   "metadata": {},
   "source": [
    "数组通常是固定大小的容器，包含相同类型的项。数组中的维数和项数由数组的形状定义。数组的形状是由非负整数组成的元组，指定每个维度的大小。"
   ]
  },
  {
   "cell_type": "markdown",
   "id": "43bef720-55d8-413a-91ae-66bc086cc8b8",
   "metadata": {},
   "source": [
    "在NumPy中，维度称为轴。这意味着如果你有一个像这样的2D数组:\n",
    "```python\n",
    "[[0., 0., 0.],\n",
    " [1., 1., 1.]]\n",
    "```\n",
    "数组有两个轴。第一个轴的长度是2，第二个轴的长度是3。"
   ]
  },
  {
   "cell_type": "markdown",
   "id": "9f349476-eb13-429b-9c5f-7b169d58c79c",
   "metadata": {},
   "source": [
    "## 2.如何创建一个数组"
   ]
  },
  {
   "cell_type": "code",
   "execution_count": 3,
   "id": "51138810-a559-4112-8cb2-c1860ae177a7",
   "metadata": {},
   "outputs": [
    {
     "data": {
      "text/plain": [
       "array([1, 2, 3])"
      ]
     },
     "execution_count": 3,
     "metadata": {},
     "output_type": "execute_result"
    }
   ],
   "source": [
    "import numpy as np\n",
    "np.array([1, 2, 3])"
   ]
  },
  {
   "cell_type": "markdown",
   "id": "8b65d3a9-8a0d-419f-a779-b92dc82781ec",
   "metadata": {},
   "source": [
    "用一种可视化方式来理解："
   ]
  },
  {
   "cell_type": "markdown",
   "id": "2a341143-72c4-45dd-9648-82d7cfc9dd37",
   "metadata": {},
   "source": [
    "![ndarray](image/np_array.png)"
   ]
  },
  {
   "cell_type": "markdown",
   "id": "3161dc9f-2e0c-45b6-8239-7acebbf6a010",
   "metadata": {},
   "source": [
    "创建数组的时候，可以指定其中元素的类型，使用参数dtype。dtype可以等于np.int64, np.float64, np.str等等。"
   ]
  },
  {
   "cell_type": "markdown",
   "id": "96f7259f-3f9b-4b70-9f47-b72192bffd45",
   "metadata": {},
   "source": [
    "虽然默认的数据类型是浮点数(np.float64)，但您可以使用dtype关键字显式指定想要的数据类型。"
   ]
  },
  {
   "cell_type": "code",
   "execution_count": 4,
   "id": "3c4309bf-4f7e-4a89-b68b-f139fe3ccddf",
   "metadata": {},
   "outputs": [
    {
     "data": {
      "text/plain": [
       "array([1., 2., 3., 4., 5., 6.])"
      ]
     },
     "execution_count": 4,
     "metadata": {},
     "output_type": "execute_result"
    }
   ],
   "source": [
    "a = np.array([1, 2, 3, 4, 5, 6], dtype=np.float64)\n",
    "a"
   ]
  },
  {
   "cell_type": "markdown",
   "id": "94321124-c771-4416-8378-66ddbb1edda7",
   "metadata": {},
   "source": [
    "### 练习\n",
    "请创建一个包含以下元素的一维数组：3.1, 5.2, 2.9, 6.6, 3.4, 5.5, 4.7。"
   ]
  },
  {
   "cell_type": "code",
   "execution_count": null,
   "id": "89b89521-b069-41de-b791-e71bba0beb2e",
   "metadata": {},
   "outputs": [],
   "source": []
  },
  {
   "cell_type": "markdown",
   "id": "a1bcd8b4-3934-4938-ad4b-6bd04d13a97e",
   "metadata": {},
   "source": [
    "## 3. 几种生成常见数组的方法\n",
    "除了指定每个元素来创建数组之外，你还可以轻松创建一个由0填充的数组，或者由1填充的数组，或者是创建一组随机数。"
   ]
  },
  {
   "cell_type": "markdown",
   "id": "7f8e0bfa-1f26-4a09-adce-36d0206c13ea",
   "metadata": {},
   "source": [
    "![np_ones_zeros_random](image/np_ones_zeros_random.png)"
   ]
  },
  {
   "cell_type": "markdown",
   "id": "6d8f5092-dd3a-4434-aa24-c46a79699e90",
   "metadata": {},
   "source": [
    "包含指定范围的数组："
   ]
  },
  {
   "cell_type": "code",
   "execution_count": 5,
   "id": "b5b699dc-26d0-462d-beef-7bee67618d72",
   "metadata": {},
   "outputs": [
    {
     "data": {
      "text/plain": [
       "array([0, 1, 2, 3])"
      ]
     },
     "execution_count": 5,
     "metadata": {},
     "output_type": "execute_result"
    }
   ],
   "source": [
    "np.arange(4)"
   ]
  },
  {
   "cell_type": "markdown",
   "id": "414ded9e-bddf-4db6-af9c-4675b261934e",
   "metadata": {},
   "source": [
    "甚至包含等距间隔的数组。为此，您需要指定第一个数字、最后一个数字和步长。下面这个例子，就是从2开始，到9结束，间隔为2。"
   ]
  },
  {
   "cell_type": "code",
   "execution_count": 6,
   "id": "bdb8b196-db63-4bbc-be8f-b69c5e1c95ac",
   "metadata": {},
   "outputs": [
    {
     "data": {
      "text/plain": [
       "array([2, 4, 6, 8])"
      ]
     },
     "execution_count": 6,
     "metadata": {},
     "output_type": "execute_result"
    }
   ],
   "source": [
    "np.arange(2, 9, 2) #step=2"
   ]
  },
  {
   "cell_type": "markdown",
   "id": "a9d93032-a1aa-46c4-906b-e1b7c30fe1f7",
   "metadata": {},
   "source": [
    "你也可以使用np.linspace()来创建一个数组，该数组的值按指定的间隔线性排列:"
   ]
  },
  {
   "cell_type": "code",
   "execution_count": 7,
   "id": "848a7558-6f93-4e1a-b573-e7748dbd2a27",
   "metadata": {},
   "outputs": [
    {
     "data": {
      "text/plain": [
       "array([ 0. ,  2.5,  5. ,  7.5, 10. ])"
      ]
     },
     "execution_count": 7,
     "metadata": {},
     "output_type": "execute_result"
    }
   ],
   "source": [
    "np.linspace(0, 10, num=5)"
   ]
  },
  {
   "cell_type": "markdown",
   "id": "76d724a7-ef12-4aed-9838-9000297ae7d0",
   "metadata": {},
   "source": [
    "### 练习\n",
    "生成以一个等差数列：$19, 16, 13, 10, 7, 4, 1$"
   ]
  },
  {
   "cell_type": "code",
   "execution_count": null,
   "id": "f1e9b5a0-0db5-426b-b803-55a158257d85",
   "metadata": {},
   "outputs": [],
   "source": []
  },
  {
   "cell_type": "markdown",
   "id": "bab65276-2cf4-4640-896f-f8ee6c5e263e",
   "metadata": {},
   "source": [
    "## 4.索引和切片"
   ]
  },
  {
   "cell_type": "markdown",
   "id": "8f77aaba-5597-4b57-8752-486a3a188522",
   "metadata": {},
   "source": [
    "您可能希望获取数组的一部分或特定数组元素，以便在进一步的分析或其他操作中使用。要做到这一点，您需要对数组进行子集、切片或索引。"
   ]
  },
  {
   "cell_type": "markdown",
   "id": "131aaa32-433d-46d7-8925-52f40f07ef69",
   "metadata": {},
   "source": [
    "就像使用列表(lists)一样，你可以用同样的方式索引和切片，选择数组中的部分元素。"
   ]
  },
  {
   "cell_type": "markdown",
   "id": "30938a94-2c8c-44e7-b0ca-3eb6dbeaf802",
   "metadata": {},
   "source": [
    "下面用一种可视化的方式："
   ]
  },
  {
   "cell_type": "markdown",
   "id": "17155f0b-86f4-485d-a538-6a3e3ef23b14",
   "metadata": {},
   "source": [
    "![np_indexing.png](image/np_indexing.png)"
   ]
  },
  {
   "cell_type": "markdown",
   "id": "1e386456-4824-4178-baaa-9b9e8376dbf0",
   "metadata": {},
   "source": [
    "### 练习\n",
    "给定下列数组[52, 11, 26, 35, 41, 71]，请选取出部分元素:[26, 35], 再倒序选取[35,41]。"
   ]
  },
  {
   "cell_type": "code",
   "execution_count": null,
   "id": "13d4f496-e065-434e-8636-0ec9a43350da",
   "metadata": {},
   "outputs": [],
   "source": []
  },
  {
   "cell_type": "markdown",
   "id": "3dae5580-b2fd-435d-8876-ea340e1a43e9",
   "metadata": {},
   "source": [
    "## 5.数组的操作方法"
   ]
  },
  {
   "cell_type": "markdown",
   "id": "088830bf-bd0a-43f3-b281-a56532d53ae8",
   "metadata": {},
   "source": [
    "### 5.1 排序数组元素"
   ]
  },
  {
   "cell_type": "markdown",
   "id": "d70ffc51-29da-4215-b0a2-e407035f1ab0",
   "metadata": {},
   "source": [
    "使用np.sort()对元素进行排序很简单。您可以在调用函数时指定轴、类型和顺序。"
   ]
  },
  {
   "cell_type": "code",
   "execution_count": 8,
   "id": "b2fe8d33-6598-47d5-8b06-9f92453d1b78",
   "metadata": {},
   "outputs": [],
   "source": [
    "import numpy as np\n",
    "arr = np.array([2, 1, 5, 3, 7, 4, 6, 8])  #使用np.array创建一个1维无序数组"
   ]
  },
  {
   "cell_type": "markdown",
   "id": "34c661dc-b018-4eea-a0c6-e60dc5fd92b3",
   "metadata": {},
   "source": [
    "你可以按照升序进行排序:"
   ]
  },
  {
   "cell_type": "code",
   "execution_count": 9,
   "id": "c58154f3-c7a4-48aa-a5d2-bc0a4128d326",
   "metadata": {},
   "outputs": [
    {
     "data": {
      "text/plain": [
       "array([1, 2, 3, 4, 5, 6, 7, 8])"
      ]
     },
     "execution_count": 9,
     "metadata": {},
     "output_type": "execute_result"
    }
   ],
   "source": [
    "np.sort(arr)"
   ]
  },
  {
   "cell_type": "markdown",
   "id": "765fff5b-1820-40ca-8279-eb881fcaf5a2",
   "metadata": {},
   "source": [
    "除了sort(返回数组的已排序副本)，您还可以使用:\n",
    "- argsort，它是沿着指定轴进行间接排序，\n",
    "- lexsort，是对多个键的间接稳定排序，\n",
    "- searchsorted，它将在已排序的数组中查找元素\n",
    "- partition，这是一种部分排序。"
   ]
  },
  {
   "cell_type": "markdown",
   "id": "84ea140d-0f02-4134-b802-1e20260d3862",
   "metadata": {},
   "source": [
    "### 5.2 数学运算"
   ]
  },
  {
   "cell_type": "markdown",
   "id": "78cfafd8-0bfb-4549-92a8-29e05c49e264",
   "metadata": {},
   "source": [
    "一旦创建了数组，就可以开始使用它们了。比如说，你创建了两个数组，一个叫data，一个叫ones。"
   ]
  },
  {
   "cell_type": "markdown",
   "id": "ed7eba42-4980-48aa-8cbc-30ea663c4af3",
   "metadata": {},
   "source": [
    "![np_array_dataones](image/np_array_dataones.png)"
   ]
  },
  {
   "cell_type": "markdown",
   "id": "afd27ce8-991d-409c-8559-687ea45a69ac",
   "metadata": {},
   "source": [
    "![np_data_plus_ones](image/np_data_plus_ones.png)"
   ]
  },
  {
   "cell_type": "markdown",
   "id": "ea72f709-62fa-48f7-8e35-b243b1decd25",
   "metadata": {},
   "source": [
    "![np_sub_mult_divide](image/np_sub_mult_divide.png)"
   ]
  },
  {
   "cell_type": "code",
   "execution_count": 10,
   "id": "03c92c55-2c5b-4f50-96c2-421dc58ae861",
   "metadata": {},
   "outputs": [
    {
     "data": {
      "text/plain": [
       "array([2, 3])"
      ]
     },
     "execution_count": 10,
     "metadata": {},
     "output_type": "execute_result"
    }
   ],
   "source": [
    "data = np.array([1, 2])\n",
    "ones = np.ones(2, dtype=int)\n",
    "data + ones"
   ]
  },
  {
   "cell_type": "code",
   "execution_count": 11,
   "id": "2e6c11a9-9d1f-42ff-8b27-7079762437f4",
   "metadata": {},
   "outputs": [
    {
     "data": {
      "text/plain": [
       "array([0, 1])"
      ]
     },
     "execution_count": 11,
     "metadata": {},
     "output_type": "execute_result"
    }
   ],
   "source": [
    "data - ones"
   ]
  },
  {
   "cell_type": "code",
   "execution_count": 12,
   "id": "17fedcd0-75ce-491e-9b74-2211017e9daa",
   "metadata": {},
   "outputs": [
    {
     "data": {
      "text/plain": [
       "array([1, 4])"
      ]
     },
     "execution_count": 12,
     "metadata": {},
     "output_type": "execute_result"
    }
   ],
   "source": [
    "data * data"
   ]
  },
  {
   "cell_type": "code",
   "execution_count": 13,
   "id": "e1615882-482d-442a-a91b-29da275cb30d",
   "metadata": {},
   "outputs": [
    {
     "data": {
      "text/plain": [
       "array([1., 1.])"
      ]
     },
     "execution_count": 13,
     "metadata": {},
     "output_type": "execute_result"
    }
   ],
   "source": [
    "data / data"
   ]
  },
  {
   "cell_type": "markdown",
   "id": "691ca1d7-dfb6-49fb-a54b-070c755ae6b3",
   "metadata": {},
   "source": [
    "### 5.3 求和、最大值、最小值"
   ]
  },
  {
   "cell_type": "markdown",
   "id": "b38144b5-f5e7-415a-bfb1-b3be3d9dc6cb",
   "metadata": {},
   "source": [
    "NumPy还执行聚合函数。除了min、max和sum之外，您还可以轻松地运行mean以得到平均值，prod以得到元素相乘的结果，std以得到标准差，等等。"
   ]
  },
  {
   "cell_type": "markdown",
   "id": "5b529e81-7ee5-465a-b06e-a8937847749d",
   "metadata": {},
   "source": [
    "![np_aggregation](image/np_aggregation.png)"
   ]
  },
  {
   "cell_type": "code",
   "execution_count": 14,
   "id": "ceb92cde-4ac4-400e-ae1c-d03e17892bab",
   "metadata": {},
   "outputs": [
    {
     "name": "stdout",
     "output_type": "stream",
     "text": [
      "序列[1,2,3]\n",
      "最大值:\t3\n",
      "最小值:\t1\n",
      "总和:\t6\n"
     ]
    }
   ],
   "source": [
    "data = np.array([1, 2, 3])\n",
    "print('序列[1,2,3]\\n最大值:\\t%i\\n最小值:\\t%i\\n总和:\\t%i' %(np.max(data), np.min(data), np.sum(data)))"
   ]
  },
  {
   "cell_type": "code",
   "execution_count": 15,
   "id": "8642e3b5-f920-4d76-a949-ff4efa209f7f",
   "metadata": {},
   "outputs": [
    {
     "name": "stdout",
     "output_type": "stream",
     "text": [
      "序列[1,2,3]\n",
      "最大值:\t3\n",
      "最小值:\t1\n",
      "总和:\t6\n"
     ]
    }
   ],
   "source": [
    "data = np.array([1, 2, 3])\n",
    "print('序列[1,2,3]\\n最大值:\\t%i\\n最小值:\\t%i\\n总和:\\t%i' %(data.max(), data.min(), data.sum()))"
   ]
  },
  {
   "cell_type": "markdown",
   "id": "01ff70df-2dc7-4041-be79-e130633fcd47",
   "metadata": {},
   "source": [
    "## 6. 一个例子"
   ]
  },
  {
   "attachments": {
    "58d1eef6-308d-4b69-ba29-a1a2de58bb5a.png": {
     "image/png": "[encoded data removed]"
    }
   },
   "cell_type": "markdown",
   "id": "8a643e9b-2e59-401a-bc82-bf45593dc70c",
   "metadata": {},
   "source": [
    "![2.png](attachment:58d1eef6-308d-4b69-ba29-a1a2de58bb5a.png)实现在矩阵和向量上的数学公式是NumPy的一个关键用处，这也是为什么 NumPy 是python 科学计算领域的宠儿。\n",
    "\n",
    "例如， 均方误差公式是解决回归问题的有监督机器学习模型的一个关键。\n",
    "![1](image/1.png)\n",
    "\n",
    "用 NumPy 来实现是一件轻而易举的事：\n",
    "![2](image/2.png)\n",
    "\n",
    "优雅之处在于 numpy 不关心 predictions 和 labels 的容量是 1 还是几百个值（只要它们有同样的容量）。我们可以通过如下四个步骤来对这行代码进行一个序列解读：\n",
    "![3](image/3.png)\n",
    "\n",
    "predictions 和 labels 向量都有3个值，也就是说 n = 3, 计算完减法后，我们得到如下的公式：\n",
    "![4](image/4.png)\n",
    "\n",
    "然后对这个向量求平方操作：\n",
    "![5](image/5.png)\n",
    "\n",
    "现在，我们对三个数进行求和：\n",
    "![6](image/6.png)\n",
    "\n",
    "error 中的值就是模型预测的误差。"
   ]
  },
  {
   "cell_type": "markdown",
   "id": "93ba0a09-0026-4416-8d7c-38a4d009be6c",
   "metadata": {},
   "source": [
    "### 练习"
   ]
  },
  {
   "cell_type": "markdown",
   "id": "cfb74e54-04ef-4904-8bfc-cea8be6fb15d",
   "metadata": {},
   "source": [
    "给定Y（或称为label）序列值为[10.1, 9.8, 10.5, 10.0, 10.3], 其预测的结果，也就是predictions为[10, 10, 10, 10, 10]时，MSE的值是多少？"
   ]
  },
  {
   "cell_type": "code",
   "execution_count": null,
   "id": "ffe12efa-bcb3-4f48-a7e0-f8b3dae08ca5",
   "metadata": {},
   "outputs": [],
   "source": []
  }
 ],
 "metadata": {
  "kernelspec": {
   "display_name": "Python 3 (ipykernel)",
   "language": "python",
   "name": "python3"
  },
  "language_info": {
   "codemirror_mode": {
    "name": "ipython",
    "version": 3
   },
   "file_extension": ".py",
   "mimetype": "text/x-python",
   "name": "python",
   "nbconvert_exporter": "python",
   "pygments_lexer": "ipython3",
   "version": "3.9.13"
  },
  "toc-autonumbering": false,
  "toc-showmarkdowntxt": false
 },
 "nbformat": 4,
 "nbformat_minor": 5
}
