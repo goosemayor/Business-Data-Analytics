{
 "cells": [
  {
   "cell_type": "markdown",
   "id": "0a9e8817-be84-4322-92f8-0e2b52d6922f",
   "metadata": {},
   "source": [
    "# 练习：返回一个逆序的列表【困难】\n",
    "\n",
    "请设计一个函数，输入变量为一个列表，返回这个列表的逆序，例如\n",
    "\n",
    "```python\n",
    ">>> l = [1, 2, 3, 4, 5]\n",
    ">>> reverse_list(l)\n",
    "[5, 4, 3, 2, 1]\n",
    "```\n",
    "\n",
    "\n"
   ]
  },
  {
   "cell_type": "code",
   "execution_count": null,
   "id": "115cd407-bfb2-48be-a79c-2bedc8c079a2",
   "metadata": {},
   "outputs": [],
   "source": []
  }
 ],
 "metadata": {
  "kernelspec": {
   "display_name": "Python 3",
   "language": "python",
   "name": "python3"
  },
  "language_info": {
   "codemirror_mode": {
    "name": "ipython",
    "version": 3
   },
   "file_extension": ".py",
   "mimetype": "text/x-python",
   "name": "python",
   "nbconvert_exporter": "python",
   "pygments_lexer": "ipython3",
   "version": "3.8.5"
  }
 },
 "nbformat": 4,
 "nbformat_minor": 5
}
