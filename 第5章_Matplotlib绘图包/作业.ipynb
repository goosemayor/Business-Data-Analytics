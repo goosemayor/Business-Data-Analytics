{
 "cells": [
  {
   "cell_type": "markdown",
   "id": "3b05b4bb-9122-4842-850e-c9b4d3a1bfa5",
   "metadata": {},
   "source": [
    "# 作业"
   ]
  },
  {
   "cell_type": "markdown",
   "id": "ca6fa8d9-8cfa-4978-88ad-fd7dd0bb9c8d",
   "metadata": {},
   "source": [
    "## 金融场景：绘制收益率的折线图\n",
    "IBM的股票代码为IBM，标普指数的代码为SP，可口可乐的股票代码是KO，三者的月度收益率序列存储在'datasets/ibmspko.csv'文件中。\n",
    "1. 请使用pandas读取收益率序列\n",
    "2. 绘制可口可乐的收益率序列的频率分布图，bins参数为50\n",
    "3. 使用`pd.DataFrame.cumsum()`计算可口可乐的收益率序列的**累积收益率**序列\n",
    "4. 绘制可口可乐的收益率序列的**累积收益率**折线图\n",
    "5. 在一个坐标轴中，绘制3个（IBM、SP，KO）的累积收益折线图，分别使用3种marker（\"^\"，\"o\",  \"x\"）,显示图例legend\n",
    "6. 绘制一个图形，包含3个子图，每个子图中分别绘制3个（IBM、SP，KO）的累积收益折线图，分别使用3种marker（\"^\"，\"o\",  \"x\"）,显示图例legend\n"
   ]
  },
  {
   "cell_type": "code",
   "execution_count": null,
   "id": "f2ccbe48-20cc-4427-bcd3-4a134c6c470f",
   "metadata": {},
   "outputs": [],
   "source": []
  }
 ],
 "metadata": {
  "kernelspec": {
   "display_name": "Python 3 (ipykernel)",
   "language": "python",
   "name": "python3"
  },
  "language_info": {
   "codemirror_mode": {
    "name": "ipython",
    "version": 3
   },
   "file_extension": ".py",
   "mimetype": "text/x-python",
   "name": "python",
   "nbconvert_exporter": "python",
   "pygments_lexer": "ipython3",
   "version": "3.9.13"
  },
  "widgets": {
   "application/vnd.jupyter.widget-state+json": {
    "state": {},
    "version_major": 2,
    "version_minor": 0
   }
  }
 },
 "nbformat": 4,
 "nbformat_minor": 5
}
