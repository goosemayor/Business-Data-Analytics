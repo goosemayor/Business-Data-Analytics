{
 "cells": [
  {
   "cell_type": "markdown",
   "id": "11455df1-c557-4be9-9409-b309a363b6fd",
   "metadata": {
    "tags": []
   },
   "source": [
    "# 在线Jupyter"
   ]
  },
  {
   "cell_type": "markdown",
   "id": "dfd9dccf-f6d4-4e76-8bd4-247546015066",
   "metadata": {},
   "source": [
    "如果你无法在本地使用Jupyter，那么选择在线的Jupyter无疑是个很好的替代解决办法。这里推荐使用Anaconda Nucleus，当然你可以可以使用国内的百度飞桨、K-lab等平台提供的Jupyter环境。"
   ]
  },
  {
   "cell_type": "markdown",
   "id": "24ef7eb2-167b-49d7-982a-8b029185c05d",
   "metadata": {},
   "source": [
    "## 1.登陆网页"
   ]
  },
  {
   "cell_type": "markdown",
   "id": "f0617290-bdc9-4ca8-8459-68db8c2233cd",
   "metadata": {},
   "source": [
    "Anaconda Cloud: https://anaconda.cloud\n",
    "\n",
    "![ana_cloud](image/ana_cloud.png)"
   ]
  },
  {
   "cell_type": "markdown",
   "id": "fe050398-16b2-4d92-9928-a44814f83ce6",
   "metadata": {},
   "source": [
    "## 2. 注册账户"
   ]
  },
  {
   "cell_type": "markdown",
   "id": "7f01958e-cee2-4332-94c4-2541cb5479c8",
   "metadata": {},
   "source": [
    "## 3. Jupyter在线界面"
   ]
  },
  {
   "cell_type": "markdown",
   "id": "4c5c0cbc-ea11-4076-ad28-19434aee5582",
   "metadata": {},
   "source": [
    "![ana_nucleus.png](image/ana_nucleus.png)"
   ]
  },
  {
   "cell_type": "markdown",
   "id": "b84e84ad-a506-4709-a257-93a92d186f95",
   "metadata": {},
   "source": [
    "## 4. 上传课件并解压"
   ]
  },
  {
   "cell_type": "markdown",
   "id": "9e81e951-df56-4da7-8df5-51d46986b3a0",
   "metadata": {},
   "source": [
    "1. 通过点击上传的按钮，或者通过拖拽，将课件，例如“第1章 引言.zip”上传至当前目录下\n",
    "2. 点击蓝色\"+\"按钮，点击Terminal终端按钮，打开终端界面\n",
    "3. 在终端界面里，输入`unzip 第1章\\ 引言.zip`，然后解压就完成了"
   ]
  },
  {
   "cell_type": "markdown",
   "id": "bc29ee43-c104-4bba-9fbd-5dc084fd279b",
   "metadata": {},
   "source": [
    "![upzip](image/upzip.png)"
   ]
  }
 ],
 "metadata": {
  "kernelspec": {
   "display_name": "Python 3 (ipykernel)",
   "language": "python",
   "name": "python3"
  },
  "language_info": {
   "codemirror_mode": {
    "name": "ipython",
    "version": 3
   },
   "file_extension": ".py",
   "mimetype": "text/x-python",
   "name": "python",
   "nbconvert_exporter": "python",
   "pygments_lexer": "ipython3",
   "version": "3.9.13"
  }
 },
 "nbformat": 4,
 "nbformat_minor": 5
}
