{
 "cells": [
  {
   "cell_type": "markdown",
   "id": "3d01e3c8-cf7b-45f7-8ad0-3a72130a915d",
   "metadata": {},
   "source": [
    "# 练习：请创建一个列表 [容易]\n",
    "\n",
    "请创建一个列表变量，名字叫college，包含以下元素：\"商学院\"，\"外语学院\"，\"国际交流学院\"，\"教育学院\"，\"传媒学院\"。接着尝试运行 print(college)。\n",
    "\n",
    "\n",
    "## **答案**\n",
    "\n",
    "```python\n",
    "college = [\"商学院\", \"外语学院\", \"国际交流学院\", \"教育学院\", \"传媒学院\"]\n",
    "print(college)\n",
    "```\n",
    "\n",
    "提示：如果出现语句错误，如“SyntaxError: invalid character in identifier”，中文逗号\"，\"改成英文逗号\",\" 。\n",
    "\n",
    "\n"
   ]
  },
  {
   "cell_type": "code",
   "execution_count": null,
   "id": "46193d56-e930-4387-a5c7-058261387b09",
   "metadata": {},
   "outputs": [],
   "source": []
  }
 ],
 "metadata": {
  "kernelspec": {
   "display_name": "Python 3 (ipykernel)",
   "language": "python",
   "name": "python3"
  },
  "language_info": {
   "codemirror_mode": {
    "name": "ipython",
    "version": 3
   },
   "file_extension": ".py",
   "mimetype": "text/x-python",
   "name": "python",
   "nbconvert_exporter": "python",
   "pygments_lexer": "ipython3",
   "version": "3.8.5"
  }
 },
 "nbformat": 4,
 "nbformat_minor": 5
}
