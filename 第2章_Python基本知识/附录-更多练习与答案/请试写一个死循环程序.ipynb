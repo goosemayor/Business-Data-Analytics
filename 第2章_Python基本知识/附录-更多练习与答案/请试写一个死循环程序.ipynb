{
 "cells": [
  {
   "cell_type": "markdown",
   "id": "5c85706d-3021-46cb-b68e-3f65a041f36b",
   "metadata": {},
   "source": [
    "# 练习：请试写一个死循环程序  [容易]\n",
    "\n",
    "请思考一下，为什么计算机可以一直运行？请试写一个无限循环程序。\n",
    "\n",
    "## **答案**\n",
    "\n",
    "```python\n",
    "while True:\n",
    "    print(\"It has no end!\")\n",
    "```\n",
    "\n",
    "注意：它会一直循环下去，请使用jupyter上方的方框按钮，让程序暂停，如果无法暂停请重启。在线jupyter notebook平台的计算资源很宝贵。\n",
    "\n",
    "\n",
    "\n"
   ]
  },
  {
   "cell_type": "code",
   "execution_count": null,
   "id": "a3105543-eabe-4e3e-b2f8-57ea2ccb76ff",
   "metadata": {},
   "outputs": [],
   "source": []
  }
 ],
 "metadata": {
  "kernelspec": {
   "display_name": "Python 3 (ipykernel)",
   "language": "python",
   "name": "python3"
  },
  "language_info": {
   "codemirror_mode": {
    "name": "ipython",
    "version": 3
   },
   "file_extension": ".py",
   "mimetype": "text/x-python",
   "name": "python",
   "nbconvert_exporter": "python",
   "pygments_lexer": "ipython3",
   "version": "3.8.5"
  }
 },
 "nbformat": 4,
 "nbformat_minor": 5
}
