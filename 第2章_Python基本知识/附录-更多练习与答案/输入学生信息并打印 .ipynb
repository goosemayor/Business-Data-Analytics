{
 "cells": [
  {
   "cell_type": "markdown",
   "id": "f515bfe9-9e38-4f01-9b5a-36dcf92a9cc5",
   "metadata": {},
   "source": [
    "# 练习：输入学生信息，并打印 [容易]\n",
    "\n",
    "使用input()让用户依次输入姓名、性别、年龄和城市，并使用print()输出到屏幕上：\n",
    "\n",
    "\n",
    "## **答案**\n",
    "\n",
    "```python\n",
    "name = input('please enter your name:')\n",
    "print('Your name:', name)\n",
    "gender = input('please enter your gender:')\n",
    "print('Your gender:', gender)\n",
    "age = input('please enter your age:')\n",
    "print('Your age:', age)\n",
    "city = input('please enter your city:')\n",
    "print('Your city:', city)\n",
    "```\n",
    "\n",
    "\n",
    "\n",
    "\n"
   ]
  },
  {
   "cell_type": "code",
   "execution_count": null,
   "id": "29680b6e-14de-4ff2-80b0-d1ffbffea9de",
   "metadata": {},
   "outputs": [],
   "source": []
  }
 ],
 "metadata": {
  "kernelspec": {
   "display_name": "Python 3 (ipykernel)",
   "language": "python",
   "name": "python3"
  },
  "language_info": {
   "codemirror_mode": {
    "name": "ipython",
    "version": 3
   },
   "file_extension": ".py",
   "mimetype": "text/x-python",
   "name": "python",
   "nbconvert_exporter": "python",
   "pygments_lexer": "ipython3",
   "version": "3.8.5"
  }
 },
 "nbformat": 4,
 "nbformat_minor": 5
}
