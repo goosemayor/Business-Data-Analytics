{
 "cells": [
  {
   "cell_type": "markdown",
   "id": "18574d89-c241-4421-bda2-088a169bfcc3",
   "metadata": {},
   "source": [
    "# 神经网络的理论"
   ]
  },
  {
   "cell_type": "markdown",
   "id": "30c9661f-1676-488c-b488-7cf377f72f20",
   "metadata": {},
   "source": [
    "“神经网络”是具有适应性的简单单元组成的广泛并行互连的网络，它的组织能够模拟生物神经系统对真实世界物体所做出的交互反应。 ———— Kohonen(1988)"
   ]
  },
  {
   "cell_type": "markdown",
   "id": "67c0f624-d26e-4e15-82d0-7d91f71491d3",
   "metadata": {},
   "source": [
    "神经网络中最基本的成分是神经元模型，每个神经元与其他神经元相连，当“它”兴奋时，就会向相连的神经元发送化学物质，从而改变这些神经元的电位；如果某些神经元的电位超过一个“阈值”，那么它就被激活，向其他神经元发送化学物质。"
   ]
  },
  {
   "cell_type": "markdown",
   "id": "14c71f37-6782-47c8-9a4d-6e2ab2fb2428",
   "metadata": {},
   "source": [
    "![NeuralNetwork](image/NeuralNetwork.png)"
   ]
  },
  {
   "cell_type": "markdown",
   "id": "1625d729-ab4d-48b8-8cad-09fdcfb2195d",
   "metadata": {},
   "source": [
    "## 1. 单个神经元"
   ]
  },
  {
   "cell_type": "markdown",
   "id": "fd1e5d27-fd77-4c7a-b2cf-3119d1f7e7d0",
   "metadata": {},
   "source": [
    "神经网络又称为多层感知机（multi-layer perceptron），训练得到一个映射函数$f(\\cdot): R^m \\rightarrow R^o$，其中$m$是输入自变量的维度，$o$是输出因变量的维度。该近似函数可以是非线性的，既可以用于回归也可以用于分类。与逻辑回归不同，在输入层和输出层之间可以有多个非线性的隐藏层，如下图所示为包含一个隐藏层的神经网络。\n",
    "\n",
    "![perceptron](image/perceptron.png)"
   ]
  },
  {
   "cell_type": "markdown",
   "id": "e603d979-848a-44f6-81e2-4df47cad37c9",
   "metadata": {},
   "source": [
    "![perceptron_func](image/perceptron_func.png)"
   ]
  },
  {
   "cell_type": "markdown",
   "id": "891c489e-164a-4a40-b1d6-a302203dcc60",
   "metadata": {},
   "source": [
    "## 2.多层神经元"
   ]
  },
  {
   "cell_type": "markdown",
   "id": "5c682e81-0942-4c82-a4e9-a71a08fca77a",
   "metadata": {},
   "source": [
    "\n",
    "\n",
    "最左侧的层称为输入层，由一系列表示输入特征的神经元$\\{x_i | x_1, x_2, ..., x_m\\}$组成。隐藏层中的每个神经元都计算上一层神经元输出的线性组合$w_1x_1 + w_2x_2 + ... + w_mx_m$，这里的$\\{w_i | w_1, w_2, ..., w_m\\}$为相邻层神经元的连接权重，并紧接着一个非线性激活函数$g(\\cdot):R \\rightarrow R$，如反正切函数。同样的，输出层接收最后一个隐藏层的输出。\n",
    "\n",
    "\n",
    "![sjwl](image/sjwl.png)\n",
    "\n",
    "\n",
    "神经网络模型的优点包括：\n",
    "\n",
    "* 能够学习非线性模式；\n",
    "* 能够实时在线学习，即基于部分新的实时增量数据，在原模型基础上增量学习，而不需要基于全量数据重新学习；\n",
    "\n",
    "神经网络模型的缺点包括：\n",
    "\n",
    "* 损失函数是非凸的，存在多个局部最优点，因此不同的初始化会产生不同的训练结果；\n",
    "* 对超参数调优的要求较高，如隐藏层等；\n",
    "* 对输入数据的尺度非常敏感，需要做标准化。"
   ]
  },
  {
   "cell_type": "markdown",
   "id": "ef49ccd8-d63e-4736-82f5-aea172c889bf",
   "metadata": {},
   "source": [
    "## 3. 神经网络可视化\n",
    "\n",
    "\n",
    "[神经网络可视化演示](https://playground.tensorflow.org/#activation=tanh&batchSize=10&dataset=circle&regDataset=reg-plane&learningRate=0.03&regularizationRate=0&noise=0&networkShape=4,2&seed=0.93677&showTestData=false&discretize=false&percTrainData=50&x=true&y=true&xTimesY=false&xSquared=false&ySquared=false&cosX=false&sinX=false&cosY=false&sinY=false&collectStats=false&problem=classification&initZero=false&hideText=false&discretize_hide=false)\n",
    "[备用链接](https://jalammar.github.io/visual-interactive-guide-basics-neural-networks/)\n",
    "\n",
    "![network_virsual](image/network_virsual.png)"
   ]
  },
  {
   "cell_type": "markdown",
   "id": "625e1977-bb15-4995-af54-b68404e56671",
   "metadata": {},
   "source": [
    "## 扩展阅读\n",
    "1. Explaining neural networks in raw Python：https://bronwojtek.github.io/neuralnets-in-raw-python/docs/index.html\n",
    "\n",
    "\n"
   ]
  }
 ],
 "metadata": {
  "kernelspec": {
   "display_name": "Python 3 (ipykernel)",
   "language": "python",
   "name": "python3"
  },
  "language_info": {
   "codemirror_mode": {
    "name": "ipython",
    "version": 3
   },
   "file_extension": ".py",
   "mimetype": "text/x-python",
   "name": "python",
   "nbconvert_exporter": "python",
   "pygments_lexer": "ipython3",
   "version": "3.9.13"
  },
  "widgets": {
   "application/vnd.jupyter.widget-state+json": {
    "state": {},
    "version_major": 2,
    "version_minor": 0
   }
  }
 },
 "nbformat": 4,
 "nbformat_minor": 5
}
