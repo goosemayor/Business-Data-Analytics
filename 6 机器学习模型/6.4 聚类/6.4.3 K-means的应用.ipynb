{
 "cells": [
  {
   "cell_type": "markdown",
   "id": "05a88390-f8cc-4627-aa9d-39e1adf5d734",
   "metadata": {},
   "source": [
    "# K-means的应用——百货商场会员\n",
    "在零售行业中，会员价值体现在持续不断地为零售运营商带来稳定的销售额和利润，同时也为零售运营商策略的制定提供数据支持\n",
    "零售行业会采取各种不同方法来吸引更多的人成为会员，并且尽可能提高会员的忠诚度。"
   ]
  },
  {
   "cell_type": "markdown",
   "id": "2608ef01-0778-4136-a20e-9ce8d80ce741",
   "metadata": {},
   "source": [
    "**背景**  \n",
    "- 当前电商的发展使商场会员不断流失，给零售运营商带来了严重损失。此时，运营商需要有针对性地实施营销策略来加强与会员的良好关系\n",
    "- 完善会员画像，使会员的形象更具体，帮助商家了解客户\n",
    "- 加强对现有会员的精细化管理，提供个性化的服务，可与会员建立稳定的关系\n"
   ]
  },
  {
   "cell_type": "markdown",
   "id": "40d2e8e3-97e5-43b2-822e-748b7e75d2cb",
   "metadata": {},
   "source": [
    "![shoppingmall](image/shoppingmall.png)"
   ]
  },
  {
   "cell_type": "markdown",
   "id": "cb905c7c-4930-45c4-807a-78cc22a4d379",
   "metadata": {},
   "source": [
    "**客户分析RFM模型**   \n",
    "通过客户购买数据识别不同价值的客户，识别客户价值应用最广泛的模型是RFM模型。  \n",
    "**R（Recency）**指的是最近一次消费时间与截止时间的间隔。通常情况下，最近一次消费时间与截止时间的间隔越短，对即时提供的商品或是服务也最有可能感兴趣。  \n",
    "**F（Frequency）**指顾客在某段时间内所消费的次数。可以说消费频率越高的顾客，也是满意度越高的顾客，其忠诚度也就越高，顾客价值也就越大。  \n",
    "**M（Monetary）**指顾客在某段时间内所消费的金额。消费金额越大的顾客，他们的消费能力自然也就越大，这就是所谓“20%的顾客贡献了80%的销售额”的二八法则。  \n"
   ]
  },
  {
   "cell_type": "markdown",
   "id": "a887af42-5b8d-406d-b7a7-1d092535791e",
   "metadata": {},
   "source": [
    "RFM模型包括三个特征，使用三维坐标系进行展示，如图所示。X轴表示Recency，Y轴表示Frequency，Z轴表示Monetary，每个轴一般会分成5级表示程度，1为最小，5为最大。\n"
   ]
  },
  {
   "cell_type": "markdown",
   "id": "55670830-8633-49a7-8859-82fc59da1671",
   "metadata": {},
   "source": [
    "![RFMmodel](image/RFM_model.png)"
   ]
  },
  {
   "cell_type": "markdown",
   "id": "7def04d9-8a9b-454e-9e97-c524eb75e231",
   "metadata": {},
   "source": [
    "**数据信息**如下：  \n",
    "销售流水表记录的是该商场的销售数据，其中包括会员与非会员的消费数据  \n",
    "数据时间范围是2015年1月1日至2018年1月3日\n",
    "![shoppingmall_data](image/shoppingmall_data.png)"
   ]
  },
  {
   "cell_type": "markdown",
   "id": "651570cb-838f-4777-b39f-1458f644be26",
   "metadata": {},
   "source": [
    "**目标**：  \n",
    "- 对商场的经营数据和会员信息数据进行处理\n",
    "- 分析商场的经营特征\n",
    "- 对商场会员进行用户画像描绘，方便更了解会员，对会员进行针对性的服务\n",
    "- 根据会员的消费特征对会员进行精细划分，方便针对不同群体制定对应的营销策略或管理方案，从而提升商场的销售利润\n"
   ]
  },
  {
   "cell_type": "markdown",
   "id": "ddd513a8-9f2f-4fc1-83a4-cd0ef3339c2f",
   "metadata": {},
   "source": [
    "## 读取数据"
   ]
  },
  {
   "cell_type": "code",
   "execution_count": 1,
   "id": "441c2b4c-764e-4d04-af71-96a65a2b56d4",
   "metadata": {},
   "outputs": [
    {
     "data": {
      "text/html": [
       "<div>\n",
       "<style scoped>\n",
       "    .dataframe tbody tr th:only-of-type {\n",
       "        vertical-align: middle;\n",
       "    }\n",
       "\n",
       "    .dataframe tbody tr th {\n",
       "        vertical-align: top;\n",
       "    }\n",
       "\n",
       "    .dataframe thead th {\n",
       "        text-align: right;\n",
       "    }\n",
       "</style>\n",
       "<table border=\"1\" class=\"dataframe\">\n",
       "  <thead>\n",
       "    <tr style=\"text-align: right;\">\n",
       "      <th></th>\n",
       "      <th>会员卡号</th>\n",
       "      <th>此次消费的会员积分</th>\n",
       "      <th>积分等级</th>\n",
       "      <th>年龄</th>\n",
       "      <th>年龄段</th>\n",
       "      <th>入会时长</th>\n",
       "      <th>消费次数</th>\n",
       "      <th>消费频率</th>\n",
       "      <th>消费金额</th>\n",
       "      <th>消费水平</th>\n",
       "      <th>平均每单金额</th>\n",
       "      <th>价值属性</th>\n",
       "      <th>最后一次消费距今时长</th>\n",
       "      <th>柜组名称</th>\n",
       "    </tr>\n",
       "  </thead>\n",
       "  <tbody>\n",
       "    <tr>\n",
       "      <th>0</th>\n",
       "      <td>000186fa</td>\n",
       "      <td>5267.0</td>\n",
       "      <td>积分低等级</td>\n",
       "      <td>41</td>\n",
       "      <td>中年</td>\n",
       "      <td>977</td>\n",
       "      <td>4</td>\n",
       "      <td>低频消费</td>\n",
       "      <td>11880.7</td>\n",
       "      <td>中等消费水平</td>\n",
       "      <td>2970.175000</td>\n",
       "      <td>单均价值一般</td>\n",
       "      <td>101</td>\n",
       "      <td>雅诗兰黛ESTEE LAUDER</td>\n",
       "    </tr>\n",
       "    <tr>\n",
       "      <th>1</th>\n",
       "      <td>000234ad</td>\n",
       "      <td>11850.0</td>\n",
       "      <td>积分中等级</td>\n",
       "      <td>43</td>\n",
       "      <td>中年</td>\n",
       "      <td>1097</td>\n",
       "      <td>7</td>\n",
       "      <td>中频消费</td>\n",
       "      <td>12850.0</td>\n",
       "      <td>中等消费水平</td>\n",
       "      <td>1835.714286</td>\n",
       "      <td>单均价值一般</td>\n",
       "      <td>63</td>\n",
       "      <td>雅诗兰黛柜</td>\n",
       "    </tr>\n",
       "    <tr>\n",
       "      <th>2</th>\n",
       "      <td>000339f1</td>\n",
       "      <td>6141.0</td>\n",
       "      <td>积分低等级</td>\n",
       "      <td>30</td>\n",
       "      <td>青年</td>\n",
       "      <td>1010</td>\n",
       "      <td>8</td>\n",
       "      <td>中频消费</td>\n",
       "      <td>6340.8</td>\n",
       "      <td>低消费水平</td>\n",
       "      <td>792.600000</td>\n",
       "      <td>单均价值一般</td>\n",
       "      <td>18</td>\n",
       "      <td>Wacoal</td>\n",
       "    </tr>\n",
       "    <tr>\n",
       "      <th>3</th>\n",
       "      <td>0004bad2</td>\n",
       "      <td>8964.0</td>\n",
       "      <td>积分低等级</td>\n",
       "      <td>34</td>\n",
       "      <td>青年</td>\n",
       "      <td>69</td>\n",
       "      <td>1</td>\n",
       "      <td>低频消费</td>\n",
       "      <td>8964.0</td>\n",
       "      <td>低消费水平</td>\n",
       "      <td>8964.000000</td>\n",
       "      <td>单均价值高</td>\n",
       "      <td>69</td>\n",
       "      <td>朗姿柜</td>\n",
       "    </tr>\n",
       "    <tr>\n",
       "      <th>4</th>\n",
       "      <td>000cd735</td>\n",
       "      <td>66423.0</td>\n",
       "      <td>积分中等级</td>\n",
       "      <td>55</td>\n",
       "      <td>中年</td>\n",
       "      <td>1056</td>\n",
       "      <td>40</td>\n",
       "      <td>高频消费</td>\n",
       "      <td>123759.5</td>\n",
       "      <td>高消费水平</td>\n",
       "      <td>3093.987500</td>\n",
       "      <td>单均价值一般</td>\n",
       "      <td>39</td>\n",
       "      <td>OHUI/后</td>\n",
       "    </tr>\n",
       "  </tbody>\n",
       "</table>\n",
       "</div>"
      ],
      "text/plain": [
       "       会员卡号  此次消费的会员积分   积分等级  年龄 年龄段  入会时长  消费次数  消费频率      消费金额    消费水平  \\\n",
       "0  000186fa     5267.0  积分低等级  41  中年   977     4  低频消费   11880.7  中等消费水平   \n",
       "1  000234ad    11850.0  积分中等级  43  中年  1097     7  中频消费   12850.0  中等消费水平   \n",
       "2  000339f1     6141.0  积分低等级  30  青年  1010     8  中频消费    6340.8   低消费水平   \n",
       "3  0004bad2     8964.0  积分低等级  34  青年    69     1  低频消费    8964.0   低消费水平   \n",
       "4  000cd735    66423.0  积分中等级  55  中年  1056    40  高频消费  123759.5   高消费水平   \n",
       "\n",
       "        平均每单金额    价值属性  最后一次消费距今时长              柜组名称  \n",
       "0  2970.175000  单均价值一般         101  雅诗兰黛ESTEE LAUDER  \n",
       "1  1835.714286  单均价值一般          63             雅诗兰黛柜  \n",
       "2   792.600000  单均价值一般          18            Wacoal  \n",
       "3  8964.000000   单均价值高          69               朗姿柜  \n",
       "4  3093.987500  单均价值一般          39            OHUI/后  "
      ]
     },
     "execution_count": 1,
     "metadata": {},
     "output_type": "execute_result"
    }
   ],
   "source": [
    "import pandas as pd\n",
    "data = pd.read_csv('数据/sales.csv', encoding='gbk')\n",
    "data.head()"
   ]
  },
  {
   "cell_type": "code",
   "execution_count": 2,
   "id": "54136af3-19e1-46fe-ae6b-008cbc5aebd2",
   "metadata": {},
   "outputs": [
    {
     "data": {
      "text/plain": [
       "(31301, 14)"
      ]
     },
     "execution_count": 2,
     "metadata": {},
     "output_type": "execute_result"
    }
   ],
   "source": [
    "data.shape"
   ]
  },
  {
   "cell_type": "markdown",
   "id": "e585e72a-b867-49b6-94ee-0d7859f648a1",
   "metadata": {},
   "source": [
    "通过数据观察，本案例以消费次数F，消费总金额M，最近消费距今时长R和入会时长L,4个特征作为百货公司识别客户价值的关键特征，记为LRFM模型。"
   ]
  },
  {
   "cell_type": "code",
   "execution_count": 14,
   "id": "fc2104b2-d5cf-4df5-b567-6a985c7143bc",
   "metadata": {},
   "outputs": [
    {
     "data": {
      "text/html": [
       "<div>\n",
       "<style scoped>\n",
       "    .dataframe tbody tr th:only-of-type {\n",
       "        vertical-align: middle;\n",
       "    }\n",
       "\n",
       "    .dataframe tbody tr th {\n",
       "        vertical-align: top;\n",
       "    }\n",
       "\n",
       "    .dataframe thead th {\n",
       "        text-align: right;\n",
       "    }\n",
       "</style>\n",
       "<table border=\"1\" class=\"dataframe\">\n",
       "  <thead>\n",
       "    <tr style=\"text-align: right;\">\n",
       "      <th></th>\n",
       "      <th>消费次数</th>\n",
       "      <th>最后一次消费距今时长</th>\n",
       "      <th>消费金额</th>\n",
       "      <th>入会时长</th>\n",
       "    </tr>\n",
       "  </thead>\n",
       "  <tbody>\n",
       "    <tr>\n",
       "      <th>0</th>\n",
       "      <td>4</td>\n",
       "      <td>101</td>\n",
       "      <td>11880.7</td>\n",
       "      <td>977</td>\n",
       "    </tr>\n",
       "    <tr>\n",
       "      <th>1</th>\n",
       "      <td>7</td>\n",
       "      <td>63</td>\n",
       "      <td>12850.0</td>\n",
       "      <td>1097</td>\n",
       "    </tr>\n",
       "    <tr>\n",
       "      <th>2</th>\n",
       "      <td>8</td>\n",
       "      <td>18</td>\n",
       "      <td>6340.8</td>\n",
       "      <td>1010</td>\n",
       "    </tr>\n",
       "    <tr>\n",
       "      <th>3</th>\n",
       "      <td>1</td>\n",
       "      <td>69</td>\n",
       "      <td>8964.0</td>\n",
       "      <td>69</td>\n",
       "    </tr>\n",
       "    <tr>\n",
       "      <th>4</th>\n",
       "      <td>40</td>\n",
       "      <td>39</td>\n",
       "      <td>123759.5</td>\n",
       "      <td>1056</td>\n",
       "    </tr>\n",
       "  </tbody>\n",
       "</table>\n",
       "</div>"
      ],
      "text/plain": [
       "   消费次数  最后一次消费距今时长      消费金额  入会时长\n",
       "0     4         101   11880.7   977\n",
       "1     7          63   12850.0  1097\n",
       "2     8          18    6340.8  1010\n",
       "3     1          69    8964.0    69\n",
       "4    40          39  123759.5  1056"
      ]
     },
     "execution_count": 14,
     "metadata": {},
     "output_type": "execute_result"
    }
   ],
   "source": [
    "X = data[['消费次数','最后一次消费距今时长','消费金额','入会时长']]\n",
    "X.head()"
   ]
  },
  {
   "cell_type": "markdown",
   "id": "a65807a6-ca94-4c0d-a076-61d1b3f61c5d",
   "metadata": {},
   "source": [
    "## 数据标准化"
   ]
  },
  {
   "cell_type": "code",
   "execution_count": 19,
   "id": "8ed13f85-5178-4629-af9e-8d402f2afb42",
   "metadata": {},
   "outputs": [],
   "source": [
    "from sklearn.preprocessing import StandardScaler \n",
    "sc = StandardScaler() \n",
    "feature = sc.fit_transform(X)\n",
    "feature = pd.DataFrame(feature, columns=X.columns, index=X.index)"
   ]
  },
  {
   "cell_type": "code",
   "execution_count": 21,
   "id": "195ed476-1eb3-472d-858a-c9f358eeaf1f",
   "metadata": {},
   "outputs": [
    {
     "data": {
      "text/html": [
       "<div>\n",
       "<style scoped>\n",
       "    .dataframe tbody tr th:only-of-type {\n",
       "        vertical-align: middle;\n",
       "    }\n",
       "\n",
       "    .dataframe tbody tr th {\n",
       "        vertical-align: top;\n",
       "    }\n",
       "\n",
       "    .dataframe thead th {\n",
       "        text-align: right;\n",
       "    }\n",
       "</style>\n",
       "<table border=\"1\" class=\"dataframe\">\n",
       "  <thead>\n",
       "    <tr style=\"text-align: right;\">\n",
       "      <th></th>\n",
       "      <th>消费次数</th>\n",
       "      <th>最后一次消费距今时长</th>\n",
       "      <th>消费金额</th>\n",
       "      <th>入会时长</th>\n",
       "    </tr>\n",
       "  </thead>\n",
       "  <tbody>\n",
       "    <tr>\n",
       "      <th>0</th>\n",
       "      <td>-0.162766</td>\n",
       "      <td>-0.852102</td>\n",
       "      <td>-0.123851</td>\n",
       "      <td>0.766248</td>\n",
       "    </tr>\n",
       "    <tr>\n",
       "      <th>1</th>\n",
       "      <td>0.238058</td>\n",
       "      <td>-0.953237</td>\n",
       "      <td>-0.105034</td>\n",
       "      <td>1.105873</td>\n",
       "    </tr>\n",
       "    <tr>\n",
       "      <th>2</th>\n",
       "      <td>0.371666</td>\n",
       "      <td>-1.073002</td>\n",
       "      <td>-0.231395</td>\n",
       "      <td>0.859645</td>\n",
       "    </tr>\n",
       "    <tr>\n",
       "      <th>3</th>\n",
       "      <td>-0.563591</td>\n",
       "      <td>-0.937268</td>\n",
       "      <td>-0.180472</td>\n",
       "      <td>-1.803583</td>\n",
       "    </tr>\n",
       "    <tr>\n",
       "      <th>4</th>\n",
       "      <td>4.647126</td>\n",
       "      <td>-1.017111</td>\n",
       "      <td>2.048021</td>\n",
       "      <td>0.989835</td>\n",
       "    </tr>\n",
       "  </tbody>\n",
       "</table>\n",
       "</div>"
      ],
      "text/plain": [
       "       消费次数  最后一次消费距今时长      消费金额      入会时长\n",
       "0 -0.162766   -0.852102 -0.123851  0.766248\n",
       "1  0.238058   -0.953237 -0.105034  1.105873\n",
       "2  0.371666   -1.073002 -0.231395  0.859645\n",
       "3 -0.563591   -0.937268 -0.180472 -1.803583\n",
       "4  4.647126   -1.017111  2.048021  0.989835"
      ]
     },
     "execution_count": 21,
     "metadata": {},
     "output_type": "execute_result"
    }
   ],
   "source": [
    "feature.head()"
   ]
  },
  {
   "cell_type": "markdown",
   "id": "9759ed5a-e6f5-456d-a4a2-157d9fabfc3d",
   "metadata": {},
   "source": [
    "## K-means聚类算法"
   ]
  },
  {
   "cell_type": "markdown",
   "id": "99f07aeb-3ee6-4e42-9b8b-00a809584801",
   "metadata": {},
   "source": [
    "这里我们主观定义聚类后的簇数量为5，也就是分成5个类别"
   ]
  },
  {
   "cell_type": "code",
   "execution_count": 22,
   "id": "c4a4f99e-3d23-43ff-9dca-f3303245de84",
   "metadata": {},
   "outputs": [],
   "source": [
    "import pandas as pd\n",
    "from  sklearn.cluster import KMeans\n",
    "model = KMeans(n_clusters=5, random_state=0)"
   ]
  },
  {
   "cell_type": "markdown",
   "id": "625b3b91-0830-4841-ad42-9578515d532f",
   "metadata": {},
   "source": [
    "### 训练"
   ]
  },
  {
   "cell_type": "code",
   "execution_count": 23,
   "id": "633f3b94-41af-4c86-8b1e-34642fd97f6f",
   "metadata": {},
   "outputs": [
    {
     "data": {
      "text/plain": [
       "KMeans(n_clusters=5, random_state=0)"
      ]
     },
     "execution_count": 23,
     "metadata": {},
     "output_type": "execute_result"
    }
   ],
   "source": [
    "model.fit(feature) "
   ]
  },
  {
   "cell_type": "markdown",
   "id": "1ab6c32f-447f-48cf-b8b4-9929a8427cef",
   "metadata": {},
   "source": [
    "### 训练结果"
   ]
  },
  {
   "cell_type": "code",
   "execution_count": 24,
   "id": "a874c638-6ebe-4094-9374-2084c3f991e5",
   "metadata": {},
   "outputs": [
    {
     "data": {
      "text/plain": [
       "array([[ 0.35405089, -0.61558198,  0.04441617,  0.67136318],\n",
       "       [-0.3221002 , -0.58831476, -0.18918965, -1.11544549],\n",
       "       [-0.41060379,  1.27719539, -0.25501726,  0.71403056],\n",
       "       [ 2.70992706, -0.94293576,  1.91191234,  0.54151326],\n",
       "       [ 6.78682128, -1.08705261,  9.7763573 ,  0.71438857]])"
      ]
     },
     "execution_count": 24,
     "metadata": {},
     "output_type": "execute_result"
    }
   ],
   "source": [
    "model.cluster_centers_ # 类中心"
   ]
  },
  {
   "cell_type": "code",
   "execution_count": 25,
   "id": "1a503079-0ecc-44e2-812c-a28930336e58",
   "metadata": {},
   "outputs": [
    {
     "data": {
      "text/plain": [
       "array([0, 0, 0, ..., 0, 1, 2], dtype=int32)"
      ]
     },
     "execution_count": 25,
     "metadata": {},
     "output_type": "execute_result"
    }
   ],
   "source": [
    "model.labels_ # 聚类类别"
   ]
  },
  {
   "cell_type": "code",
   "execution_count": 26,
   "id": "d645946a-7718-47b2-b617-2c0c5686e934",
   "metadata": {
    "tags": []
   },
   "outputs": [
    {
     "data": {
      "text/plain": [
       "1    11883\n",
       "2    10334\n",
       "0     7253\n",
       "3     1695\n",
       "4      136\n",
       "dtype: int64"
      ]
     },
     "execution_count": 26,
     "metadata": {},
     "output_type": "execute_result"
    }
   ],
   "source": [
    "pd.Series(model.labels_).value_counts() # 数量统计"
   ]
  },
  {
   "cell_type": "code",
   "execution_count": 27,
   "id": "1754afac-07ac-4053-bd5e-d5da8c2e6171",
   "metadata": {},
   "outputs": [],
   "source": [
    "data['客户类别'] = model.labels_   # 给原始数据添加聚类标签"
   ]
  },
  {
   "cell_type": "markdown",
   "id": "4df73af5-4011-4126-9115-12670c242de8",
   "metadata": {},
   "source": [
    "### 绘制雷达图"
   ]
  },
  {
   "cell_type": "code",
   "execution_count": 28,
   "id": "72fbd532-31e3-44e4-8022-2c2f1caca6e6",
   "metadata": {},
   "outputs": [
    {
     "name": "stdout",
     "output_type": "stream",
     "text": [
      "[ 0.35405089 -0.61558198  0.04441617  0.67136318  0.35405089]\n",
      "[-0.3221002  -0.58831476 -0.18918965 -1.11544549 -0.3221002 ]\n",
      "[-0.41060379  1.27719539 -0.25501726  0.71403056 -0.41060379]\n",
      "[ 2.70992706 -0.94293576  1.91191234  0.54151326  2.70992706]\n",
      "[ 6.78682128 -1.08705261  9.7763573   0.71438857  6.78682128]\n"
     ]
    },
    {
     "data": {
      "image/png": "[encoded data removed]",
      "text/plain": [
       "<Figure size 576x576 with 1 Axes>"
      ]
     },
     "metadata": {
      "needs_background": "light"
     },
     "output_type": "display_data"
    }
   ],
   "source": [
    "# -*- coding: utf-8 -*-\n",
    "import matplotlib.pyplot as plt\n",
    "import numpy as np\n",
    "plt.rcParams['font.sans-serif'] = ['SimHei']  # 用来正常显示中文标签\n",
    "plt.rcParams['axes.unicode_minus'] = False  # 用来正常显示负号\n",
    "\n",
    "\n",
    "# 绘制雷达图，传入参数1：model_center(聚类中心)，参数2：label(特征名字)\n",
    "def radarplot(model_center=None, label=None):\n",
    "    n = len(label)  # 特征个数\n",
    "    # 对labels进行封闭，否则会有因为matplotlib版本引起的错误\n",
    "    label = np.concatenate((label, [label[0]]))\n",
    "    # 间隔采样，设置雷达图的角度，用于平分切开一个圆面,endpoint设置为False表示随机采样不包括stop的值\n",
    "    angles = np.linspace(0, 2 * np.pi, n, endpoint=False)\n",
    "    # 拼接多个数组，使雷达图一圈封闭起来\n",
    "    angles = np.concatenate((angles, [angles[0]]))\n",
    "    # 创建一个空白画布\n",
    "    fig = plt.figure(figsize=(8, 8))\n",
    "    # 创建子图，设置极坐标格式，绘制圆形\n",
    "    ax = fig.add_subplot(1, 1, 1, polar=True)\n",
    "    # 添加每个特征的标签\n",
    "    ax.set_thetagrids(angles * 180 / np.pi, label)\n",
    "    # 设置y轴范围\n",
    "    ax.set_ylim(model_center.min(), model_center.max())\n",
    "    # 添加网格线\n",
    "    ax.grid(True)\n",
    "    # 设置备选的折线颜色和样式,防止线条重复\n",
    "    sam = ['r','0','g','b','m','y','k','p','c']\n",
    "    mak = ['4','8','x','*','d','_','.','+','|']\n",
    "    labels = []\n",
    "    # 循环添加每个类别的线圈\n",
    "    for i in range(len(model_center)):\n",
    "        values = np.concatenate((model_center[i], [model_center[i][0]]))\n",
    "        print(values)\n",
    "        ax.plot(angles, values, c=sam[i], marker=mak[i])\n",
    "        plt.yticks(fontsize=15)\n",
    "        plt.xticks(fontsize=15)\n",
    "        labels.append('客户群' + str(i))\n",
    "    plt.legend(labels,fontsize=15)\n",
    "# 聚类的雷达图\n",
    "radarplot(model.cluster_centers_ , feature.columns)"
   ]
  },
  {
   "cell_type": "markdown",
   "id": "e4cc08fc-e2fe-403c-ad17-7f6832e5353b",
   "metadata": {},
   "source": [
    "根据数据情况，选择使用Kmeans算法将客户分成5个类别。   \n",
    "结合业务分析，通过比较各个特征在群间的大小对某一个群的特征进行评价分析，从而总结出每个群的优势和弱势特征。"
   ]
  },
  {
   "cell_type": "markdown",
   "id": "d7f69769-09f7-4fea-9346-cc60c9250c0c",
   "metadata": {},
   "source": [
    "### 会员管理方案   "
   ]
  },
  {
   "cell_type": "code",
   "execution_count": 50,
   "id": "76e6549e-a60b-4599-be96-bba733824d35",
   "metadata": {},
   "outputs": [
    {
     "data": {
      "text/plain": [
       "重要保持客户    0.379636\n",
       "低价值客户     0.330149\n",
       "一般价值客户    0.231718\n",
       "流失客户      0.054152\n",
       "重要发展客户    0.004345\n",
       "Name: 聚类类别, dtype: float64"
      ]
     },
     "execution_count": 50,
     "metadata": {},
     "output_type": "execute_result"
    }
   ],
   "source": [
    "s = pd.Series(model.labels_).value_counts()\n",
    "s = s/s.sum()\n",
    "s.index = ['重要保持客户', '低价值客户', '一般价值客户', '流失客户', '重要发展客户']\n",
    "s.name = '聚类类别'\n",
    "s"
   ]
  },
  {
   "cell_type": "code",
   "execution_count": 49,
   "id": "3b1a791c-4392-4201-8577-04c69ae108c4",
   "metadata": {},
   "outputs": [
    {
     "data": {
      "image/png": "[encoded data removed]",
      "text/plain": [
       "<Figure size 432x432 with 1 Axes>"
      ]
     },
     "metadata": {},
     "output_type": "display_data"
    }
   ],
   "source": [
    "import matplotlib.pyplot as plt\n",
    "fig, ax = plt.subplots(figsize=(6,6))\n",
    "ax.pie(s, labels=s.index)\n",
    "plt.show()"
   ]
  },
  {
   "cell_type": "markdown",
   "id": "985213a5-a4dd-4120-8430-e7d4fa0b6a57",
   "metadata": {},
   "source": [
    "根据对各个客户群进行特征分析，采取下面的一些营销手段和策略，为百货公司的客户管理提供参考。   \n",
    "**低价值客户**，购买力有限，入会一段时间后不再购买商品，可以通过广告、品牌折扣、类目更新等勾起客户兴趣，制造品牌效应，增加互动拉新促活为主。   \n",
    "**一般价值客户**，刚入会的客户，对产品认知度不够，已经有一段时间未进行购买，跟低价值客户一样以增加互动拉新促活为主。   \n",
    "**流失客户**，此类客户购买力很低，购买频率不高，且数量不多，可以直接丢弃。   \n",
    "**重要发展客户**，处于新会员阶段，购买力中等，可以提供相似商品的优惠、服务等级提升、免费送货上门等方式，促进消费为主。   \n",
    "**重要保持客户**，处于新会员阶段，但购买力十足，应按照超级VIP的待遇进行管理，按周、按月发送当季新品、商品折扣、服务升级等，以增加用户粘性。"
   ]
  }
 ],
 "metadata": {
  "kernelspec": {
   "display_name": "Python 3 (ipykernel)",
   "language": "python",
   "name": "python3"
  },
  "language_info": {
   "codemirror_mode": {
    "name": "ipython",
    "version": 3
   },
   "file_extension": ".py",
   "mimetype": "text/x-python",
   "name": "python",
   "nbconvert_exporter": "python",
   "pygments_lexer": "ipython3",
   "version": "3.9.13"
  },
  "widgets": {
   "application/vnd.jupyter.widget-state+json": {
    "state": {},
    "version_major": 2,
    "version_minor": 0
   }
  }
 },
 "nbformat": 4,
 "nbformat_minor": 5
}
