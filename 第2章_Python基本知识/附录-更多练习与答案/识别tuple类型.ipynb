{
 "cells": [
  {
   "cell_type": "markdown",
   "id": "cf98b3bc-1b71-4cad-a10c-90fb9586de78",
   "metadata": {},
   "source": [
    "# 练习：识别tuple类型 [容易]\n",
    "\n",
    " 请问以下变量哪些是tuple类型：\n",
    "\n",
    "- a = ()\n",
    "\n",
    "- b = (1)\n",
    "\n",
    "- c = [2]\n",
    "\n",
    "- d = (3,)\n",
    "\n",
    "- e = (4,5,6)\n",
    "\n",
    "\n",
    "\n",
    "## **答案**\n",
    "\n",
    "b, d, e是tuple类型变量。\n",
    "\n",
    "\n"
   ]
  },
  {
   "cell_type": "code",
   "execution_count": null,
   "id": "6c030916-d8f3-4d03-ae4a-6e4d64e119e8",
   "metadata": {},
   "outputs": [],
   "source": []
  }
 ],
 "metadata": {
  "kernelspec": {
   "display_name": "Python 3 (ipykernel)",
   "language": "python",
   "name": "python3"
  },
  "language_info": {
   "codemirror_mode": {
    "name": "ipython",
    "version": 3
   },
   "file_extension": ".py",
   "mimetype": "text/x-python",
   "name": "python",
   "nbconvert_exporter": "python",
   "pygments_lexer": "ipython3",
   "version": "3.8.5"
  }
 },
 "nbformat": 4,
 "nbformat_minor": 5
}
