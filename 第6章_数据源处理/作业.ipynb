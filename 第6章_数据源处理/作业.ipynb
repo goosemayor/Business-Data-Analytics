{
 "cells": [
  {
   "cell_type": "markdown",
   "id": "c14ca121-9c7f-4ae9-a8b7-ca137111e47b",
   "metadata": {},
   "source": [
    "# 作业"
   ]
  },
  {
   "cell_type": "markdown",
   "id": "56a75684-8900-4cfa-a6b1-5afd738030ac",
   "metadata": {},
   "source": [
    "使用requests库，或者爬虫软件，爬取股吧上相关的舆情数据，并保存为CSV格式。\n",
    "例如在网站 [http://guba.eastmoney.com/list,002594.html](http://guba.eastmoney.com/list,002594.html)，抓取相关评论标题。\n"
   ]
  },
  {
   "cell_type": "code",
   "execution_count": null,
   "id": "feb4925f-f229-42fa-beec-ec3c9e68bacb",
   "metadata": {},
   "outputs": [],
   "source": []
  }
 ],
 "metadata": {
  "kernelspec": {
   "display_name": "Python 3 (ipykernel)",
   "language": "python",
   "name": "python3"
  },
  "language_info": {
   "codemirror_mode": {
    "name": "ipython",
    "version": 3
   },
   "file_extension": ".py",
   "mimetype": "text/x-python",
   "name": "python",
   "nbconvert_exporter": "python",
   "pygments_lexer": "ipython3",
   "version": "3.9.13"
  }
 },
 "nbformat": 4,
 "nbformat_minor": 5
}
