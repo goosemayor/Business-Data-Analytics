{
 "cells": [
  {
   "cell_type": "markdown",
   "id": "ecad4d66-0932-41d0-bf73-060a3b06898c",
   "metadata": {},
   "source": [
    "# 作业-Numpy"
   ]
  },
  {
   "cell_type": "markdown",
   "id": "fdd4e4f5-74a5-4c52-a193-9315f61d1166",
   "metadata": {},
   "source": [
    "运用Numpy1维、2维数组相关的创建、切片、运算等方法解决以下问题："
   ]
  },
  {
   "cell_type": "markdown",
   "id": "80d8b6ec-39e4-427e-9e7b-fee097ce1b50",
   "metadata": {},
   "source": [
    "## 1. 一维数组（0.5分\\*4 = 2分）\n",
    "- 创建一个1维数组，命名为data01，包含100，99，...，1，间隔为1\n",
    "- 对其进行从小到大排序\n",
    "- 将数组data01变形成4行25列的2维数组\n",
    "- 计算总和"
   ]
  },
  {
   "cell_type": "code",
   "execution_count": 3,
   "id": "b24a3a8d-4b1a-4f10-9377-2f4e0e6c3e46",
   "metadata": {},
   "outputs": [
    {
     "data": {
      "text/plain": [
       "array([100,  99,  98,  97,  96,  95,  94,  93,  92,  91,  90,  89,  88,\n",
       "        87,  86,  85,  84,  83,  82,  81,  80,  79,  78,  77,  76,  75,\n",
       "        74,  73,  72,  71,  70,  69,  68,  67,  66,  65,  64,  63,  62,\n",
       "        61,  60,  59,  58,  57,  56,  55,  54,  53,  52,  51,  50,  49,\n",
       "        48,  47,  46,  45,  44,  43,  42,  41,  40,  39,  38,  37,  36,\n",
       "        35,  34,  33,  32,  31,  30,  29,  28,  27,  26,  25,  24,  23,\n",
       "        22,  21,  20,  19,  18,  17,  16,  15,  14,  13,  12,  11,  10,\n",
       "         9,   8,   7,   6,   5,   4,   3,   2,   1])"
      ]
     },
     "execution_count": 3,
     "metadata": {},
     "output_type": "execute_result"
    }
   ],
   "source": [
    "import numpy as np\n",
    "data01 = np.arange(100, 0, -1)\n",
    "data01"
   ]
  },
  {
   "cell_type": "code",
   "execution_count": 4,
   "id": "fb910014-d04a-43bc-9f1c-9b26c316a4ae",
   "metadata": {},
   "outputs": [
    {
     "data": {
      "text/plain": [
       "array([  1,   2,   3,   4,   5,   6,   7,   8,   9,  10,  11,  12,  13,\n",
       "        14,  15,  16,  17,  18,  19,  20,  21,  22,  23,  24,  25,  26,\n",
       "        27,  28,  29,  30,  31,  32,  33,  34,  35,  36,  37,  38,  39,\n",
       "        40,  41,  42,  43,  44,  45,  46,  47,  48,  49,  50,  51,  52,\n",
       "        53,  54,  55,  56,  57,  58,  59,  60,  61,  62,  63,  64,  65,\n",
       "        66,  67,  68,  69,  70,  71,  72,  73,  74,  75,  76,  77,  78,\n",
       "        79,  80,  81,  82,  83,  84,  85,  86,  87,  88,  89,  90,  91,\n",
       "        92,  93,  94,  95,  96,  97,  98,  99, 100])"
      ]
     },
     "execution_count": 4,
     "metadata": {},
     "output_type": "execute_result"
    }
   ],
   "source": [
    "np.sort(data01)"
   ]
  },
  {
   "cell_type": "code",
   "execution_count": 5,
   "id": "9144be5b-c942-4383-b47b-ea836de9c7e7",
   "metadata": {},
   "outputs": [
    {
     "data": {
      "text/plain": [
       "array([[100,  99,  98,  97,  96,  95,  94,  93,  92,  91,  90,  89,  88,\n",
       "         87,  86,  85,  84,  83,  82,  81,  80,  79,  78,  77,  76],\n",
       "       [ 75,  74,  73,  72,  71,  70,  69,  68,  67,  66,  65,  64,  63,\n",
       "         62,  61,  60,  59,  58,  57,  56,  55,  54,  53,  52,  51],\n",
       "       [ 50,  49,  48,  47,  46,  45,  44,  43,  42,  41,  40,  39,  38,\n",
       "         37,  36,  35,  34,  33,  32,  31,  30,  29,  28,  27,  26],\n",
       "       [ 25,  24,  23,  22,  21,  20,  19,  18,  17,  16,  15,  14,  13,\n",
       "         12,  11,  10,   9,   8,   7,   6,   5,   4,   3,   2,   1]])"
      ]
     },
     "execution_count": 5,
     "metadata": {},
     "output_type": "execute_result"
    }
   ],
   "source": [
    "data01.reshape(4, 25)"
   ]
  },
  {
   "cell_type": "code",
   "execution_count": 6,
   "id": "658d4667-6a82-4c77-b0ca-7c965d855a15",
   "metadata": {},
   "outputs": [
    {
     "data": {
      "text/plain": [
       "5050"
      ]
     },
     "execution_count": 6,
     "metadata": {},
     "output_type": "execute_result"
    }
   ],
   "source": [
    "data01.sum()"
   ]
  },
  {
   "cell_type": "markdown",
   "id": "142d177f-a1dd-4a41-91f6-493173cd2afe",
   "metadata": {},
   "source": [
    "## 2.二维数组（0.5分\\*6=3分）\n",
    "- 创建一个大小为3行4列的2维随机数组，数组中的元素维随机数，命名为data02\n",
    "- 选取数组data02后3列，也就是第2列到第4列元素\n",
    "- 求数组data02的元素中的最大值、最小值和总和。\n",
    "- 求数组data02的元素中的每一列求最大值、最小值和总和。\n",
    "- 将data02变形成1维数组。\n",
    "- 将data02变成4行3列的2维数组\n",
    "\n"
   ]
  },
  {
   "cell_type": "code",
   "execution_count": 22,
   "id": "e939a1ab-47de-4353-aa73-d7f989909959",
   "metadata": {},
   "outputs": [
    {
     "data": {
      "text/plain": [
       "array([[0.80720115, 0.31225948, 0.84573254, 0.69912808],\n",
       "       [0.29635292, 0.17884995, 0.3244918 , 0.76705679],\n",
       "       [0.39717038, 0.13558286, 0.98839005, 0.67591629]])"
      ]
     },
     "execution_count": 22,
     "metadata": {},
     "output_type": "execute_result"
    }
   ],
   "source": [
    "data02 = np.random.rand(3,4)  #也可以使用np.random.randint生成随机证书 \n",
    "data02"
   ]
  },
  {
   "cell_type": "code",
   "execution_count": 23,
   "id": "022edcd7-e06e-41f9-ae46-2dc667364b66",
   "metadata": {},
   "outputs": [
    {
     "data": {
      "text/plain": [
       "array([[0.31225948, 0.84573254, 0.69912808],\n",
       "       [0.17884995, 0.3244918 , 0.76705679],\n",
       "       [0.13558286, 0.98839005, 0.67591629]])"
      ]
     },
     "execution_count": 23,
     "metadata": {},
     "output_type": "execute_result"
    }
   ],
   "source": [
    "data02[:, -3:]"
   ]
  },
  {
   "cell_type": "code",
   "execution_count": 24,
   "id": "a9129213-ea20-4138-8457-0d08b217dd98",
   "metadata": {},
   "outputs": [
    {
     "data": {
      "text/plain": [
       "(0.9883900508063549, 0.135582859038331, 6.428132287096357)"
      ]
     },
     "execution_count": 24,
     "metadata": {},
     "output_type": "execute_result"
    }
   ],
   "source": [
    "data02.max(), data02.min(), data02.sum()"
   ]
  },
  {
   "cell_type": "code",
   "execution_count": 28,
   "id": "960aefeb-7fea-4972-95d1-fa8a3daa7112",
   "metadata": {},
   "outputs": [
    {
     "data": {
      "text/plain": [
       "(array([0.80720115, 0.31225948, 0.98839005, 0.76705679]),\n",
       " array([0.84573254, 0.76705679, 0.98839005]),\n",
       " array([1.50072445, 0.62669229, 2.15861439, 2.14210116]))"
      ]
     },
     "execution_count": 28,
     "metadata": {},
     "output_type": "execute_result"
    }
   ],
   "source": [
    "data02.max(axis=0), data02.max(axis=1), data02.sum(axis=0)"
   ]
  },
  {
   "cell_type": "code",
   "execution_count": 32,
   "id": "b503f3d0-8b18-4d0d-9050-e504eca83cf0",
   "metadata": {},
   "outputs": [
    {
     "data": {
      "text/plain": [
       "array([0.80720115, 0.31225948, 0.84573254, 0.69912808, 0.29635292,\n",
       "       0.17884995, 0.3244918 , 0.76705679, 0.39717038, 0.13558286,\n",
       "       0.98839005, 0.67591629])"
      ]
     },
     "execution_count": 32,
     "metadata": {},
     "output_type": "execute_result"
    }
   ],
   "source": [
    "data02.ravel()  #或者 data02.flatten()"
   ]
  },
  {
   "cell_type": "code",
   "execution_count": 34,
   "id": "55735b2c-a52b-4370-a3d2-aad6fb3f96a6",
   "metadata": {},
   "outputs": [
    {
     "data": {
      "text/plain": [
       "array([[0.80720115, 0.31225948, 0.84573254],\n",
       "       [0.69912808, 0.29635292, 0.17884995],\n",
       "       [0.3244918 , 0.76705679, 0.39717038],\n",
       "       [0.13558286, 0.98839005, 0.67591629]])"
      ]
     },
     "execution_count": 34,
     "metadata": {},
     "output_type": "execute_result"
    }
   ],
   "source": [
    "data02.reshape(4,3)"
   ]
  },
  {
   "cell_type": "markdown",
   "id": "5506d2ef-ca3c-4517-881e-bee3d7aad278",
   "metadata": {},
   "source": [
    "## 3.最小最大标准化(1分)"
   ]
  },
  {
   "cell_type": "markdown",
   "id": "5422e3a3-25fc-4a15-8671-b4e8caf7f34d",
   "metadata": {},
   "source": [
    "最小最大标准化（Min-Max Normalization）是一种常用的数据标准化方法，用于将数据缩放到指定的范围内。\n",
    "该方法通过对数据进行线性变换，使其值域被缩放到指定的范围内，通常是 [0,1] 或 [-1,1]。\n",
    "\n",
    "该方法的公式如下：\n",
    "\n",
    "$$\n",
    "X_{norm} = (X - X_{min}) / (X_{max} - X_{min})\n",
    "$$\n",
    "\n",
    "通过最小最大标准化，可以使得不同量纲的数据在同一标度下进行比较，且可以使得数据具有可比性。\n",
    "在机器学习、数据挖掘等领域中，常常需要对数据进行标准化，以提高算法的性能和效果。"
   ]
  },
  {
   "cell_type": "markdown",
   "id": "ee73d959-cf7c-453d-916b-357d913ac7c3",
   "metadata": {},
   "source": [
    "应用上述方法，将序列[16, 46, 33, 90, 64, 34, 91, 33, 24, 32, 30, 91, 85, 58, 77, 35,  1,34, 51, 36]进行最小最大标准化操作，放缩到[0,1]。"
   ]
  },
  {
   "cell_type": "code",
   "execution_count": 36,
   "id": "de9a08ff-8ba7-4dd0-aae5-4445a033d6a4",
   "metadata": {},
   "outputs": [
    {
     "data": {
      "text/plain": [
       "array([0.16666667, 0.5       , 0.35555556, 0.98888889, 0.7       ,\n",
       "       0.36666667, 1.        , 0.35555556, 0.25555556, 0.34444444,\n",
       "       0.32222222, 1.        , 0.93333333, 0.63333333, 0.84444444,\n",
       "       0.37777778, 0.        , 0.36666667, 0.55555556, 0.38888889])"
      ]
     },
     "execution_count": 36,
     "metadata": {},
     "output_type": "execute_result"
    }
   ],
   "source": [
    "X = np.array([16, 46, 33, 90, 64, 34, 91, 33, 24, 32, 30, 91, 85, 58, 77, 35, 1,34, 51, 36])\n",
    "X_norm = (X-X.min())/(X.max() - X.min())\n",
    "X_norm"
   ]
  },
  {
   "cell_type": "markdown",
   "id": "a0d9dba0-9260-4fb5-8958-8f5afbfdc6e1",
   "metadata": {},
   "source": [
    "## 4. 数据集划分（2分\\*2=4分）"
   ]
  },
  {
   "cell_type": "markdown",
   "id": "c0eed63c-8a5d-4fe2-9929-483922d3086b",
   "metadata": {},
   "source": [
    "在机器学习中，样本内和样本外是指数据集中的一部分样本，其中来说，样本内是指用于训练模型、调整模型参数、验证模型性能的数据；样本外是指未在训练过程中使用的数据，通常用于测试模型的性能和泛化能力。"
   ]
  },
  {
   "cell_type": "markdown",
   "id": "b290019a-3c73-4511-9d5a-3446d1811bc8",
   "metadata": {},
   "source": [
    "![fix_split](image/fix_split.png)"
   ]
  },
  {
   "cell_type": "markdown",
   "id": "797dbad0-3c7c-41f5-bf42-c2e76e14c66e",
   "metadata": {},
   "source": [
    "一般将80%的原始数据集的子样本集作为样本内(In-sample, IS)，剩余20%作为样本外(Out-of-sample, OOS)。\n",
    "样本总数为500个，一种简单的切割方法是直接指定前400个样本为IS，后面为OOS。"
   ]
  },
  {
   "cell_type": "code",
   "execution_count": 37,
   "id": "23d72328-bfd8-4e8b-b9c4-ab7e8f388d0e",
   "metadata": {},
   "outputs": [],
   "source": [
    "X = np.array([0.36707772, 0.30442107, 0.09602864, 0.72140911, 0.30727176,\n",
    "       0.30332833, 0.82704939, 0.0547752 , 0.91921485, 0.54352647,\n",
    "       0.45263199, 0.1654269 , 0.42571673, 0.38253443, 0.11461271,\n",
    "       0.56558215, 0.78277293, 0.82637154, 0.48652071, 0.49557472])"
   ]
  },
  {
   "cell_type": "markdown",
   "id": "5d14e5ab-0d09-4765-93c6-b2557b5eb268",
   "metadata": {},
   "source": [
    "如果给定一个X序列，那么其样本内和样本外分别是："
   ]
  },
  {
   "cell_type": "code",
   "execution_count": 41,
   "id": "7a182502-964d-42ef-a405-0d238cf75ce1",
   "metadata": {},
   "outputs": [],
   "source": [
    "X_IS = X[:int(len(X)*0.8)]\n",
    "X_OOS = X[int(len(X)*0.8):]"
   ]
  },
  {
   "cell_type": "markdown",
   "id": "b613f1d4-e1fb-4e53-a275-a1d8c96fe779",
   "metadata": {},
   "source": [
    "简单随机划分（Simple Random Sampling）：将原始数据集随机划分为训练集和测试集两部分，通常将数据集的 70% 到 80% 作为训练集，剩余部分作为测试集。"
   ]
  },
  {
   "cell_type": "markdown",
   "id": "db3a0ee3-84f1-405a-ab11-9c85e30b1e3f",
   "metadata": {},
   "source": [
    "![random_split](image/random_split.png)"
   ]
  },
  {
   "cell_type": "markdown",
   "id": "7ad3a5df-f68d-4cf2-b908-c37cce09f29d",
   "metadata": {},
   "source": [
    "当我们并不了解原始数据集是不是被刻意排列了，最好的办法是使用随机抽样，即随机抽80%为IS，剩余的20%为OOS。"
   ]
  },
  {
   "cell_type": "code",
   "execution_count": 47,
   "id": "04a640f5-49e7-4cc1-a2eb-f468505614ea",
   "metadata": {
    "tags": []
   },
   "outputs": [
    {
     "data": {
      "text/plain": [
       "array([19,  8,  1,  5, 11, 15, 18,  7,  9, 12,  3, 10, 13, 16,  4,  6,  2,\n",
       "        0, 14, 17])"
      ]
     },
     "execution_count": 47,
     "metadata": {},
     "output_type": "execute_result"
    }
   ],
   "source": [
    "arr = np.arange(len(X))\n",
    "np.random.shuffle(arr)\n",
    "arr"
   ]
  },
  {
   "cell_type": "code",
   "execution_count": 50,
   "id": "0ea6e659-88e0-4ad4-a388-072a22279624",
   "metadata": {},
   "outputs": [],
   "source": [
    "X_random_IS = X[arr[:int(len(arr)*0.8)]]\n",
    "X_random_OOS = X[arr[int(len(arr)*0.8):]]"
   ]
  }
 ],
 "metadata": {
  "kernelspec": {
   "display_name": "Python 3 (ipykernel)",
   "language": "python",
   "name": "python3"
  },
  "language_info": {
   "codemirror_mode": {
    "name": "ipython",
    "version": 3
   },
   "file_extension": ".py",
   "mimetype": "text/x-python",
   "name": "python",
   "nbconvert_exporter": "python",
   "pygments_lexer": "ipython3",
   "version": "3.9.13"
  },
  "toc-showmarkdowntxt": true
 },
 "nbformat": 4,
 "nbformat_minor": 5
}
