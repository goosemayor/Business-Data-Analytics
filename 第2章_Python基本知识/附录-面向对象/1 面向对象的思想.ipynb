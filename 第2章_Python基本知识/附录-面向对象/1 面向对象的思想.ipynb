{
 "cells": [
  {
   "cell_type": "markdown",
   "id": "a94cf427-ee64-4631-a2c2-5909a9f0dde9",
   "metadata": {},
   "source": [
    "# 面向对象编程\n",
    "面向对象编程——Object Oriented Programming，简称OOP，是一种程序设计思想。OOP把对象作为程序的基本单元，一个对象包含了数据和操作数据的函数。\n"
   ]
  },
  {
   "cell_type": "markdown",
   "id": "e6a40c43-08aa-444d-a4fd-0db11c16ffb9",
   "metadata": {},
   "source": [
    "\n",
    "我们通过一个例子理解OOP。下面这个dict字典类型变量表示一个学生的个人信息：\n",
    "\n",
    "```python\n",
    "student = {'name':'Rose',\n",
    "          'age':20,\n",
    "          'gender': 'Female'}  \n",
    "```\n",
    "\n",
    "如果需要显示这个学生的年龄，我们就使用print语句：\n",
    "\n",
    "```python\n",
    "def print_age(student):\n",
    "    print('%s: %s' %(student['name'], student['age']))\n",
    "```\n",
    "\n",
    "如果采用面向对象的程序设计思想，我们首选思考的不是程序的执行流程，而是`Student`这个变量应该被视为一个对象，这个对象拥有`name`和`age`这两个属性。如果要打印一个学生的年龄，首先必须创建出这个学生对应的对象，然后，让对象自己把自己的年龄打印出来。\n",
    "\n",
    "```python\n",
    "class Student(object):\n",
    "\n",
    "    def __init__(self, name, age):\n",
    "        self.name = name\n",
    "        self.age = age\n",
    "\n",
    "    def print_age(self):\n",
    "        print('%s: %s' % (self.name, self.age))\n",
    "```\n",
    "\n",
    "`print_age`这个函数，在这里我们称之为对象的**方法**（Method）。面向对象的程序写出来就像这样：\n",
    "\n",
    "```python\n",
    "jack = Student('Jack', 24)\n",
    "rose = Student('Rose', 20)\n",
    "jack.print_age()\n",
    "rose.print_age()\n",
    "```\n",
    "\n",
    "面向对象的设计思想是从自然界中来的，因为在自然界中，类（Class）和实例（Instance）的概念是很自然的。**类**是一种抽象概念，比如我们定义的**类**——Student，是指学生这个概念，而**实例**则是一个个具体的Student，比如，Jack和Rose是两个具体的Student，我们称Jack和Rose为两个实例，两个类Student的实例。\n",
    "\n",
    "\n"
   ]
  }
 ],
 "metadata": {
  "kernelspec": {
   "display_name": "Python 3 (ipykernel)",
   "language": "python",
   "name": "python3"
  },
  "language_info": {
   "codemirror_mode": {
    "name": "ipython",
    "version": 3
   },
   "file_extension": ".py",
   "mimetype": "text/x-python",
   "name": "python",
   "nbconvert_exporter": "python",
   "pygments_lexer": "ipython3",
   "version": "3.9.7"
  },
  "widgets": {
   "application/vnd.jupyter.widget-state+json": {
    "state": {},
    "version_major": 2,
    "version_minor": 0
   }
  }
 },
 "nbformat": 4,
 "nbformat_minor": 5
}
