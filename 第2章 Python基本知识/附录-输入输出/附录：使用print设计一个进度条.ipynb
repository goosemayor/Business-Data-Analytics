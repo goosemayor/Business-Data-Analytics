{
 "cells": [
  {
   "cell_type": "markdown",
   "id": "1618276a-d835-40e6-9842-d20e5fdab1d9",
   "metadata": {},
   "source": [
    "# 使用print语句设计一个进度条"
   ]
  },
  {
   "cell_type": "code",
   "execution_count": 3,
   "id": "b9ff2be0-2a25-4fa7-916c-bb0f81ee90fd",
   "metadata": {},
   "outputs": [
    {
     "name": "stdout",
     "output_type": "stream",
     "text": [
      "进度 100%:  ▓▓▓▓▓▓▓▓▓▓▓▓▓▓▓▓▓▓▓▓▓▓▓▓▓▓▓▓▓▓▓▓▓▓▓▓▓▓▓▓▓▓▓▓▓▓▓▓▓▓"
     ]
    }
   ],
   "source": [
    "import time\n",
    "for i in range(1, 101):\n",
    "    \"\"\"\n",
    "    别的功能\n",
    "    \"\"\"\n",
    "    print(\"\\r\", end=\"\")    \n",
    "    print(\"进度 {}%: \".format(i), \"▓\" * (i // 2), end=\"\")\n",
    "    time.sleep(0.05)"
   ]
  }
 ],
 "metadata": {
  "kernelspec": {
   "display_name": "Python 3 (ipykernel)",
   "language": "python",
   "name": "python3"
  },
  "language_info": {
   "codemirror_mode": {
    "name": "ipython",
    "version": 3
   },
   "file_extension": ".py",
   "mimetype": "text/x-python",
   "name": "python",
   "nbconvert_exporter": "python",
   "pygments_lexer": "ipython3",
   "version": "3.9.7"
  },
  "widgets": {
   "application/vnd.jupyter.widget-state+json": {
    "state": {},
    "version_major": 2,
    "version_minor": 0
   }
  }
 },
 "nbformat": 4,
 "nbformat_minor": 5
}
