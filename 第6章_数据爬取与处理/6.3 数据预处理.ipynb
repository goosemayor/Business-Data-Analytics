{
 "cells": [
  {
   "cell_type": "markdown",
   "id": "729f6ce8-a343-461b-bddd-ef286db1c338",
   "metadata": {},
   "source": [
    "# 6.3 数据预处理"
   ]
  },
  {
   "cell_type": "markdown",
   "id": "1d9a8c2b-db9c-4b7d-9b9b-594aeca1b1b9",
   "metadata": {},
   "source": [
    "数据预处理，也称数据清洗，它是在我们开始分析数据和建模前，对获得数据中可能存在的问题进行排查和解决的过程。它主要包括对于数据中存在的重复问题，缺失问题，以及异常值（outliers）等进行剔除、填补和修正等方法。"
   ]
  },
  {
   "cell_type": "markdown",
   "id": "f954e4f4-54a4-43cd-a7e6-2697e36ef408",
   "metadata": {},
   "source": [
    "## 1. 数据去重\n",
    "\n",
    "\n"
   ]
  },
  {
   "cell_type": "markdown",
   "id": "18d0b272-3b0a-415c-90bb-9dc47fd9c7ee",
   "metadata": {},
   "source": [
    "由于各种原因，数据集会藏有重复的行。比如【datasets】文件夹中数据集【sample_data01.csv】，双击观察。"
   ]
  },
  {
   "cell_type": "code",
   "execution_count": 1,
   "id": "2e8ae89b-4fb8-4a33-ab6b-ee77d2b502d3",
   "metadata": {},
   "outputs": [
    {
     "data": {
      "text/html": [
       "<div>\n",
       "<style scoped>\n",
       "    .dataframe tbody tr th:only-of-type {\n",
       "        vertical-align: middle;\n",
       "    }\n",
       "\n",
       "    .dataframe tbody tr th {\n",
       "        vertical-align: top;\n",
       "    }\n",
       "\n",
       "    .dataframe thead th {\n",
       "        text-align: right;\n",
       "    }\n",
       "</style>\n",
       "<table border=\"1\" class=\"dataframe\">\n",
       "  <thead>\n",
       "    <tr style=\"text-align: right;\">\n",
       "      <th></th>\n",
       "      <th>k1</th>\n",
       "      <th>k2</th>\n",
       "    </tr>\n",
       "  </thead>\n",
       "  <tbody>\n",
       "    <tr>\n",
       "      <th>0</th>\n",
       "      <td>one</td>\n",
       "      <td>1</td>\n",
       "    </tr>\n",
       "    <tr>\n",
       "      <th>1</th>\n",
       "      <td>two</td>\n",
       "      <td>1</td>\n",
       "    </tr>\n",
       "    <tr>\n",
       "      <th>2</th>\n",
       "      <td>one</td>\n",
       "      <td>2</td>\n",
       "    </tr>\n",
       "    <tr>\n",
       "      <th>3</th>\n",
       "      <td>two</td>\n",
       "      <td>3</td>\n",
       "    </tr>\n",
       "    <tr>\n",
       "      <th>4</th>\n",
       "      <td>one</td>\n",
       "      <td>3</td>\n",
       "    </tr>\n",
       "    <tr>\n",
       "      <th>5</th>\n",
       "      <td>two</td>\n",
       "      <td>4</td>\n",
       "    </tr>\n",
       "    <tr>\n",
       "      <th>6</th>\n",
       "      <td>two</td>\n",
       "      <td>4</td>\n",
       "    </tr>\n",
       "  </tbody>\n",
       "</table>\n",
       "</div>"
      ],
      "text/plain": [
       "    k1  k2\n",
       "0  one   1\n",
       "1  two   1\n",
       "2  one   2\n",
       "3  two   3\n",
       "4  one   3\n",
       "5  two   4\n",
       "6  two   4"
      ]
     },
     "execution_count": 1,
     "metadata": {},
     "output_type": "execute_result"
    }
   ],
   "source": [
    "import pandas as pd\n",
    "data = pd.read_csv(\"datasets/sample_data01.csv\")\n",
    "data"
   ]
  },
  {
   "cell_type": "markdown",
   "id": "b2d4b038-10bd-427f-aea7-2f3c0f2dd055",
   "metadata": {},
   "source": [
    "首先检查哪些行有重复值"
   ]
  },
  {
   "cell_type": "code",
   "execution_count": 2,
   "id": "ab8f740e-8902-4bd9-9e9e-1954d946f2c2",
   "metadata": {},
   "outputs": [
    {
     "data": {
      "text/plain": [
       "0    False\n",
       "1    False\n",
       "2    False\n",
       "3    False\n",
       "4    False\n",
       "5    False\n",
       "6     True\n",
       "dtype: bool"
      ]
     },
     "execution_count": 2,
     "metadata": {},
     "output_type": "execute_result"
    }
   ],
   "source": [
    "data.duplicated()"
   ]
  },
  {
   "cell_type": "markdown",
   "id": "dd57e62e-13d1-47bd-ad85-51d4061f6973",
   "metadata": {},
   "source": [
    "然后对数据集中重复的行，进行去重操作。"
   ]
  },
  {
   "cell_type": "code",
   "execution_count": 3,
   "id": "d751efbc-8e44-4318-91ca-dad149a4a42f",
   "metadata": {},
   "outputs": [
    {
     "data": {
      "text/html": [
       "<div>\n",
       "<style scoped>\n",
       "    .dataframe tbody tr th:only-of-type {\n",
       "        vertical-align: middle;\n",
       "    }\n",
       "\n",
       "    .dataframe tbody tr th {\n",
       "        vertical-align: top;\n",
       "    }\n",
       "\n",
       "    .dataframe thead th {\n",
       "        text-align: right;\n",
       "    }\n",
       "</style>\n",
       "<table border=\"1\" class=\"dataframe\">\n",
       "  <thead>\n",
       "    <tr style=\"text-align: right;\">\n",
       "      <th></th>\n",
       "      <th>k1</th>\n",
       "      <th>k2</th>\n",
       "    </tr>\n",
       "  </thead>\n",
       "  <tbody>\n",
       "    <tr>\n",
       "      <th>0</th>\n",
       "      <td>one</td>\n",
       "      <td>1</td>\n",
       "    </tr>\n",
       "    <tr>\n",
       "      <th>1</th>\n",
       "      <td>two</td>\n",
       "      <td>1</td>\n",
       "    </tr>\n",
       "    <tr>\n",
       "      <th>2</th>\n",
       "      <td>one</td>\n",
       "      <td>2</td>\n",
       "    </tr>\n",
       "    <tr>\n",
       "      <th>3</th>\n",
       "      <td>two</td>\n",
       "      <td>3</td>\n",
       "    </tr>\n",
       "    <tr>\n",
       "      <th>4</th>\n",
       "      <td>one</td>\n",
       "      <td>3</td>\n",
       "    </tr>\n",
       "    <tr>\n",
       "      <th>5</th>\n",
       "      <td>two</td>\n",
       "      <td>4</td>\n",
       "    </tr>\n",
       "  </tbody>\n",
       "</table>\n",
       "</div>"
      ],
      "text/plain": [
       "    k1  k2\n",
       "0  one   1\n",
       "1  two   1\n",
       "2  one   2\n",
       "3  two   3\n",
       "4  one   3\n",
       "5  two   4"
      ]
     },
     "execution_count": 3,
     "metadata": {},
     "output_type": "execute_result"
    }
   ],
   "source": [
    "data = data.drop_duplicates()   # data.drop_duplicates(inplace=True)\n",
    "data"
   ]
  },
  {
   "cell_type": "markdown",
   "id": "a98caa53-ad18-4aa4-9a51-70727bf04894",
   "metadata": {},
   "source": [
    "你也可以指定对只某一列进行去重操作。"
   ]
  },
  {
   "cell_type": "code",
   "execution_count": 4,
   "id": "3a374b16-935a-43c0-8b50-714735a013bc",
   "metadata": {},
   "outputs": [
    {
     "data": {
      "text/html": [
       "<div>\n",
       "<style scoped>\n",
       "    .dataframe tbody tr th:only-of-type {\n",
       "        vertical-align: middle;\n",
       "    }\n",
       "\n",
       "    .dataframe tbody tr th {\n",
       "        vertical-align: top;\n",
       "    }\n",
       "\n",
       "    .dataframe thead th {\n",
       "        text-align: right;\n",
       "    }\n",
       "</style>\n",
       "<table border=\"1\" class=\"dataframe\">\n",
       "  <thead>\n",
       "    <tr style=\"text-align: right;\">\n",
       "      <th></th>\n",
       "      <th>k1</th>\n",
       "      <th>k2</th>\n",
       "    </tr>\n",
       "  </thead>\n",
       "  <tbody>\n",
       "    <tr>\n",
       "      <th>0</th>\n",
       "      <td>one</td>\n",
       "      <td>1</td>\n",
       "    </tr>\n",
       "    <tr>\n",
       "      <th>1</th>\n",
       "      <td>two</td>\n",
       "      <td>1</td>\n",
       "    </tr>\n",
       "  </tbody>\n",
       "</table>\n",
       "</div>"
      ],
      "text/plain": [
       "    k1  k2\n",
       "0  one   1\n",
       "1  two   1"
      ]
     },
     "execution_count": 4,
     "metadata": {},
     "output_type": "execute_result"
    }
   ],
   "source": [
    "data.drop_duplicates([\"k1\"])"
   ]
  },
  {
   "cell_type": "markdown",
   "id": "969c973c-3226-4256-8737-cd984db040da",
   "metadata": {},
   "source": [
    "`pd.DataFrame.drop_duplicates`只对DataFrame或Series有效，不会改变数据原始排列，以下是其传入参数列表：\n",
    "```python\n",
    "pd.DataFrame.drop_duplicates(self, subset=None, keep='first', inplace=False)\n",
    "```\n",
    "![drop_duplicates](image/drop_duplicates.png)"
   ]
  },
  {
   "cell_type": "markdown",
   "id": "6cfcbf41-1875-44bf-bd35-6e7641c61371",
   "metadata": {},
   "source": [
    "## 2. 缺失值填补\n",
    "\n",
    "\n",
    "\n"
   ]
  },
  {
   "cell_type": "markdown",
   "id": "9339b4cb-9525-43e6-9910-36e78e385e69",
   "metadata": {},
   "source": [
    "数据中存在缺失值的原因来自很多方面，比如采集过程中遗漏的，或者是数据传输过程中丢失的等。我们使用pandas来处理缺失值，pandas使用浮点值NaN（Not a Number来表示缺失值）。"
   ]
  },
  {
   "cell_type": "code",
   "execution_count": 5,
   "id": "5dddc05d-fd0b-4b71-8a56-106391578854",
   "metadata": {},
   "outputs": [
    {
     "data": {
      "text/html": [
       "<div>\n",
       "<style scoped>\n",
       "    .dataframe tbody tr th:only-of-type {\n",
       "        vertical-align: middle;\n",
       "    }\n",
       "\n",
       "    .dataframe tbody tr th {\n",
       "        vertical-align: top;\n",
       "    }\n",
       "\n",
       "    .dataframe thead th {\n",
       "        text-align: right;\n",
       "    }\n",
       "</style>\n",
       "<table border=\"1\" class=\"dataframe\">\n",
       "  <thead>\n",
       "    <tr style=\"text-align: right;\">\n",
       "      <th></th>\n",
       "      <th>0</th>\n",
       "      <th>1</th>\n",
       "      <th>2</th>\n",
       "    </tr>\n",
       "  </thead>\n",
       "  <tbody>\n",
       "    <tr>\n",
       "      <th>0</th>\n",
       "      <td>0.603428</td>\n",
       "      <td>0.618716</td>\n",
       "      <td>1.666553</td>\n",
       "    </tr>\n",
       "    <tr>\n",
       "      <th>1</th>\n",
       "      <td>-0.025586</td>\n",
       "      <td>-1.390777</td>\n",
       "      <td>0.948549</td>\n",
       "    </tr>\n",
       "    <tr>\n",
       "      <th>2</th>\n",
       "      <td>0.223448</td>\n",
       "      <td>1.014128</td>\n",
       "      <td>NaN</td>\n",
       "    </tr>\n",
       "    <tr>\n",
       "      <th>3</th>\n",
       "      <td>-1.234958</td>\n",
       "      <td>-0.427789</td>\n",
       "      <td>NaN</td>\n",
       "    </tr>\n",
       "    <tr>\n",
       "      <th>4</th>\n",
       "      <td>-0.421035</td>\n",
       "      <td>NaN</td>\n",
       "      <td>NaN</td>\n",
       "    </tr>\n",
       "    <tr>\n",
       "      <th>5</th>\n",
       "      <td>0.809019</td>\n",
       "      <td>NaN</td>\n",
       "      <td>NaN</td>\n",
       "    </tr>\n",
       "    <tr>\n",
       "      <th>6</th>\n",
       "      <td>-0.220916</td>\n",
       "      <td>NaN</td>\n",
       "      <td>NaN</td>\n",
       "    </tr>\n",
       "  </tbody>\n",
       "</table>\n",
       "</div>"
      ],
      "text/plain": [
       "          0         1         2\n",
       "0  0.603428  0.618716  1.666553\n",
       "1 -0.025586 -1.390777  0.948549\n",
       "2  0.223448  1.014128       NaN\n",
       "3 -1.234958 -0.427789       NaN\n",
       "4 -0.421035       NaN       NaN\n",
       "5  0.809019       NaN       NaN\n",
       "6 -0.220916       NaN       NaN"
      ]
     },
     "execution_count": 5,
     "metadata": {},
     "output_type": "execute_result"
    }
   ],
   "source": [
    "import pandas as pd\n",
    "data = pd.read_csv('datasets/sample_data02.csv')\n",
    "data"
   ]
  },
  {
   "cell_type": "markdown",
   "id": "c98e1b67-e81b-46f9-8230-c229caf55559",
   "metadata": {},
   "source": [
    "pandas提供了识别缺失值的方法isnull，以及识别非缺失值的方法notnull，这两种方法使用后返回布尔值True和False。"
   ]
  },
  {
   "cell_type": "code",
   "execution_count": 6,
   "id": "1593c814-9b63-4bd0-8aa1-bc4fa49bc9a8",
   "metadata": {},
   "outputs": [
    {
     "data": {
      "text/html": [
       "<div>\n",
       "<style scoped>\n",
       "    .dataframe tbody tr th:only-of-type {\n",
       "        vertical-align: middle;\n",
       "    }\n",
       "\n",
       "    .dataframe tbody tr th {\n",
       "        vertical-align: top;\n",
       "    }\n",
       "\n",
       "    .dataframe thead th {\n",
       "        text-align: right;\n",
       "    }\n",
       "</style>\n",
       "<table border=\"1\" class=\"dataframe\">\n",
       "  <thead>\n",
       "    <tr style=\"text-align: right;\">\n",
       "      <th></th>\n",
       "      <th>0</th>\n",
       "      <th>1</th>\n",
       "      <th>2</th>\n",
       "    </tr>\n",
       "  </thead>\n",
       "  <tbody>\n",
       "    <tr>\n",
       "      <th>0</th>\n",
       "      <td>False</td>\n",
       "      <td>False</td>\n",
       "      <td>False</td>\n",
       "    </tr>\n",
       "    <tr>\n",
       "      <th>1</th>\n",
       "      <td>False</td>\n",
       "      <td>False</td>\n",
       "      <td>False</td>\n",
       "    </tr>\n",
       "    <tr>\n",
       "      <th>2</th>\n",
       "      <td>False</td>\n",
       "      <td>False</td>\n",
       "      <td>True</td>\n",
       "    </tr>\n",
       "    <tr>\n",
       "      <th>3</th>\n",
       "      <td>False</td>\n",
       "      <td>False</td>\n",
       "      <td>True</td>\n",
       "    </tr>\n",
       "    <tr>\n",
       "      <th>4</th>\n",
       "      <td>False</td>\n",
       "      <td>True</td>\n",
       "      <td>True</td>\n",
       "    </tr>\n",
       "    <tr>\n",
       "      <th>5</th>\n",
       "      <td>False</td>\n",
       "      <td>True</td>\n",
       "      <td>True</td>\n",
       "    </tr>\n",
       "    <tr>\n",
       "      <th>6</th>\n",
       "      <td>False</td>\n",
       "      <td>True</td>\n",
       "      <td>True</td>\n",
       "    </tr>\n",
       "  </tbody>\n",
       "</table>\n",
       "</div>"
      ],
      "text/plain": [
       "       0      1      2\n",
       "0  False  False  False\n",
       "1  False  False  False\n",
       "2  False  False   True\n",
       "3  False  False   True\n",
       "4  False   True   True\n",
       "5  False   True   True\n",
       "6  False   True   True"
      ]
     },
     "execution_count": 6,
     "metadata": {},
     "output_type": "execute_result"
    }
   ],
   "source": [
    "data.isnull()"
   ]
  },
  {
   "cell_type": "markdown",
   "id": "68b4d4eb-57a9-4af1-b7b1-cc46a477aca1",
   "metadata": {},
   "source": [
    "能看到`is.null`的方法可以显示对应缺失值位置为True，意思是这个位置为缺失。\n",
    "\n",
    "这里我们在尾部加上`any()`就可以按照列的方向，观察是否有缺失值。"
   ]
  },
  {
   "cell_type": "code",
   "execution_count": 7,
   "id": "c8f46f77-219d-4589-a574-39da459017d2",
   "metadata": {},
   "outputs": [
    {
     "data": {
      "text/plain": [
       "0    False\n",
       "1     True\n",
       "2     True\n",
       "dtype: bool"
      ]
     },
     "execution_count": 7,
     "metadata": {},
     "output_type": "execute_result"
    }
   ],
   "source": [
    "data.isnull().any()"
   ]
  },
  {
   "cell_type": "markdown",
   "id": "48b9342a-cc47-4abf-b22c-996ee409fa4a",
   "metadata": {},
   "source": [
    "结合sum函数和isnull、notnull函数，可以检测数据中缺失值的分布，以及数据中一共含有多少缺失值。"
   ]
  },
  {
   "cell_type": "markdown",
   "id": "212ab2f6-e140-47cc-b204-14025f602704",
   "metadata": {},
   "source": [
    "### 2.1 删除缺失值"
   ]
  },
  {
   "cell_type": "markdown",
   "id": "abf88973-f2f2-4b44-898d-99236b385687",
   "metadata": {},
   "source": [
    "删除缺失值使用pd.DataFrame.dropna方法：\n",
    "```python\n",
    "pd.DataFrame.dropna(\n",
    "    axis: 'Axis' = 0,\n",
    "    how: 'str' = 'any',\n",
    "    thresh=None,\n",
    "    subset=None,\n",
    "    inplace: 'bool' = False,\n",
    ")\n",
    "```"
   ]
  },
  {
   "cell_type": "markdown",
   "id": "1705bab6-d673-4148-8e8b-433b14a37269",
   "metadata": {},
   "source": [
    "#### dropna(axis=0) 删除有缺失值的行"
   ]
  },
  {
   "cell_type": "code",
   "execution_count": 8,
   "id": "547e5a68-537e-470b-9b4d-673677c8b1c7",
   "metadata": {},
   "outputs": [
    {
     "name": "stdout",
     "output_type": "stream",
     "text": [
      "采用dropna前, 数据框大小（行，列）= (7, 3)\n",
      "采用dropna后, 数据框大小（行，列）= (2, 3)\n"
     ]
    }
   ],
   "source": [
    "print('采用dropna前, 数据框大小（行，列）=', data.shape)\n",
    "droped_data = data.dropna()\n",
    "print('采用dropna后, 数据框大小（行，列）=', droped_data.shape)"
   ]
  },
  {
   "cell_type": "markdown",
   "id": "5a205e83-db3c-403f-aa68-87f01e931f78",
   "metadata": {},
   "source": [
    "appiness_data.dropna部分存在缺失的行，也就是样本被删除掉了。"
   ]
  },
  {
   "cell_type": "markdown",
   "id": "cddd208f-3495-4d53-8c2e-f4f94d727116",
   "metadata": {},
   "source": [
    "#### dropna(axis=1) 删除有缺失值的列"
   ]
  },
  {
   "cell_type": "code",
   "execution_count": 9,
   "id": "f1608698-15cf-4135-ad10-9574fe205d3c",
   "metadata": {},
   "outputs": [
    {
     "name": "stdout",
     "output_type": "stream",
     "text": [
      "采用dropna前, 数据框大小（行，列）= (7, 3)\n",
      "采用dropna后, 数据框大小（行，列）= (7, 1)\n"
     ]
    }
   ],
   "source": [
    "print('采用dropna前, 数据框大小（行，列）=', data.shape)\n",
    "droped_data = data.dropna(axis=1)\n",
    "print('采用dropna后, 数据框大小（行，列）=', droped_data.shape)"
   ]
  },
  {
   "cell_type": "markdown",
   "id": "f2ce6b1b-3e0f-4e38-87f5-83acb2cbc7fa",
   "metadata": {},
   "source": [
    "### 2.2 填充缺失值"
   ]
  },
  {
   "cell_type": "markdown",
   "id": "662aa646-bbdb-4c2d-b8bc-d79cebb4e989",
   "metadata": {},
   "source": [
    "#### A. 使用一个常数来替代缺失值"
   ]
  },
  {
   "cell_type": "markdown",
   "id": "b13542e2-8dcb-42a8-8398-6357d52f7f1a",
   "metadata": {},
   "source": [
    "在现实的案例分析中，数据往往是很宝贵的，仅仅因为某一个行或列存在一个缺失值，就删除整行或整列，并不可取。这时，我们需要考虑使用`fillna`方法来补全缺失值。"
   ]
  },
  {
   "cell_type": "code",
   "execution_count": 10,
   "id": "31a5468d-a35c-4dd5-948f-e27816e85f33",
   "metadata": {},
   "outputs": [
    {
     "data": {
      "text/html": [
       "<div>\n",
       "<style scoped>\n",
       "    .dataframe tbody tr th:only-of-type {\n",
       "        vertical-align: middle;\n",
       "    }\n",
       "\n",
       "    .dataframe tbody tr th {\n",
       "        vertical-align: top;\n",
       "    }\n",
       "\n",
       "    .dataframe thead th {\n",
       "        text-align: right;\n",
       "    }\n",
       "</style>\n",
       "<table border=\"1\" class=\"dataframe\">\n",
       "  <thead>\n",
       "    <tr style=\"text-align: right;\">\n",
       "      <th></th>\n",
       "      <th>0</th>\n",
       "      <th>1</th>\n",
       "      <th>2</th>\n",
       "    </tr>\n",
       "  </thead>\n",
       "  <tbody>\n",
       "    <tr>\n",
       "      <th>0</th>\n",
       "      <td>0.603428</td>\n",
       "      <td>0.618716</td>\n",
       "      <td>1.666553</td>\n",
       "    </tr>\n",
       "    <tr>\n",
       "      <th>1</th>\n",
       "      <td>-0.025586</td>\n",
       "      <td>-1.390777</td>\n",
       "      <td>0.948549</td>\n",
       "    </tr>\n",
       "    <tr>\n",
       "      <th>2</th>\n",
       "      <td>0.223448</td>\n",
       "      <td>1.014128</td>\n",
       "      <td>0.000000</td>\n",
       "    </tr>\n",
       "    <tr>\n",
       "      <th>3</th>\n",
       "      <td>-1.234958</td>\n",
       "      <td>-0.427789</td>\n",
       "      <td>0.000000</td>\n",
       "    </tr>\n",
       "    <tr>\n",
       "      <th>4</th>\n",
       "      <td>-0.421035</td>\n",
       "      <td>0.000000</td>\n",
       "      <td>0.000000</td>\n",
       "    </tr>\n",
       "    <tr>\n",
       "      <th>5</th>\n",
       "      <td>0.809019</td>\n",
       "      <td>0.000000</td>\n",
       "      <td>0.000000</td>\n",
       "    </tr>\n",
       "    <tr>\n",
       "      <th>6</th>\n",
       "      <td>-0.220916</td>\n",
       "      <td>0.000000</td>\n",
       "      <td>0.000000</td>\n",
       "    </tr>\n",
       "  </tbody>\n",
       "</table>\n",
       "</div>"
      ],
      "text/plain": [
       "          0         1         2\n",
       "0  0.603428  0.618716  1.666553\n",
       "1 -0.025586 -1.390777  0.948549\n",
       "2  0.223448  1.014128  0.000000\n",
       "3 -1.234958 -0.427789  0.000000\n",
       "4 -0.421035  0.000000  0.000000\n",
       "5  0.809019  0.000000  0.000000\n",
       "6 -0.220916  0.000000  0.000000"
      ]
     },
     "execution_count": 10,
     "metadata": {},
     "output_type": "execute_result"
    }
   ],
   "source": [
    "data.fillna(0)"
   ]
  },
  {
   "cell_type": "markdown",
   "id": "82ed578e-96c6-40fb-811f-12955ab34b93",
   "metadata": {},
   "source": [
    "#### B. 为不同列设定不同的填充值\n",
    "\n",
    "在调用fillna时使用字典，你可以为不同列设定不同的填充值："
   ]
  },
  {
   "cell_type": "code",
   "execution_count": 11,
   "id": "06ce56e0-9083-4255-8ee1-81b81d4dac09",
   "metadata": {},
   "outputs": [
    {
     "data": {
      "text/html": [
       "<div>\n",
       "<style scoped>\n",
       "    .dataframe tbody tr th:only-of-type {\n",
       "        vertical-align: middle;\n",
       "    }\n",
       "\n",
       "    .dataframe tbody tr th {\n",
       "        vertical-align: top;\n",
       "    }\n",
       "\n",
       "    .dataframe thead th {\n",
       "        text-align: right;\n",
       "    }\n",
       "</style>\n",
       "<table border=\"1\" class=\"dataframe\">\n",
       "  <thead>\n",
       "    <tr style=\"text-align: right;\">\n",
       "      <th></th>\n",
       "      <th>0</th>\n",
       "      <th>1</th>\n",
       "      <th>2</th>\n",
       "    </tr>\n",
       "  </thead>\n",
       "  <tbody>\n",
       "    <tr>\n",
       "      <th>0</th>\n",
       "      <td>0.603428</td>\n",
       "      <td>0.618716</td>\n",
       "      <td>1.666553</td>\n",
       "    </tr>\n",
       "    <tr>\n",
       "      <th>1</th>\n",
       "      <td>-0.025586</td>\n",
       "      <td>-1.390777</td>\n",
       "      <td>0.948549</td>\n",
       "    </tr>\n",
       "    <tr>\n",
       "      <th>2</th>\n",
       "      <td>0.223448</td>\n",
       "      <td>1.014128</td>\n",
       "      <td>0.000000</td>\n",
       "    </tr>\n",
       "    <tr>\n",
       "      <th>3</th>\n",
       "      <td>-1.234958</td>\n",
       "      <td>-0.427789</td>\n",
       "      <td>0.000000</td>\n",
       "    </tr>\n",
       "    <tr>\n",
       "      <th>4</th>\n",
       "      <td>-0.421035</td>\n",
       "      <td>0.500000</td>\n",
       "      <td>0.000000</td>\n",
       "    </tr>\n",
       "    <tr>\n",
       "      <th>5</th>\n",
       "      <td>0.809019</td>\n",
       "      <td>0.500000</td>\n",
       "      <td>0.000000</td>\n",
       "    </tr>\n",
       "    <tr>\n",
       "      <th>6</th>\n",
       "      <td>-0.220916</td>\n",
       "      <td>0.500000</td>\n",
       "      <td>0.000000</td>\n",
       "    </tr>\n",
       "  </tbody>\n",
       "</table>\n",
       "</div>"
      ],
      "text/plain": [
       "          0         1         2\n",
       "0  0.603428  0.618716  1.666553\n",
       "1 -0.025586 -1.390777  0.948549\n",
       "2  0.223448  1.014128  0.000000\n",
       "3 -1.234958 -0.427789  0.000000\n",
       "4 -0.421035  0.500000  0.000000\n",
       "5  0.809019  0.500000  0.000000\n",
       "6 -0.220916  0.500000  0.000000"
      ]
     },
     "execution_count": 11,
     "metadata": {},
     "output_type": "execute_result"
    }
   ],
   "source": [
    "data.fillna({\"1\":0.5, \"2\":0})"
   ]
  },
  {
   "cell_type": "markdown",
   "id": "ccd20cf7-9d8d-4cea-bdc1-2308301b91f4",
   "metadata": {},
   "source": [
    "#### C. ffill填充"
   ]
  },
  {
   "cell_type": "markdown",
   "id": "c0770a20-3f9e-4aa3-8c9a-ae53ab5e7ad2",
   "metadata": {},
   "source": [
    "对于很多时间序列数据，也就是样本按照日期进行排序的数据集。出现缺失值的时候，很自然的想到用往期的值，比如前一日，或者上一年的数据，对于下一日或下一年的缺失位置，进行填充。"
   ]
  },
  {
   "cell_type": "code",
   "execution_count": 12,
   "id": "61adf005-b51a-4e3d-8ece-80f3ea32883d",
   "metadata": {},
   "outputs": [
    {
     "data": {
      "text/html": [
       "<div>\n",
       "<style scoped>\n",
       "    .dataframe tbody tr th:only-of-type {\n",
       "        vertical-align: middle;\n",
       "    }\n",
       "\n",
       "    .dataframe tbody tr th {\n",
       "        vertical-align: top;\n",
       "    }\n",
       "\n",
       "    .dataframe thead th {\n",
       "        text-align: right;\n",
       "    }\n",
       "</style>\n",
       "<table border=\"1\" class=\"dataframe\">\n",
       "  <thead>\n",
       "    <tr style=\"text-align: right;\">\n",
       "      <th></th>\n",
       "      <th>0</th>\n",
       "      <th>1</th>\n",
       "      <th>2</th>\n",
       "    </tr>\n",
       "  </thead>\n",
       "  <tbody>\n",
       "    <tr>\n",
       "      <th>0</th>\n",
       "      <td>0.603428</td>\n",
       "      <td>0.618716</td>\n",
       "      <td>1.666553</td>\n",
       "    </tr>\n",
       "    <tr>\n",
       "      <th>1</th>\n",
       "      <td>-0.025586</td>\n",
       "      <td>-1.390777</td>\n",
       "      <td>0.948549</td>\n",
       "    </tr>\n",
       "    <tr>\n",
       "      <th>2</th>\n",
       "      <td>0.223448</td>\n",
       "      <td>1.014128</td>\n",
       "      <td>0.948549</td>\n",
       "    </tr>\n",
       "    <tr>\n",
       "      <th>3</th>\n",
       "      <td>-1.234958</td>\n",
       "      <td>-0.427789</td>\n",
       "      <td>0.948549</td>\n",
       "    </tr>\n",
       "    <tr>\n",
       "      <th>4</th>\n",
       "      <td>-0.421035</td>\n",
       "      <td>-0.427789</td>\n",
       "      <td>0.948549</td>\n",
       "    </tr>\n",
       "    <tr>\n",
       "      <th>5</th>\n",
       "      <td>0.809019</td>\n",
       "      <td>-0.427789</td>\n",
       "      <td>0.948549</td>\n",
       "    </tr>\n",
       "    <tr>\n",
       "      <th>6</th>\n",
       "      <td>-0.220916</td>\n",
       "      <td>-0.427789</td>\n",
       "      <td>0.948549</td>\n",
       "    </tr>\n",
       "  </tbody>\n",
       "</table>\n",
       "</div>"
      ],
      "text/plain": [
       "          0         1         2\n",
       "0  0.603428  0.618716  1.666553\n",
       "1 -0.025586 -1.390777  0.948549\n",
       "2  0.223448  1.014128  0.948549\n",
       "3 -1.234958 -0.427789  0.948549\n",
       "4 -0.421035 -0.427789  0.948549\n",
       "5  0.809019 -0.427789  0.948549\n",
       "6 -0.220916 -0.427789  0.948549"
      ]
     },
     "execution_count": 12,
     "metadata": {},
     "output_type": "execute_result"
    }
   ],
   "source": [
    "data.fillna(method='ffill') # forward-fill ,  back-fill 'bfill'"
   ]
  },
  {
   "cell_type": "markdown",
   "id": "79e259e8-1ac9-4303-8a88-e0be8394e0ef",
   "metadata": {},
   "source": [
    "#### D. 平均值填充"
   ]
  },
  {
   "cell_type": "markdown",
   "id": "4f13e45f-30be-4284-8943-2a8d680a2a42",
   "metadata": {},
   "source": [
    "现实中，对于采集的数据来说，每一列都符合某种统计分布，也就是说，都有其内在的统计属性，包括平均值。如果能用平均值来填充缺失的位置，会更符合统计学的意义。"
   ]
  },
  {
   "cell_type": "code",
   "execution_count": 13,
   "id": "ad71027d-37b7-44a7-8a38-b64ea3b0a347",
   "metadata": {},
   "outputs": [
    {
     "data": {
      "text/plain": [
       "0   -0.038086\n",
       "1   -0.046431\n",
       "2    1.307551\n",
       "dtype: float64"
      ]
     },
     "execution_count": 13,
     "metadata": {},
     "output_type": "execute_result"
    }
   ],
   "source": [
    "data.mean() #.median()  np.quantile(0.5)"
   ]
  },
  {
   "cell_type": "markdown",
   "id": "a92c14f8-e4d4-4ba0-a517-d7a8f0934846",
   "metadata": {},
   "source": [
    "`mean`计算出来的数据集均值，是按照每一列给出的。"
   ]
  },
  {
   "cell_type": "code",
   "execution_count": 14,
   "id": "32f393d1-f078-479f-b828-7f4411f1ddb3",
   "metadata": {},
   "outputs": [
    {
     "data": {
      "text/html": [
       "<div>\n",
       "<style scoped>\n",
       "    .dataframe tbody tr th:only-of-type {\n",
       "        vertical-align: middle;\n",
       "    }\n",
       "\n",
       "    .dataframe tbody tr th {\n",
       "        vertical-align: top;\n",
       "    }\n",
       "\n",
       "    .dataframe thead th {\n",
       "        text-align: right;\n",
       "    }\n",
       "</style>\n",
       "<table border=\"1\" class=\"dataframe\">\n",
       "  <thead>\n",
       "    <tr style=\"text-align: right;\">\n",
       "      <th></th>\n",
       "      <th>0</th>\n",
       "      <th>1</th>\n",
       "      <th>2</th>\n",
       "    </tr>\n",
       "  </thead>\n",
       "  <tbody>\n",
       "    <tr>\n",
       "      <th>0</th>\n",
       "      <td>0.603428</td>\n",
       "      <td>0.618716</td>\n",
       "      <td>1.666553</td>\n",
       "    </tr>\n",
       "    <tr>\n",
       "      <th>1</th>\n",
       "      <td>-0.025586</td>\n",
       "      <td>-1.390777</td>\n",
       "      <td>0.948549</td>\n",
       "    </tr>\n",
       "    <tr>\n",
       "      <th>2</th>\n",
       "      <td>0.223448</td>\n",
       "      <td>1.014128</td>\n",
       "      <td>1.307551</td>\n",
       "    </tr>\n",
       "    <tr>\n",
       "      <th>3</th>\n",
       "      <td>-1.234958</td>\n",
       "      <td>-0.427789</td>\n",
       "      <td>1.307551</td>\n",
       "    </tr>\n",
       "    <tr>\n",
       "      <th>4</th>\n",
       "      <td>-0.421035</td>\n",
       "      <td>-0.046431</td>\n",
       "      <td>1.307551</td>\n",
       "    </tr>\n",
       "    <tr>\n",
       "      <th>5</th>\n",
       "      <td>0.809019</td>\n",
       "      <td>-0.046431</td>\n",
       "      <td>1.307551</td>\n",
       "    </tr>\n",
       "    <tr>\n",
       "      <th>6</th>\n",
       "      <td>-0.220916</td>\n",
       "      <td>-0.046431</td>\n",
       "      <td>1.307551</td>\n",
       "    </tr>\n",
       "  </tbody>\n",
       "</table>\n",
       "</div>"
      ],
      "text/plain": [
       "          0         1         2\n",
       "0  0.603428  0.618716  1.666553\n",
       "1 -0.025586 -1.390777  0.948549\n",
       "2  0.223448  1.014128  1.307551\n",
       "3 -1.234958 -0.427789  1.307551\n",
       "4 -0.421035 -0.046431  1.307551\n",
       "5  0.809019 -0.046431  1.307551\n",
       "6 -0.220916 -0.046431  1.307551"
      ]
     },
     "execution_count": 14,
     "metadata": {},
     "output_type": "execute_result"
    }
   ],
   "source": [
    "data.fillna(data.mean())"
   ]
  },
  {
   "cell_type": "markdown",
   "id": "0a3810f1-1787-49dd-9e74-5c2f16e6d9b9",
   "metadata": {},
   "source": [
    "仔细观察我们之前缺失的位置，中间和右边两列，就会发现，被填充成了0.302509和0.417197这两个平均值。"
   ]
  },
  {
   "cell_type": "markdown",
   "id": "433e82a1-5f22-49fc-aaee-97b7328aca2a",
   "metadata": {},
   "source": [
    "## 3. 异常值修正\n",
    "\n",
    "\n"
   ]
  },
  {
   "cell_type": "markdown",
   "id": "3fc80e8d-e2a9-44e9-89cb-a6ca000f8b83",
   "metadata": {},
   "source": [
    "异常值，英文叫Outliers，也可以称之为离群值或奇异值，意思是存在和数据集其他数据明显不同的点。"
   ]
  },
  {
   "cell_type": "code",
   "execution_count": 15,
   "id": "f0696673-e189-42ae-ade3-9b064bf3afcb",
   "metadata": {},
   "outputs": [
    {
     "data": {
      "text/html": [
       "<div>\n",
       "<style scoped>\n",
       "    .dataframe tbody tr th:only-of-type {\n",
       "        vertical-align: middle;\n",
       "    }\n",
       "\n",
       "    .dataframe tbody tr th {\n",
       "        vertical-align: top;\n",
       "    }\n",
       "\n",
       "    .dataframe thead th {\n",
       "        text-align: right;\n",
       "    }\n",
       "</style>\n",
       "<table border=\"1\" class=\"dataframe\">\n",
       "  <thead>\n",
       "    <tr style=\"text-align: right;\">\n",
       "      <th></th>\n",
       "      <th>0</th>\n",
       "      <th>1</th>\n",
       "      <th>2</th>\n",
       "      <th>3</th>\n",
       "    </tr>\n",
       "  </thead>\n",
       "  <tbody>\n",
       "    <tr>\n",
       "      <th>0</th>\n",
       "      <td>-0.018531</td>\n",
       "      <td>0.015016</td>\n",
       "      <td>-0.078879</td>\n",
       "      <td>0.438331</td>\n",
       "    </tr>\n",
       "    <tr>\n",
       "      <th>1</th>\n",
       "      <td>3.028278</td>\n",
       "      <td>0.221342</td>\n",
       "      <td>1.457485</td>\n",
       "      <td>-0.382610</td>\n",
       "    </tr>\n",
       "    <tr>\n",
       "      <th>2</th>\n",
       "      <td>0.046139</td>\n",
       "      <td>0.801093</td>\n",
       "      <td>-0.558427</td>\n",
       "      <td>-0.219651</td>\n",
       "    </tr>\n",
       "    <tr>\n",
       "      <th>3</th>\n",
       "      <td>-0.158183</td>\n",
       "      <td>-1.161704</td>\n",
       "      <td>0.608872</td>\n",
       "      <td>0.525678</td>\n",
       "    </tr>\n",
       "    <tr>\n",
       "      <th>4</th>\n",
       "      <td>0.345622</td>\n",
       "      <td>-0.162977</td>\n",
       "      <td>1.900662</td>\n",
       "      <td>1.311755</td>\n",
       "    </tr>\n",
       "    <tr>\n",
       "      <th>...</th>\n",
       "      <td>...</td>\n",
       "      <td>...</td>\n",
       "      <td>...</td>\n",
       "      <td>...</td>\n",
       "    </tr>\n",
       "    <tr>\n",
       "      <th>995</th>\n",
       "      <td>-1.418074</td>\n",
       "      <td>3.126785</td>\n",
       "      <td>0.303615</td>\n",
       "      <td>-1.363894</td>\n",
       "    </tr>\n",
       "    <tr>\n",
       "      <th>996</th>\n",
       "      <td>0.132039</td>\n",
       "      <td>-0.739629</td>\n",
       "      <td>1.473865</td>\n",
       "      <td>-0.003347</td>\n",
       "    </tr>\n",
       "    <tr>\n",
       "      <th>997</th>\n",
       "      <td>1.439217</td>\n",
       "      <td>-0.488119</td>\n",
       "      <td>-1.911639</td>\n",
       "      <td>1.253696</td>\n",
       "    </tr>\n",
       "    <tr>\n",
       "      <th>998</th>\n",
       "      <td>0.406892</td>\n",
       "      <td>-0.255069</td>\n",
       "      <td>0.898582</td>\n",
       "      <td>-1.083567</td>\n",
       "    </tr>\n",
       "    <tr>\n",
       "      <th>999</th>\n",
       "      <td>-1.047890</td>\n",
       "      <td>1.250261</td>\n",
       "      <td>-0.198509</td>\n",
       "      <td>-0.250384</td>\n",
       "    </tr>\n",
       "  </tbody>\n",
       "</table>\n",
       "<p>1000 rows × 4 columns</p>\n",
       "</div>"
      ],
      "text/plain": [
       "            0         1         2         3\n",
       "0   -0.018531  0.015016 -0.078879  0.438331\n",
       "1    3.028278  0.221342  1.457485 -0.382610\n",
       "2    0.046139  0.801093 -0.558427 -0.219651\n",
       "3   -0.158183 -1.161704  0.608872  0.525678\n",
       "4    0.345622 -0.162977  1.900662  1.311755\n",
       "..        ...       ...       ...       ...\n",
       "995 -1.418074  3.126785  0.303615 -1.363894\n",
       "996  0.132039 -0.739629  1.473865 -0.003347\n",
       "997  1.439217 -0.488119 -1.911639  1.253696\n",
       "998  0.406892 -0.255069  0.898582 -1.083567\n",
       "999 -1.047890  1.250261 -0.198509 -0.250384\n",
       "\n",
       "[1000 rows x 4 columns]"
      ]
     },
     "execution_count": 15,
     "metadata": {},
     "output_type": "execute_result"
    }
   ],
   "source": [
    "data = pd.read_csv(\"datasets/sample_data03.csv\")\n",
    "data"
   ]
  },
  {
   "cell_type": "markdown",
   "id": "94d48756-57fd-407a-b6fa-56f653a82ada",
   "metadata": {},
   "source": [
    "### 3.1 设置一个阈值，不能超过阈值"
   ]
  },
  {
   "cell_type": "markdown",
   "id": "b21083bc-6358-4b2a-898e-6f6bb90bb20b",
   "metadata": {},
   "source": [
    "假设我们想找出列名为“2”，这一列大于2.5的值"
   ]
  },
  {
   "cell_type": "code",
   "execution_count": 16,
   "id": "b9418c5d-5507-4464-a262-69c6b7239e77",
   "metadata": {},
   "outputs": [
    {
     "data": {
      "text/plain": [
       "502    2.584954\n",
       "544    2.530649\n",
       "553    2.563760\n",
       "558    2.616420\n",
       "672    2.532030\n",
       "796    2.550268\n",
       "967    2.788374\n",
       "Name: 2, dtype: float64"
      ]
     },
     "execution_count": 16,
     "metadata": {},
     "output_type": "execute_result"
    }
   ],
   "source": [
    "col = data[\"2\"]\n",
    "col[col>2.5]"
   ]
  },
  {
   "cell_type": "code",
   "execution_count": 17,
   "id": "a85ad5c1-7ec1-41d8-a1f9-7d0024dcff94",
   "metadata": {},
   "outputs": [],
   "source": [
    "col[col>2.5] = 2.5"
   ]
  },
  {
   "cell_type": "markdown",
   "id": "8b214361-d2f4-4045-afc4-533be2090c5f",
   "metadata": {},
   "source": [
    "将所有超过2.5的值，都赋值成2.5"
   ]
  },
  {
   "cell_type": "code",
   "execution_count": 18,
   "id": "db0d3bed-5ceb-4c02-9d62-a75fc88d10cf",
   "metadata": {},
   "outputs": [
    {
     "data": {
      "text/plain": [
       "count    1000.000000\n",
       "mean       -0.008935\n",
       "std         1.009186\n",
       "min        -3.387148\n",
       "25%        -0.647464\n",
       "50%        -0.017110\n",
       "75%         0.677215\n",
       "max         2.500000\n",
       "Name: 2, dtype: float64"
      ]
     },
     "execution_count": 18,
     "metadata": {},
     "output_type": "execute_result"
    }
   ],
   "source": [
    "col.describe()"
   ]
  },
  {
   "cell_type": "markdown",
   "id": "067230cd-cbad-4808-9591-2a6bcaefbfa2",
   "metadata": {},
   "source": [
    "我们能看到col的最大值是2.5，超过2.5值的原始值都被重新赋值成了2.5。"
   ]
  },
  {
   "cell_type": "markdown",
   "id": "0a129752-d256-47d9-938b-5a60f6ffb521",
   "metadata": {},
   "source": [
    "### 3.2 置信区间以外的异常值"
   ]
  },
  {
   "cell_type": "markdown",
   "id": "ed33c904-af01-47af-b0d8-0c7b8c26f649",
   "metadata": {},
   "source": [
    "有的时候，我们可以使用统计学里置信区间的概念。\n",
    "\n",
    "![outliers](image/outliers.png)\n",
    "\n",
    "3倍标准差被称为拉依达法则。该法则先假设一组检测数据只含有随机误差，对原始数据得到标准差，认为超过3倍标准差即为异常值。这里以超过均值加三倍标准差，被替换成均值为例。"
   ]
  },
  {
   "cell_type": "code",
   "execution_count": 19,
   "id": "c6cc8df5-9667-4689-9d37-beb3370ba671",
   "metadata": {},
   "outputs": [
    {
     "data": {
      "text/html": [
       "<div>\n",
       "<style scoped>\n",
       "    .dataframe tbody tr th:only-of-type {\n",
       "        vertical-align: middle;\n",
       "    }\n",
       "\n",
       "    .dataframe tbody tr th {\n",
       "        vertical-align: top;\n",
       "    }\n",
       "\n",
       "    .dataframe thead th {\n",
       "        text-align: right;\n",
       "    }\n",
       "</style>\n",
       "<table border=\"1\" class=\"dataframe\">\n",
       "  <thead>\n",
       "    <tr style=\"text-align: right;\">\n",
       "      <th></th>\n",
       "      <th>0</th>\n",
       "      <th>1</th>\n",
       "      <th>2</th>\n",
       "      <th>3</th>\n",
       "    </tr>\n",
       "  </thead>\n",
       "  <tbody>\n",
       "    <tr>\n",
       "      <th>0</th>\n",
       "      <td>False</td>\n",
       "      <td>False</td>\n",
       "      <td>False</td>\n",
       "      <td>False</td>\n",
       "    </tr>\n",
       "    <tr>\n",
       "      <th>1</th>\n",
       "      <td>False</td>\n",
       "      <td>False</td>\n",
       "      <td>False</td>\n",
       "      <td>False</td>\n",
       "    </tr>\n",
       "    <tr>\n",
       "      <th>2</th>\n",
       "      <td>False</td>\n",
       "      <td>False</td>\n",
       "      <td>False</td>\n",
       "      <td>False</td>\n",
       "    </tr>\n",
       "    <tr>\n",
       "      <th>3</th>\n",
       "      <td>False</td>\n",
       "      <td>False</td>\n",
       "      <td>False</td>\n",
       "      <td>False</td>\n",
       "    </tr>\n",
       "    <tr>\n",
       "      <th>4</th>\n",
       "      <td>False</td>\n",
       "      <td>False</td>\n",
       "      <td>False</td>\n",
       "      <td>False</td>\n",
       "    </tr>\n",
       "    <tr>\n",
       "      <th>...</th>\n",
       "      <td>...</td>\n",
       "      <td>...</td>\n",
       "      <td>...</td>\n",
       "      <td>...</td>\n",
       "    </tr>\n",
       "    <tr>\n",
       "      <th>995</th>\n",
       "      <td>False</td>\n",
       "      <td>True</td>\n",
       "      <td>False</td>\n",
       "      <td>False</td>\n",
       "    </tr>\n",
       "    <tr>\n",
       "      <th>996</th>\n",
       "      <td>False</td>\n",
       "      <td>False</td>\n",
       "      <td>False</td>\n",
       "      <td>False</td>\n",
       "    </tr>\n",
       "    <tr>\n",
       "      <th>997</th>\n",
       "      <td>False</td>\n",
       "      <td>False</td>\n",
       "      <td>False</td>\n",
       "      <td>False</td>\n",
       "    </tr>\n",
       "    <tr>\n",
       "      <th>998</th>\n",
       "      <td>False</td>\n",
       "      <td>False</td>\n",
       "      <td>False</td>\n",
       "      <td>False</td>\n",
       "    </tr>\n",
       "    <tr>\n",
       "      <th>999</th>\n",
       "      <td>False</td>\n",
       "      <td>False</td>\n",
       "      <td>False</td>\n",
       "      <td>False</td>\n",
       "    </tr>\n",
       "  </tbody>\n",
       "</table>\n",
       "<p>1000 rows × 4 columns</p>\n",
       "</div>"
      ],
      "text/plain": [
       "         0      1      2      3\n",
       "0    False  False  False  False\n",
       "1    False  False  False  False\n",
       "2    False  False  False  False\n",
       "3    False  False  False  False\n",
       "4    False  False  False  False\n",
       "..     ...    ...    ...    ...\n",
       "995  False   True  False  False\n",
       "996  False  False  False  False\n",
       "997  False  False  False  False\n",
       "998  False  False  False  False\n",
       "999  False  False  False  False\n",
       "\n",
       "[1000 rows x 4 columns]"
      ]
     },
     "execution_count": 19,
     "metadata": {},
     "output_type": "execute_result"
    }
   ],
   "source": [
    "data > data.mean() + 3*data.std()"
   ]
  },
  {
   "cell_type": "markdown",
   "id": "b4a6b5f8-962d-4f16-aa01-cc8dfa30928d",
   "metadata": {},
   "source": [
    "超过均值$+$3倍标准差的值，变成nan值，也就是替换成缺失值。"
   ]
  },
  {
   "cell_type": "code",
   "execution_count": 20,
   "id": "8d4b30e7-487a-4d16-bd66-b1d9972b024c",
   "metadata": {},
   "outputs": [],
   "source": [
    "import numpy as np\n",
    "data[data > data.mean() + 3*data.std()]=np.nan"
   ]
  },
  {
   "cell_type": "markdown",
   "id": "8a93be04-802d-44b4-bd59-76344f799a47",
   "metadata": {},
   "source": [
    "再将缺失值，替换成每一列的均值。"
   ]
  },
  {
   "cell_type": "code",
   "execution_count": 21,
   "id": "19b1250b-a9dd-4a80-a43c-f958cd665852",
   "metadata": {},
   "outputs": [],
   "source": [
    "data = data.fillna(data.mean())"
   ]
  },
  {
   "cell_type": "markdown",
   "id": "c103257e-b893-44ce-a941-e38554c8788a",
   "metadata": {},
   "source": [
    "到这里，就替换完成了。"
   ]
  },
  {
   "cell_type": "markdown",
   "id": "343d56fd-64b0-497e-8b28-b07396a4dafa",
   "metadata": {},
   "source": [
    "### 3.3 箱形图识别异常值"
   ]
  },
  {
   "cell_type": "markdown",
   "id": "2968d37e-e3f2-47e3-9429-ff8ca506e530",
   "metadata": {},
   "source": [
    "箱形图如下："
   ]
  },
  {
   "cell_type": "markdown",
   "id": "52048f78-85fc-47bb-89fe-8b013ceb0839",
   "metadata": {},
   "source": [
    "![箱形图](image/箱形图.png)"
   ]
  },
  {
   "cell_type": "markdown",
   "id": "b1983cf8-df21-48ac-bddc-bbb1b29e2683",
   "metadata": {},
   "source": [
    "异常值被定义为小于QL-1.5IQR或大于QU+1.5IQR的值：\n",
    "- QL称为下四分位数\n",
    "- QU称为上四分位数\n",
    "- IQR称为四分位区间，也即是上四分位数和下四分位数之差。\n",
    "- 上限：QU+1.5IQR\n",
    "- 下限：QL-1.5IQR"
   ]
  },
  {
   "cell_type": "code",
   "execution_count": 22,
   "id": "530b3203-69b6-45bf-87b9-ee156adeb817",
   "metadata": {},
   "outputs": [
    {
     "data": {
      "text/plain": [
       "<AxesSubplot:>"
      ]
     },
     "execution_count": 22,
     "metadata": {},
     "output_type": "execute_result"
    },
    {
     "data": {
      "image/png": "[encoded data removed]",
      "text/plain": [
       "<Figure size 432x216 with 1 Axes>"
      ]
     },
     "metadata": {
      "needs_background": "light"
     },
     "output_type": "display_data"
    }
   ],
   "source": [
    "import pandas as  pd\n",
    "data = pd.read_csv(\"datasets/sample_data03.csv\")\n",
    "data.boxplot(grid=False, figsize=(6,3))"
   ]
  },
  {
   "cell_type": "code",
   "execution_count": 23,
   "id": "22483a8c-4bdf-472a-8961-ed35147f285a",
   "metadata": {
    "tags": []
   },
   "outputs": [
    {
     "data": {
      "text/plain": [
       "<AxesSubplot:>"
      ]
     },
     "execution_count": 23,
     "metadata": {},
     "output_type": "execute_result"
    },
    {
     "data": {
      "image/png": "[encoded data removed]",
      "text/plain": [
       "<Figure size 432x216 with 1 Axes>"
      ]
     },
     "metadata": {
      "needs_background": "light"
     },
     "output_type": "display_data"
    }
   ],
   "source": [
    "import numpy as np\n",
    "QU = data.quantile(0.75)\n",
    "QL = data.quantile(0.25)\n",
    "IQR = QU - QL\n",
    "data[(data>=(QU + 1.5*IQR)) | (data<=(QL-1.5*IQR))] = np.nan\n",
    "data = data.fillna(data.quantile(0.5))\n",
    "data.boxplot(grid=False, figsize=(6,3))"
   ]
  },
  {
   "cell_type": "markdown",
   "id": "e39dfc90-2da2-426b-9652-4ddae26cdf34",
   "metadata": {},
   "source": [
    "## 4. 归一化(标准化)数据\n",
    "归一化(标准化)是一种数据预处理技术，用于将不同特征之间的数值范围标准化，以消除不同特征之间的量纲差异。常用的归一化(标准化)方法有如下几种："
   ]
  },
  {
   "cell_type": "markdown",
   "id": "77b1e4a2-c2d9-4960-bde6-7579a12a0c68",
   "metadata": {},
   "source": [
    "### 4.1 最小最大标准化"
   ]
  },
  {
   "cell_type": "markdown",
   "id": "6fc90aaa-6d62-4ba2-9999-a5f1db9fe4f0",
   "metadata": {},
   "source": [
    "最小最大标准化（Min-Max Normalization）是一种常用的数据标准化方法，用于将数据缩放到指定的范围内。\n",
    "该方法通过对数据进行线性变换，使其值域被缩放到指定的范围内，通常是 [0,1] 或 [-1,1]。\n",
    "\n",
    "该方法的公式如下：\n",
    "\n",
    "$$\n",
    "X_{norm} = (X - X_{min}) / (X_{max} - X_{min})\n",
    "$$\n",
    "\n",
    "通过最小最大标准化，保留原始数据之间的数值顺序，可以使得不同量纲的数据在同一标度下进行比较，且可以使得数据具有可比性。"
   ]
  },
  {
   "cell_type": "code",
   "execution_count": 24,
   "id": "52022d26-3fc7-4e2b-9161-db69909b0bc7",
   "metadata": {},
   "outputs": [],
   "source": [
    "def min_max_scaler(x):\n",
    "    return (x-x.min())/(x.max()-x.min())"
   ]
  },
  {
   "cell_type": "markdown",
   "id": "9c528391-0dfb-4cf7-a128-758929d99eee",
   "metadata": {},
   "source": [
    "### 4.2 均值标准差标准化\n",
    "Z-score 标准化（Z-score normalization）：将数据转换为均值为 0、标准差为 1 的分布。具体公式:\n",
    "\n",
    "$$\n",
    "X^{'} = \\frac{X-\\bar{X}}{\\sigma_X}\n",
    "$$\n",
    "$\n",
    "其中\\bar{X}为X的均值，\\sigma_X为X的标准差$\n",
    "\n",
    "假设数据总体分布符合正态分布，对数据样本进行均值标准差标准化后，使符合均值为0，方差为1的标准正态分布。均值标准差标准化也称Z-score方法。"
   ]
  },
  {
   "cell_type": "code",
   "execution_count": 25,
   "id": "f0ce01ec-84d4-45ab-a365-3b9d2f86ef41",
   "metadata": {},
   "outputs": [],
   "source": [
    "def stand_scaler(x):\n",
    "    \"\"\"\n",
    "    对x进行均值标准差标准化，并返回标准化后的结果\n",
    "    输入参数x为pandas.DataFrame类型\n",
    "    \"\"\"\n",
    "    return (x-x.mean())/x.std()"
   ]
  },
  {
   "cell_type": "markdown",
   "id": "32760f30-74f9-4847-96c2-7828f71d8925",
   "metadata": {},
   "source": [
    "### 4.3 小数定标标准化"
   ]
  },
  {
   "cell_type": "markdown",
   "id": "e62669f0-58d6-4ffe-8ad2-3769c6dfb798",
   "metadata": {},
   "source": [
    "小数定标规范化（Decimal Scaling Normalization）：将数据除以一个固定的基数，通常是 10 的幂次方。具体公式为:\n",
    "$$\n",
    "X^{'} = \\frac{X}{10^k}\n",
    "$$\n",
    "其中 X 表示原始数据，k 表示一个固定的幂次方。\n",
    "移动小数点的位置取决于一组数中最大绝对值的位数。\n",
    "\n",
    "比如：\n",
    "\n",
    "[100,2,30] 标准化为[0.1,0.002,0.03]\n",
    "\n",
    "[2,30,10]标准化为[0.02,0.3,0.1]\n",
    "\n"
   ]
  },
  {
   "cell_type": "code",
   "execution_count": 26,
   "id": "e4dbf8e1-18bc-406b-9595-6bc9f4a434cd",
   "metadata": {},
   "outputs": [
    {
     "data": {
      "text/plain": [
       "array([1.  , 0.02, 0.1 ])"
      ]
     },
     "execution_count": 26,
     "metadata": {},
     "output_type": "execute_result"
    }
   ],
   "source": [
    "import numpy as np\n",
    "def decimal_scaler(x):\n",
    "    k = int(np.log10(np.max(x)))\n",
    "    return x/10**(k)\n",
    "\n",
    "decimal_scaler(np.array([100,2,10]))"
   ]
  },
  {
   "cell_type": "markdown",
   "id": "63a55c4a-f578-45bf-9fda-1278f2a3fa33",
   "metadata": {},
   "source": [
    "总之，归一化方法的选择需要根据具体情况而定，通常需要考虑数据的分布情况、数据范围和算法的特点等因素。在实际应用中，可以尝试多种归一化方法，并比较它们在算法性能和准确性方面的表现，以选择最适合的方法。"
   ]
  },
  {
   "cell_type": "markdown",
   "id": "849fea1c-6896-42b7-a1bf-bd291ad3ae61",
   "metadata": {},
   "source": [
    "## 5. 哑变量处理"
   ]
  },
  {
   "cell_type": "markdown",
   "id": "27c759f4-b685-4f13-8828-6484538e9a5b",
   "metadata": {},
   "source": [
    "哑变量处理，也叫One-hot编码。数据分析的绝大多数模型都要求输入的特征为数值型，而非字符型等，所以这些特征需要经过哑变量处理才可以放入模型中。哑变量处理的原理如下：\n",
    "\n",
    "<center><img src=\"image/yabianliang1.png\" alt=\"image/yabianliang1.png\" width=\"600\" height=\"228\"></center>\n"
   ]
  },
  {
   "cell_type": "markdown",
   "id": "d940d2aa-07c5-4292-b73c-7d8195dd3209",
   "metadata": {},
   "source": [
    "下面，利用pandas库中的get_dummies函数对类别型特征进行哑变量处理\n",
    "```python\n",
    "pandas.get_dummies(data, prefix=None, prefix_sep='_', dummy_na=False, columns=None, sparse=False, drop_first=False)\n",
    "```\n",
    "<center><img src=\"image/yabianliang2.png\" alt=\"image/yabianliang2.png\" width=\"700\" height=\"228\"></center>\n",
    "\n"
   ]
  },
  {
   "cell_type": "markdown",
   "id": "4b4b2311-0eb3-43e5-ba16-552fc95bfa91",
   "metadata": {},
   "source": [
    "对于一个类别型特征，若其取值有m个，则经过哑变量处理后就变成了m个二元特征，并且这些特征互斥，每次只有一个激活，这使得数据变得稀疏。\n",
    "对类别型特征进行哑变量处理主要解决了部分算法模型无法处理类别型数据的问题，这在一定程度上起到了扩充特征的作用。由于数据变成了稀疏矩阵的形式，因此也加速了算法模型的运算速度。\n"
   ]
  },
  {
   "cell_type": "markdown",
   "id": "67ca291b-eef3-44ee-b804-303d5f082baf",
   "metadata": {},
   "source": [
    "以JD平台的巧克力商品为例，使用爬虫软件爬取的数据在路径`datasets/Chocolate.csv`。"
   ]
  },
  {
   "cell_type": "code",
   "execution_count": 27,
   "id": "7e565fd1-72f7-4559-a7aa-cb35132dc886",
   "metadata": {},
   "outputs": [
    {
     "data": {
      "text/html": [
       "<div>\n",
       "<style scoped>\n",
       "    .dataframe tbody tr th:only-of-type {\n",
       "        vertical-align: middle;\n",
       "    }\n",
       "\n",
       "    .dataframe tbody tr th {\n",
       "        vertical-align: top;\n",
       "    }\n",
       "\n",
       "    .dataframe thead th {\n",
       "        text-align: right;\n",
       "    }\n",
       "</style>\n",
       "<table border=\"1\" class=\"dataframe\">\n",
       "  <thead>\n",
       "    <tr style=\"text-align: right;\">\n",
       "      <th></th>\n",
       "      <th>价格</th>\n",
       "      <th>商品名称</th>\n",
       "      <th>评价数</th>\n",
       "    </tr>\n",
       "  </thead>\n",
       "  <tbody>\n",
       "    <tr>\n",
       "      <th>0</th>\n",
       "      <td>30.9</td>\n",
       "      <td>德芙Dove丝滑牛奶巧克力分享碗装 252g 代言人同款 休闲零食婚庆糖果礼品（新旧包装随机发放）</td>\n",
       "      <td>5000000</td>\n",
       "    </tr>\n",
       "    <tr>\n",
       "      <th>1</th>\n",
       "      <td>30.9</td>\n",
       "      <td>德芙Dove香浓黑巧克力分享碗装 252g 代言人同款办可可脂公室零食婚庆喜糖(新旧包装随机发放)</td>\n",
       "      <td>5000000</td>\n",
       "    </tr>\n",
       "    <tr>\n",
       "      <th>2</th>\n",
       "      <td>139.9</td>\n",
       "      <td>费列罗(FERRERO)榛果威化糖果巧克力制品 婚庆喜糖零食伴手礼 节日礼物员工福利 48粒...</td>\n",
       "      <td>2000000</td>\n",
       "    </tr>\n",
       "    <tr>\n",
       "      <th>3</th>\n",
       "      <td>399.0</td>\n",
       "      <td>歌帝梵GODIVA比利时进口夹心巧克力金装25枚万圣节礼物送儿童女友女朋友男朋友生日礼物情人...</td>\n",
       "      <td>20000</td>\n",
       "    </tr>\n",
       "    <tr>\n",
       "      <th>4</th>\n",
       "      <td>41.9</td>\n",
       "      <td>德芙 Dove分享碗装66%可可脂醇黑巧克力 252g 代言人同款糖果巧克力 休闲零食婚庆喜糖</td>\n",
       "      <td>5000000</td>\n",
       "    </tr>\n",
       "  </tbody>\n",
       "</table>\n",
       "</div>"
      ],
      "text/plain": [
       "      价格                                               商品名称      评价数\n",
       "0   30.9  德芙Dove丝滑牛奶巧克力分享碗装 252g 代言人同款 休闲零食婚庆糖果礼品（新旧包装随机发放）  5000000\n",
       "1   30.9  德芙Dove香浓黑巧克力分享碗装 252g 代言人同款办可可脂公室零食婚庆喜糖(新旧包装随机发放)  5000000\n",
       "2  139.9  费列罗(FERRERO)榛果威化糖果巧克力制品 婚庆喜糖零食伴手礼 节日礼物员工福利 48粒...  2000000\n",
       "3  399.0  歌帝梵GODIVA比利时进口夹心巧克力金装25枚万圣节礼物送儿童女友女朋友男朋友生日礼物情人...    20000\n",
       "4   41.9    德芙 Dove分享碗装66%可可脂醇黑巧克力 252g 代言人同款糖果巧克力 休闲零食婚庆喜糖  5000000"
      ]
     },
     "execution_count": 27,
     "metadata": {},
     "output_type": "execute_result"
    }
   ],
   "source": [
    "import pandas as pd\n",
    "df = pd.read_csv('datasets/Chocolate.csv')\n",
    "df.head(5)"
   ]
  },
  {
   "cell_type": "code",
   "execution_count": 28,
   "id": "5573732e-94f0-4a6c-9155-5f6c492d4433",
   "metadata": {},
   "outputs": [],
   "source": [
    "# 将以下代码封装成函数\n",
    "def func(data, key_word):\n",
    "    result = []\n",
    "    for i in data['商品名称']:\n",
    "        if key_word in i:\n",
    "            result.append(1)\n",
    "        else:\n",
    "            result.append(0)\n",
    "    return result"
   ]
  },
  {
   "cell_type": "code",
   "execution_count": 29,
   "id": "b3085d72-c583-4634-90a8-69aee4288ce0",
   "metadata": {},
   "outputs": [],
   "source": [
    "data = df[['价格', '评价数']]"
   ]
  },
  {
   "cell_type": "code",
   "execution_count": 30,
   "id": "503593d8-968b-45ef-a0af-f2e4b7be1635",
   "metadata": {},
   "outputs": [],
   "source": [
    "data['德芙'] = func(df, '德芙')\n",
    "data['好时'] = func(df, '好时')\n",
    "data['费列罗'] = func(df, '费列罗')\n",
    "data['Meiji'] = func(df, 'Meiji')\n",
    "data['歌帝梵'] = func(df, '歌帝梵')\n",
    "data['牛奶巧克力'] = func(df, '牛奶巧克力')\n",
    "data['夹心巧克力'] = func(df, '夹心巧克力')\n",
    "data['黑巧克力'] = func(df, '黑巧克力')\n",
    "data['榛果'] = func(df, '榛果')"
   ]
  },
  {
   "cell_type": "code",
   "execution_count": 31,
   "id": "9ca3b888-408d-4149-96a8-6afeb0d7746b",
   "metadata": {},
   "outputs": [
    {
     "data": {
      "text/html": [
       "<div>\n",
       "<style scoped>\n",
       "    .dataframe tbody tr th:only-of-type {\n",
       "        vertical-align: middle;\n",
       "    }\n",
       "\n",
       "    .dataframe tbody tr th {\n",
       "        vertical-align: top;\n",
       "    }\n",
       "\n",
       "    .dataframe thead th {\n",
       "        text-align: right;\n",
       "    }\n",
       "</style>\n",
       "<table border=\"1\" class=\"dataframe\">\n",
       "  <thead>\n",
       "    <tr style=\"text-align: right;\">\n",
       "      <th></th>\n",
       "      <th>价格</th>\n",
       "      <th>评价数</th>\n",
       "      <th>德芙</th>\n",
       "      <th>好时</th>\n",
       "      <th>费列罗</th>\n",
       "      <th>Meiji</th>\n",
       "      <th>歌帝梵</th>\n",
       "      <th>牛奶巧克力</th>\n",
       "      <th>夹心巧克力</th>\n",
       "      <th>黑巧克力</th>\n",
       "      <th>榛果</th>\n",
       "    </tr>\n",
       "  </thead>\n",
       "  <tbody>\n",
       "    <tr>\n",
       "      <th>0</th>\n",
       "      <td>30.9</td>\n",
       "      <td>5000000</td>\n",
       "      <td>1</td>\n",
       "      <td>0</td>\n",
       "      <td>0</td>\n",
       "      <td>0</td>\n",
       "      <td>0</td>\n",
       "      <td>1</td>\n",
       "      <td>0</td>\n",
       "      <td>0</td>\n",
       "      <td>0</td>\n",
       "    </tr>\n",
       "    <tr>\n",
       "      <th>1</th>\n",
       "      <td>30.9</td>\n",
       "      <td>5000000</td>\n",
       "      <td>1</td>\n",
       "      <td>0</td>\n",
       "      <td>0</td>\n",
       "      <td>0</td>\n",
       "      <td>0</td>\n",
       "      <td>0</td>\n",
       "      <td>0</td>\n",
       "      <td>1</td>\n",
       "      <td>0</td>\n",
       "    </tr>\n",
       "    <tr>\n",
       "      <th>2</th>\n",
       "      <td>139.9</td>\n",
       "      <td>2000000</td>\n",
       "      <td>0</td>\n",
       "      <td>0</td>\n",
       "      <td>1</td>\n",
       "      <td>0</td>\n",
       "      <td>0</td>\n",
       "      <td>0</td>\n",
       "      <td>0</td>\n",
       "      <td>0</td>\n",
       "      <td>1</td>\n",
       "    </tr>\n",
       "    <tr>\n",
       "      <th>3</th>\n",
       "      <td>399.0</td>\n",
       "      <td>20000</td>\n",
       "      <td>0</td>\n",
       "      <td>0</td>\n",
       "      <td>0</td>\n",
       "      <td>0</td>\n",
       "      <td>1</td>\n",
       "      <td>0</td>\n",
       "      <td>1</td>\n",
       "      <td>0</td>\n",
       "      <td>0</td>\n",
       "    </tr>\n",
       "    <tr>\n",
       "      <th>4</th>\n",
       "      <td>41.9</td>\n",
       "      <td>5000000</td>\n",
       "      <td>1</td>\n",
       "      <td>0</td>\n",
       "      <td>0</td>\n",
       "      <td>0</td>\n",
       "      <td>0</td>\n",
       "      <td>0</td>\n",
       "      <td>0</td>\n",
       "      <td>1</td>\n",
       "      <td>0</td>\n",
       "    </tr>\n",
       "  </tbody>\n",
       "</table>\n",
       "</div>"
      ],
      "text/plain": [
       "      价格      评价数  德芙  好时  费列罗  Meiji  歌帝梵  牛奶巧克力  夹心巧克力  黑巧克力  榛果\n",
       "0   30.9  5000000   1   0    0      0    0      1      0     0   0\n",
       "1   30.9  5000000   1   0    0      0    0      0      0     1   0\n",
       "2  139.9  2000000   0   0    1      0    0      0      0     0   1\n",
       "3  399.0    20000   0   0    0      0    1      0      1     0   0\n",
       "4   41.9  5000000   1   0    0      0    0      0      0     1   0"
      ]
     },
     "execution_count": 31,
     "metadata": {},
     "output_type": "execute_result"
    }
   ],
   "source": [
    "data.head(5)"
   ]
  },
  {
   "cell_type": "markdown",
   "id": "94c613a4-2ff9-41f1-858c-64339fb63f66",
   "metadata": {},
   "source": [
    "## 6. 字符串的替换"
   ]
  },
  {
   "cell_type": "markdown",
   "id": "e3a2bc78-b0a3-43eb-bc32-f31acf19d8e4",
   "metadata": {},
   "source": [
    "京东平台的评价数包含字符，例如："
   ]
  },
  {
   "cell_type": "code",
   "execution_count": 2,
   "id": "fc8427d8-7137-4624-8207-7d7288f6f0c9",
   "metadata": {},
   "outputs": [
    {
     "data": {
      "text/html": [
       "<div>\n",
       "<style scoped>\n",
       "    .dataframe tbody tr th:only-of-type {\n",
       "        vertical-align: middle;\n",
       "    }\n",
       "\n",
       "    .dataframe tbody tr th {\n",
       "        vertical-align: top;\n",
       "    }\n",
       "\n",
       "    .dataframe thead th {\n",
       "        text-align: right;\n",
       "    }\n",
       "</style>\n",
       "<table border=\"1\" class=\"dataframe\">\n",
       "  <thead>\n",
       "    <tr style=\"text-align: right;\">\n",
       "      <th></th>\n",
       "      <th>评价数</th>\n",
       "      <th>品牌</th>\n",
       "    </tr>\n",
       "  </thead>\n",
       "  <tbody>\n",
       "    <tr>\n",
       "      <th>0</th>\n",
       "      <td>1000评价</td>\n",
       "      <td>德芙</td>\n",
       "    </tr>\n",
       "    <tr>\n",
       "      <th>1</th>\n",
       "      <td>1000+评价</td>\n",
       "      <td>德芙</td>\n",
       "    </tr>\n",
       "    <tr>\n",
       "      <th>2</th>\n",
       "      <td>1万评价</td>\n",
       "      <td>德芙</td>\n",
       "    </tr>\n",
       "    <tr>\n",
       "      <th>3</th>\n",
       "      <td>1万+评价</td>\n",
       "      <td>德芙</td>\n",
       "    </tr>\n",
       "  </tbody>\n",
       "</table>\n",
       "</div>"
      ],
      "text/plain": [
       "       评价数  品牌\n",
       "0   1000评价  德芙\n",
       "1  1000+评价  德芙\n",
       "2     1万评价  德芙\n",
       "3    1万+评价  德芙"
      ]
     },
     "execution_count": 2,
     "metadata": {},
     "output_type": "execute_result"
    }
   ],
   "source": [
    "import pandas as pd\n",
    "df = pd.DataFrame({'评价数':['1000评价', '1000+评价', '1万评价', '1万+评价'],\n",
    "            '品牌':['德芙', '德芙','德芙','德芙']})\n",
    "df"
   ]
  },
  {
   "cell_type": "markdown",
   "id": "7a0ae7ce-79ff-4217-a41e-e6449a3ce9e2",
   "metadata": {},
   "source": [
    "使用字符串的replace方法，可以替换其中的字符为空字符串："
   ]
  },
  {
   "cell_type": "code",
   "execution_count": 10,
   "id": "571019e6-7acd-4d71-a6de-74985122a6e9",
   "metadata": {},
   "outputs": [
    {
     "data": {
      "text/plain": [
       "1000"
      ]
     },
     "execution_count": 10,
     "metadata": {},
     "output_type": "execute_result"
    }
   ],
   "source": [
    "int('1000评价'.replace('评价', ''))"
   ]
  },
  {
   "cell_type": "code",
   "execution_count": 11,
   "id": "84ba4cce-9323-4f0c-b61f-827991bf3991",
   "metadata": {},
   "outputs": [
    {
     "data": {
      "text/plain": [
       "1000"
      ]
     },
     "execution_count": 11,
     "metadata": {},
     "output_type": "execute_result"
    }
   ],
   "source": [
    "int('1000+评价'.replace('+评价', ''))"
   ]
  },
  {
   "cell_type": "code",
   "execution_count": 14,
   "id": "5a32b598-57e7-4744-a4d2-4dd108bb921d",
   "metadata": {},
   "outputs": [
    {
     "data": {
      "text/plain": [
       "10000"
      ]
     },
     "execution_count": 14,
     "metadata": {},
     "output_type": "execute_result"
    }
   ],
   "source": [
    "int('1万评价'.replace('万评价', '0000'))"
   ]
  },
  {
   "cell_type": "code",
   "execution_count": 15,
   "id": "5a456146-de07-4b07-b69b-2a2329bb5b83",
   "metadata": {},
   "outputs": [
    {
     "data": {
      "text/plain": [
       "10000"
      ]
     },
     "execution_count": 15,
     "metadata": {},
     "output_type": "execute_result"
    }
   ],
   "source": [
    "int('1万+评价'.replace('万+评价', '0000'))"
   ]
  },
  {
   "cell_type": "markdown",
   "id": "f51e73c6-d18c-4470-b1a6-b0334748f279",
   "metadata": {},
   "source": [
    "我们设计循环，按照一定的顺序来替换“评价数”这一列。这里需要注意，我们优先替换'万+评价'，然后再依次替换'万评价'，'+评价'，'评价'，避免因为字符互相包含，产生替换错误。"
   ]
  },
  {
   "cell_type": "code",
   "execution_count": 31,
   "id": "f5af1c16-aa80-4da9-aea5-ed47a0f6abd6",
   "metadata": {},
   "outputs": [],
   "source": [
    "res = []\n",
    "for i in df['评价数']:\n",
    "    if '万+评价' in i:\n",
    "        r = int(i.replace('万+评价', '0000'))\n",
    "    elif '万评价' in i:\n",
    "        r = int(i.replace('万评价', '0000'))\n",
    "    elif '+评价' in i:\n",
    "        r = int(i.replace('+评价', ''))\n",
    "    elif '评价' in i:\n",
    "        r = int(i.replace('评价', ''))\n",
    "    else:\n",
    "        print(i)\n",
    "    res.append(r)"
   ]
  },
  {
   "cell_type": "code",
   "execution_count": 33,
   "id": "4724009c-ce6b-4d34-bfc1-45e03b2effde",
   "metadata": {},
   "outputs": [],
   "source": [
    "df['评价数'] =res"
   ]
  },
  {
   "cell_type": "code",
   "execution_count": 34,
   "id": "ee11e69a-3397-4d6d-95fc-0961e5a3228c",
   "metadata": {},
   "outputs": [
    {
     "data": {
      "text/html": [
       "<div>\n",
       "<style scoped>\n",
       "    .dataframe tbody tr th:only-of-type {\n",
       "        vertical-align: middle;\n",
       "    }\n",
       "\n",
       "    .dataframe tbody tr th {\n",
       "        vertical-align: top;\n",
       "    }\n",
       "\n",
       "    .dataframe thead th {\n",
       "        text-align: right;\n",
       "    }\n",
       "</style>\n",
       "<table border=\"1\" class=\"dataframe\">\n",
       "  <thead>\n",
       "    <tr style=\"text-align: right;\">\n",
       "      <th></th>\n",
       "      <th>评价数</th>\n",
       "      <th>品牌</th>\n",
       "    </tr>\n",
       "  </thead>\n",
       "  <tbody>\n",
       "    <tr>\n",
       "      <th>0</th>\n",
       "      <td>1000</td>\n",
       "      <td>德芙</td>\n",
       "    </tr>\n",
       "    <tr>\n",
       "      <th>1</th>\n",
       "      <td>1000</td>\n",
       "      <td>德芙</td>\n",
       "    </tr>\n",
       "    <tr>\n",
       "      <th>2</th>\n",
       "      <td>10000</td>\n",
       "      <td>德芙</td>\n",
       "    </tr>\n",
       "    <tr>\n",
       "      <th>3</th>\n",
       "      <td>10000</td>\n",
       "      <td>德芙</td>\n",
       "    </tr>\n",
       "  </tbody>\n",
       "</table>\n",
       "</div>"
      ],
      "text/plain": [
       "     评价数  品牌\n",
       "0   1000  德芙\n",
       "1   1000  德芙\n",
       "2  10000  德芙\n",
       "3  10000  德芙"
      ]
     },
     "execution_count": 34,
     "metadata": {},
     "output_type": "execute_result"
    }
   ],
   "source": [
    "df"
   ]
  }
 ],
 "metadata": {
  "kernelspec": {
   "display_name": "Python 3 (ipykernel)",
   "language": "python",
   "name": "python3"
  },
  "language_info": {
   "codemirror_mode": {
    "name": "ipython",
    "version": 3
   },
   "file_extension": ".py",
   "mimetype": "text/x-python",
   "name": "python",
   "nbconvert_exporter": "python",
   "pygments_lexer": "ipython3",
   "version": "3.9.13"
  }
 },
 "nbformat": 4,
 "nbformat_minor": 5
}
