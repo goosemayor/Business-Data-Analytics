{
 "cells": [
  {
   "cell_type": "markdown",
   "id": "bc8a82d9-23d9-485d-862d-db8f02a46463",
   "metadata": {},
   "source": [
    "# 练习：请创建一个元祖 [容易]\n",
    "\n",
    "使用元祖创建一个变量 account_info，包含账户名：\"user_01\"，和密码\"123456\"。接着分别打印账户名和密码。\n",
    "\n",
    "\n",
    "## **答案**\n",
    "\n",
    "```python\n",
    "account_info = ('user_01', '123456')\n",
    "print('account_name:', account_info[0])\n",
    "print('account_name:',  account_info[1])\n",
    "```\n",
    "\n",
    "\n"
   ]
  },
  {
   "cell_type": "code",
   "execution_count": null,
   "id": "0423d2bb-4a73-4c6c-83dc-b8d9146a6591",
   "metadata": {},
   "outputs": [],
   "source": []
  }
 ],
 "metadata": {
  "kernelspec": {
   "display_name": "Python 3 (ipykernel)",
   "language": "python",
   "name": "python3"
  },
  "language_info": {
   "codemirror_mode": {
    "name": "ipython",
    "version": 3
   },
   "file_extension": ".py",
   "mimetype": "text/x-python",
   "name": "python",
   "nbconvert_exporter": "python",
   "pygments_lexer": "ipython3",
   "version": "3.8.5"
  }
 },
 "nbformat": 4,
 "nbformat_minor": 5
}
